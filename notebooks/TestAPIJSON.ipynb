{
 "cells": [
  {
   "cell_type": "code",
   "execution_count": 1,
   "metadata": {},
   "outputs": [],
   "source": [
    "import json\n",
    "import requests\n",
    "from unittest import TestCase\n",
    "\n",
    "case = TestCase()"
   ]
  },
  {
   "cell_type": "code",
   "execution_count": 2,
   "metadata": {},
   "outputs": [],
   "source": [
    "LOCAL = 'http://localhost:8000/'"
   ]
  },
  {
   "cell_type": "code",
   "execution_count": 3,
   "metadata": {},
   "outputs": [
    {
     "name": "stdout",
     "output_type": "stream",
     "text": [
      "{'artefatorecinto': {'coordenadasartefato': [{'ordem': 1, 'lat': -23.932556, 'long': -46.324775}], 'operadorevento': '25052288840', 'tipoartefato': 'Camera', 'IDEvento': 1001, 'operadorregistro': '30531678830', 'codigo': 'Camera Codesp ALFSTS', 'retificador': False, 'dataregistro': '2019-05-29T01:54:09.071Z', 'dataevento': '2019-05-29T01:54:09.071Z'}, 'AcessoPessoa': {'operadorevento': 'string', 'numerovoo': 'string', 'reserva': 'string', 'dataevento': '2019-05-28T11:05:54.208Z', 'dataregistro': '2019-05-28T11:05:54.208Z', 'cpf': 'string', 'IDEvento': 0, 'operadorregistro': 'string', 'portaoacesso': 'string', 'identidade': 'string', 'retificador': False, 'direcao': 'Entrada', 'formaidentificacao': 'C'}, 'InspecaonaoInvasiva': {'operadorevento': 'string', 'documentotransporte': 'string', 'numero': 'string', 'anexos': [{'contentType': 'string', 'datacriacao': '2019-05-31T02:55:50.300000+00:00', 'content': 'string', 'caminhoarquivo': 'string', 'datamodificacao': '2019-05-31T02:55:50.300000+00:00'}], 'capturaautomatica': True, 'identificadores': [{'identificador': 'string'}], 'placa': 'string', 'placasemireboque': 'string', 'IDEvento': 0, 'operadorregistro': 'string', 'tipodocumentotransporte': 'CE', 'dataevento': '2019-05-28T12:18:41.204Z', 'dataregistro': '2019-05-28T12:18:41.204Z', 'retificador': False}, 'PesagemMaritimo': {'operadorevento': 'string', 'documentotransporte': 'string', 'capturaautomatica': True, 'numero': 'string', 'placa': 'string', 'placasemireboque': 'string', 'taraconjunto': 0, 'IDEvento': 0, 'operadorregistro': 'string', 'tipodocumentotransporte': 'CE', 'pesobalanca': 0, 'pesobrutodeclarado': 0, 'dataevento': '2019-05-28T11:45:43.499Z', 'dataregistro': '2019-05-28T11:45:43.499Z', 'retificador': False}, 'posicaoveiculo': {'operadorevento': 'string', 'documentotransporte': 'string', 'camera': 'string', 'observacaodivergencia': 'string', 'conteineres': [{'numero': 'string', 'vazio': True}], 'solicitante': 'RFB', 'placa': 'string', 'dataevento': '2019-05-28T11:17:55.041Z', 'emconferencia': True, 'box': 'string', 'IDEvento': 0, 'operadorregistro': 'string', 'tipodocumentotransporte': 'CE', 'reboques': [{'vazio': True, 'placa': 'string'}], 'retificador': False, 'dataregistro': '2019-05-28T11:17:55.041Z', 'divergencia': True}, 'desunitizacao': {'tipodocumentotransporte': 'CE', 'operadorevento': 'string', 'documentotransporte': 'string', 'numero': 'string', 'placa': 'string', 'imagens': [{'contentType': 'string', 'datacriacao': '2019-05-31T02:55:50.300000+00:00', 'content': '0', 'caminhoarquivo': 'string', 'datamodificacao': '2019-05-31T02:55:50.300000+00:00'}], 'placasemireboque': 'string', 'IDEvento': 0, 'operadorregistro': 'string', 'lotes': [{'marca': 'string', 'tipodocumentopapel': 'BL', 'qtdefalta': 0, 'qtdevolumes': 0, 'documentopapel': 'string', 'pesolote': 0, 'tipodocumentodesconsolidacao': 'CE', 'falta': True, 'acrescimo': True, 'tipovolume': 'bigbag', 'observacoes': 'string', 'numerolote': 'string', 'documentodesconsolidacao': 'string'}], 'dataevento': '2019-05-28T11:10:34.540Z', 'dataregistro': '2019-05-28T11:10:34.540Z', 'retificador': False}, 'pesagemveiculovazio': {'operadorevento': 'string', 'IDEvento': 0, 'operadorregistro': 'string', 'pesobalanca': 0, 'reboques': [{'placa': 'string'}], 'retificador': False, 'placa': 'string', 'dataregistro': '2019-05-28T11:15:25.870Z', 'dataevento': '2019-05-28T11:15:25.870Z'}, 'AvariaLote': {'operadorevento': 'string', 'IDEvento': 0, 'operadorregistro': 'string', 'descricaoavaria': 'string', 'qtdevolumes': 0, 'retificador': False, 'numerolote': 'string', 'dataregistro': '2019-05-28T11:10:07.161Z', 'dataevento': '2019-05-28T11:10:07.161Z'}, 'pesagemterrestre': {'operadorevento': 'string', 'documentotransporte': 'string', 'reboques': [{'placa': 'string', 'tara': 0}], 'capturaautomatica': True, 'placa': 'string', 'conteineres': [{'numero': 'string', 'tara': 0}], 'IDEvento': 0, 'operadorregistro': 'string', 'tipodocumentotransporte': 'CE', 'pesobalanca': 0, 'pesobrutodeclarado': 0, 'dataevento': '2019-05-28T11:14:14.252Z', 'dataregistro': '2019-05-28T11:14:14.252Z', 'tara': 0, 'retificador': False}, 'AcessoVeiculo': {'CTE': 'string', 'dataliberacao': '2019-05-24T16:49:17.917Z', 'reboques': [{'vazio': True, 'placa': 'string', 'avarias': 'string', 'lacres': 'string'}], 'cpfmotorista': 'string', 'ocr': True, 'nometransportador': 'string', 'placa': 'string', 'nomecliente': 'string', 'conteineres': [{'vazio': False, 'numero': 'string', 'avarias': 'string', 'lacres': 'string'}], 'nomemotorista': 'string', 'cpfcnpjtransportador': 'string', 'IDGate': 'string', 'DTC': 'string', 'dataevento': '2019-05-24T16:49:17.917Z', 'operadorevento': 'string', 'tipooperacao': 'Entrada', 'manifesto': 'string', 'navioembarque': 'string', 'paisdestino': 'string', 'cpfcnpjcliente': 'string', 'Chassi': 'string', 'IDEvento': 0, 'operadorregistro': 'string', 'dataregistro': '2019-05-24T16:49:17.917Z', 'IDAgendamento': 0, 'retificador': False}, 'posicaolote': {'operadorevento': 'string', 'posicao': 'string', 'IDEvento': 0, 'operadorregistro': 'string', 'qtdevolumes': 'string', 'retificador': False, 'numerolote': 0, 'dataregistro': '2019-05-28T11:16:53.793Z', 'dataevento': '2019-05-28T11:16:53.793Z'}, 'DTSC': {'operadorevento': 'string', 'cargas': [{'placasemireboque': 'string', 'documentotransporte': 'string', 'numero': 'string', 'tipodocumentotransporte': 'CE', 'placa': 'string', 'cpfcnpjtransportador': 'string', 'codigorecinto': 'string', 'cpfcnpjproprietario': 'string'}], 'IDEvento': 0, 'operadorregistro': 'string', 'imonavio': 'string', 'viagem': 'string', 'dataoperacao': '2019-05-28T11:01:40.071Z', 'retificador': False, 'dataregistro': '2019-05-28T11:01:40.071Z', 'dataevento': '2019-05-28T11:01:40.071Z'}, 'unitizacao': {'tipodocumentotransporte': 'CE', 'operadorevento': 'string', 'documentotransporte': 'string', 'numero': 'string', 'placa': 'string', 'imagens': [{'contentType': 'string', 'datacriacao': '2019-05-31T02:55:50.300000+00:00', 'content': '0', 'caminhoarquivo': 'string', 'datamodificacao': '2019-05-31T02:55:50.300000+00:00'}], 'placasemireboque': 'string', 'IDEvento': 0, 'operadorregistro': 'string', 'lotes': [{'qtdevolumes': 0, 'numerolote': 'string'}], 'dataevento': '2019-05-28T11:19:08.529Z', 'dataregistro': '2019-05-28T11:19:08.529Z', 'retificador': False}, 'PosicaoConteiner': {'operadorevento': 'string', 'solicitante': 'RFB', 'dataevento': '2019-05-24T16:48:21.245Z', 'numero': 'string', 'placa': 'string', 'posicao': 'string', 'IDEvento': 0, 'operadorregistro': 'string', 'altura': 0, 'retificador': False, 'dataregistro': '2019-05-24T16:48:21.245Z', 'emconferencia': True}, 'operacaonavio': {'operadorevento': 'string', 'viagem': 'string', 'peso': 0, 'numero': 'string', 'porto': 'string', 'dataregistro': '2019-05-30T03:38:04.632Z', 'posicao': 'string', 'IDEvento': 1, 'operadorregistro': 'string', 'imonavio': 'string', 'dataevento': '2019-05-30T03:38:04.632Z', 'direcao': 'Arrumacao', 'retificador': True}, 'ocorrencia': {'disponivel': True, 'operadorevento': 'string', 'tipoartefato': 'Gate', 'IDEvento': 1, 'operadorregistro': 'string', 'motivo': 'string', 'codigo': 'string', 'retificador': True, 'dataregistro': '2019-05-30T03:36:45.605Z', 'dataevento': '2019-05-30T03:36:45.605Z'}}\n"
     ]
    }
   ],
   "source": [
    "with open('../tests/testes.json', 'r') as json_in:\n",
    "    testes = json.load(json_in)\n",
    "print(testes)"
   ]
  },
  {
   "cell_type": "code",
   "execution_count": 4,
   "metadata": {},
   "outputs": [
    {
     "name": "stdout",
     "output_type": "stream",
     "text": [
      "artefatorecinto\n",
      "201\n",
      "4570759851113691579\n",
      "\n",
      "AcessoPessoa\n",
      "201\n",
      "146970220817833486\n",
      "\n",
      "InspecaonaoInvasiva\n",
      "201\n",
      "-599867063919944554\n",
      "\n",
      "PesagemMaritimo\n",
      "201\n",
      "2461515046258707858\n",
      "\n",
      "posicaoveiculo\n",
      "201\n",
      "1550846350342712034\n",
      "\n",
      "desunitizacao\n",
      "201\n",
      "-7277236521758529453\n",
      "\n",
      "pesagemveiculovazio\n",
      "201\n",
      "-6298654600563662185\n",
      "\n",
      "AvariaLote\n",
      "201\n",
      "-2755105797088464734\n",
      "\n",
      "pesagemterrestre\n",
      "201\n",
      "7176327898157537678\n",
      "\n",
      "AcessoVeiculo\n",
      "201\n",
      "2974737660139514207\n",
      "\n",
      "posicaolote\n",
      "201\n",
      "-3976431808412580806\n",
      "\n",
      "DTSC\n",
      "201\n",
      "6011867168601452536\n",
      "\n",
      "unitizacao\n",
      "201\n",
      "56993952544071783\n",
      "\n",
      "PosicaoConteiner\n",
      "201\n",
      "-2235579184052928094\n",
      "\n",
      "operacaonavio\n",
      "201\n",
      "-6957339371367091681\n",
      "\n",
      "ocorrencia\n",
      "201\n",
      "-4373618645737268397\n",
      "\n"
     ]
    }
   ],
   "source": [
    "for classe, teste in testes.items():\n",
    "    rv = requests.post(LOCAL + classe.lower(), json=teste)\n",
    "    print(classe)\n",
    "    print(rv.status_code)\n",
    "    print(rv.text)"
   ]
  },
  {
   "cell_type": "code",
   "execution_count": 5,
   "metadata": {},
   "outputs": [],
   "source": [
    "def extractDictAFromB(A, B):\n",
    "    return dict([(k, B[k]) for k in A.keys() if k in B.keys()])\n"
   ]
  },
  {
   "cell_type": "code",
   "execution_count": 9,
   "metadata": {},
   "outputs": [
    {
     "name": "stdout",
     "output_type": "stream",
     "text": [
      "artefatorecinto\n",
      "200\n",
      "InspecaonaoInvasiva\n",
      "200\n",
      "PesagemMaritimo\n",
      "200\n",
      "posicaoveiculo\n",
      "200\n",
      "pesagemveiculovazio\n",
      "200\n",
      "desunitizacao\n",
      "200\n",
      "AcessoVeiculo\n",
      "200\n",
      "Missing: 'CTE','dataliberacao','ocr','nometransportador','nomecliente','nomemotorista','cpfcnpjtransportador','DTC','tipooperacao','manifesto','navioembarque','paisdestino','cpfcnpjcliente','Chassi','IDAgendamento'\n",
      "operacaonavio\n",
      "200\n",
      "unitizacao\n",
      "200\n",
      "PosicaoConteiner\n",
      "200\n",
      "AvariaLote\n",
      "200\n",
      "pesagemterrestre\n",
      "200\n",
      "posicaolote\n",
      "200\n",
      "DTSC\n",
      "200\n",
      "AcessoPessoa\n",
      "200\n",
      "ocorrencia\n",
      "200\n"
     ]
    }
   ],
   "source": [
    "ltestes = testes.copy()\n",
    "for classe, teste in ltestes.items():\n",
    "    print(classe)\n",
    "    rv = requests.get(LOCAL + classe.lower() + '/' + str(teste['IDEvento']))\n",
    "    print(rv.status_code)\n",
    "    if rv.status_code == 200:\n",
    "        response_json = rv.json()\n",
    "        for data in ['dataevento', 'dataregistro', 'dataoperacao']:\n",
    "            if teste.get(data) is not None:\n",
    "                teste.pop(data)\n",
    "            if response_json.get(data) is not None:\n",
    "                response_json.pop(data)\n",
    "        try:\n",
    "            sub_response = extractDictAFromB(teste, response_json)\n",
    "            # case.assertDictEqual(teste, sub_response)\n",
    "            '''\n",
    "            for key, value in teste.items():\n",
    "                if isinstance(value, list):\n",
    "                    for item in value:\n",
    "                        response_item =  sub_response.get(key)\n",
    "                        if response_item is not None:\n",
    "                            print(value)\n",
    "                            print(response_item)\n",
    "                            # case.assertEqual(value, response_item)\n",
    "            '''\n",
    "            case.assertDictContainsSubset(teste, sub_response)\n",
    "            # case.assertDictEqual(lteste, response_json)\n",
    "        except AssertionError as err:\n",
    "            print(err)\n",
    "    # print(rv.text)"
   ]
  },
  {
   "cell_type": "code",
   "execution_count": 7,
   "metadata": {},
   "outputs": [
    {
     "name": "stdout",
     "output_type": "stream",
     "text": [
      "200\n",
      "[\n",
      "  {\n",
      "    \"ID\": 1, \n",
      "    \"IDEvento\": 0, \n",
      "    \"capturaautomatica\": true, \n",
      "    \"dataevento\": \"2019-05-28T11:45:43.499000Z\", \n",
      "    \"dataregistro\": \"2019-05-28T11:45:43.499000Z\", \n",
      "    \"documentotransporte\": \"string\", \n",
      "    \"hash\": 2461515046258707858, \n",
      "    \"numero\": \"string\", \n",
      "    \"operadorevento\": \"string\", \n",
      "    \"operadorregistro\": \"string\", \n",
      "    \"pesobalanca\": 0, \n",
      "    \"pesobrutodeclarado\": 0, \n",
      "    \"placa\": \"string\", \n",
      "    \"placasemireboque\": \"string\", \n",
      "    \"recinto\": \"00001\", \n",
      "    \"request_IP\": \"127.0.0.1\", \n",
      "    \"retificador\": false, \n",
      "    \"taraconjunto\": 0, \n",
      "    \"time_created\": \"2019-05-31T11:58:26Z\", \n",
      "    \"tipodocumentotransporte\": \"CE\"\n",
      "  }\n",
      "]\n",
      "\n"
     ]
    }
   ],
   "source": [
    "import time\n",
    "s0 = time.time()\n",
    "query = {'IDEvento': -1,\n",
    "       'tipoevento': 'PesagemMaritimo'}\n",
    "r = requests.get(LOCAL + 'get_eventos_novos',\n",
    "                  data=query)\n",
    "s1 = time.time()\n",
    "print(r.status_code)\n",
    "print(r.text[:1000])"
   ]
  },
  {
   "cell_type": "code",
   "execution_count": null,
   "metadata": {},
   "outputs": [],
   "source": []
  }
 ],
 "metadata": {
  "kernelspec": {
   "display_name": "Python 3",
   "language": "python",
   "name": "python3"
  },
  "language_info": {
   "codemirror_mode": {
    "name": "ipython",
    "version": 3
   },
   "file_extension": ".py",
   "mimetype": "text/x-python",
   "name": "python",
   "nbconvert_exporter": "python",
   "pygments_lexer": "ipython3",
   "version": "3.5.2"
  }
 },
 "nbformat": 4,
 "nbformat_minor": 2
}
