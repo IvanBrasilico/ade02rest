{
 "cells": [
  {
   "cell_type": "code",
   "execution_count": 1,
   "metadata": {},
   "outputs": [],
   "source": [
    "import requests"
   ]
  },
  {
   "cell_type": "code",
   "execution_count": 2,
   "metadata": {},
   "outputs": [],
   "source": [
    "LOCAL = 'http://localhost:8000/'"
   ]
  },
  {
   "cell_type": "code",
   "execution_count": 3,
   "metadata": {},
   "outputs": [
    {
     "name": "stdout",
     "output_type": "stream",
     "text": [
      "{'PesagemMaritimo': {'taraconjunto': 0, 'documentotransporte': 'string', 'dataevento': '2019-05-28T11:45:43.499Z', 'IDEvento': 0, 'placa': 'string', 'placasemireboque': 'string', 'pesobalanca': 0, 'pesobrutodeclarado': 0, 'operadorregistro': 'string', 'operadorevento': 'string', 'numero': 'string', 'capturaautomatica': True, 'dataregistro': '2019-05-28T11:45:43.499Z', 'retificador': False, 'tipodocumentotransporte': 'CE'}, 'AcessoPessoa': {'dataevento': '2019-05-28T11:05:54.208Z', 'cpf': 'string', 'direcao': 'Entrada', 'IDEvento': 0, 'reserva': 'string', 'identidade': 'string', 'portaoacesso': 'string', 'operadorregistro': 'string', 'operadorevento': 'string', 'numerovoo': 'string', 'formaidentificacao': 'C', 'dataregistro': '2019-05-28T11:05:54.208Z', 'retificador': False}, 'DTSC': {'operadorregistro': 'string', 'operadorevento': 'string', 'dataevento': '2019-05-28T11:01:40.071Z', 'viagem': 'string', 'IDEvento': 0, 'cargas': [{'documentotransporte': 'string', 'cpfcnpjtransportador': 'string', 'cpfcnpjproprietario': 'string', 'numero': 'string', 'placa': 'string', 'placasemireboque': 'string', 'codigorecinto': 'string', 'tipodocumentotransporte': 'CE'}], 'dataregistro': '2019-05-28T11:01:40.071Z', 'retificador': False, 'imonavio': 'string', 'dataoperacao': '2019-05-28T11:01:40.071Z'}, 'AvariaLote': {'operadorregistro': 'string', 'operadorevento': 'string', 'dataevento': '2019-05-28T11:10:07.161Z', 'numerolote': 'string', 'qtdevolumes': 0, 'IDEvento': 0, 'descricaoavaria': 'string', 'dataregistro': '2019-05-28T11:10:07.161Z', 'retificador': False}, 'PosicaoConteiner': {'dataevento': '2019-05-24T16:48:21.245Z', 'posicao': 'string', 'IDEvento': 0, 'placa': 'string', 'operadorregistro': 'string', 'operadorevento': 'string', 'solicitante': 'RFB', 'altura': 0, 'emconferencia': True, 'numero': 'string', 'dataregistro': '2019-05-24T16:48:21.245Z', 'retificador': False}}\n"
     ]
    }
   ],
   "source": [
    "import json\n",
    "with open('../tests/testes.json', 'r') as json_in:\n",
    "    testes = json.load(json_in)\n",
    "print(testes)"
   ]
  },
  {
   "cell_type": "code",
   "execution_count": 4,
   "metadata": {},
   "outputs": [
    {
     "name": "stdout",
     "output_type": "stream",
     "text": [
      "PesagemMaritimo\n",
      "201\n",
      "-1639801358287867342\n",
      "\n",
      "AcessoPessoa\n",
      "201\n",
      "-3100701191779931312\n",
      "\n",
      "DTSC\n",
      "201\n",
      "-6940548506605856063\n",
      "\n",
      "AvariaLote\n",
      "201\n",
      "7388419614241886408\n",
      "\n",
      "PosicaoConteiner\n",
      "201\n",
      "4797670680440821044\n",
      "\n"
     ]
    }
   ],
   "source": [
    "for classe, teste in testes.items():\n",
    "    rv = requests.post(LOCAL + classe.lower(), json=teste)\n",
    "    print(classe)\n",
    "    print(rv.status_code)\n",
    "    print(rv.text)"
   ]
  },
  {
   "cell_type": "code",
   "execution_count": 10,
   "metadata": {},
   "outputs": [
    {
     "name": "stdout",
     "output_type": "stream",
     "text": [
      "PesagemMaritimo\n",
      "200\n",
      "{\n",
      "  \"ID\": 1,\n",
      "  \"IDEvento\": 0,\n",
      "  \"capturaautomatica\": true,\n",
      "  \"dataevento\": \"2019-05-28T11:45:43.499000Z\",\n",
      "  \"dataregistro\": \"2019-05-28T11:45:43.499000Z\",\n",
      "  \"documentotransporte\": \"string\",\n",
      "  \"hash\": -1639801358287867342,\n",
      "  \"numero\": \"string\",\n",
      "  \"operadorevento\": \"string\",\n",
      "  \"operadorregistro\": \"string\",\n",
      "  \"pesobalanca\": 0,\n",
      "  \"pesobrutodeclarado\": 0,\n",
      "  \"placa\": \"string\",\n",
      "  \"placasemireboque\": \"string\",\n",
      "  \"recinto\": \"00001\",\n",
      "  \"request_IP\": \"127.0.0.1\",\n",
      "  \"retificador\": false,\n",
      "  \"taraconjunto\": 0,\n",
      "  \"time_created\": \"2019-05-30T17:52:20Z\",\n",
      "  \"tipodocumentotransporte\": \"CE\"\n",
      "}\n",
      "\n",
      "AcessoPessoa\n",
      "200\n",
      "{\n",
      "  \"ID\": 1,\n",
      "  \"IDEvento\": 0,\n",
      "  \"cpf\": \"string\",\n",
      "  \"dataevento\": \"2019-05-28T11:05:54.208000Z\",\n",
      "  \"dataregistro\": \"2019-05-28T11:05:54.208000Z\",\n",
      "  \"direcao\": \"Entrada\",\n",
      "  \"formaidentificacao\": \"C\",\n",
      "  \"hash\": -3100701191779931312,\n",
      "  \"identidade\": \"string\",\n",
      "  \"numerovoo\": \"string\",\n",
      "  \"operadorevento\": \"string\",\n",
      "  \"operadorregistro\": \"string\",\n",
      "  \"portaoacesso\": \"string\",\n",
      "  \"recinto\": \"00001\",\n",
      "  \"request_IP\": \"127.0.0.1\",\n",
      "  \"reserva\": \"string\",\n",
      "  \"retificador\": false,\n",
      "  \"time_created\": \"2019-05-30T17:52:20Z\"\n",
      "}\n",
      "\n",
      "DTSC\n",
      "200\n",
      "{\n",
      "  \"ID\": 1,\n",
      "  \"IDEvento\": 0,\n",
      "  \"dataevento\": \"2019-05-28T11:01:40.071000Z\",\n",
      "  \"dataoperacao\": \"2019-05-28T11:01:40.071000Z\",\n",
      "  \"dataregistro\": \"2019-05-28T11:01:40.071000Z\",\n",
      "  \"hash\": -6940548506605856063,\n",
      "  \"imonavio\": \"string\",\n",
      "  \"operadorevento\": \"string\",\n",
      "  \"operadorregistro\": \"string\",\n",
      "  \"recinto\": \"00001\",\n",
      "  \"request_IP\": \"127.0.0.1\",\n",
      "  \"retificador\": false,\n",
      "  \"time_created\": \"2019-05-30T17:52:20Z\",\n",
      "  \"viagem\": \"string\"\n",
      "}\n",
      "\n",
      "AvariaLote\n",
      "200\n",
      "{\n",
      "  \"ID\": 1,\n",
      "  \"IDEvento\": 0,\n",
      "  \"dataevento\": \"2019-05-28T11:10:07.161000Z\",\n",
      "  \"dataregistro\": \"2019-05-28T11:10:07.161000Z\",\n",
      "  \"descricaoavaria\": \"string\",\n",
      "  \"hash\": 7388419614241886408,\n",
      "  \"numerolote\": \"string\",\n",
      "  \"operadorevento\": \"string\",\n",
      "  \"operadorregistro\": \"string\",\n",
      "  \"qtdevolumes\": 0,\n",
      "  \"recinto\": \"00001\",\n",
      "  \"request_IP\": \"127.0.0.1\",\n",
      "  \"retificador\": false,\n",
      "  \"time_created\": \"2019-05-30T17:52:20Z\"\n",
      "}\n",
      "\n",
      "PosicaoConteiner\n",
      "200\n",
      "{\n",
      "  \"ID\": 1,\n",
      "  \"IDEvento\": 0,\n",
      "  \"altura\": 0,\n",
      "  \"dataevento\": \"2019-05-24T16:48:21.245000Z\",\n",
      "  \"dataregistro\": \"2019-05-24T16:48:21.245000Z\",\n",
      "  \"emconferencia\": true,\n",
      "  \"hash\": 4797670680440821044,\n",
      "  \"numero\": \"string\",\n",
      "  \"operadorevento\": \"string\",\n",
      "  \"operadorregistro\": \"string\",\n",
      "  \"placa\": \"string\",\n",
      "  \"posicao\": \"string\",\n",
      "  \"recinto\": \"00001\",\n",
      "  \"request_IP\": \"127.0.0.1\",\n",
      "  \"retificador\": false,\n",
      "  \"solicitante\": \"RFB\",\n",
      "  \"time_created\": \"2019-05-30T17:52:20Z\"\n",
      "}\n",
      "\n"
     ]
    }
   ],
   "source": [
    "for classe, teste in testes.items():\n",
    "    print(classe)\n",
    "    rv = requests.get(LOCAL + classe.lower() + '/' + str(teste['IDEvento']))\n",
    "    print(rv.status_code)\n",
    "    print(rv.text)"
   ]
  },
  {
   "cell_type": "code",
   "execution_count": 13,
   "metadata": {},
   "outputs": [
    {
     "name": "stdout",
     "output_type": "stream",
     "text": [
      "200\n",
      "[\n",
      "  {\n",
      "    \"ID\": 1, \n",
      "    \"IDEvento\": 0, \n",
      "    \"capturaautomatica\": true, \n",
      "    \"dataevento\": \"2019-05-28T11:45:43.499000Z\", \n",
      "    \"dataregistro\": \"2019-05-28T11:45:43.499000Z\", \n",
      "    \"documentotransporte\": \"string\", \n",
      "    \"hash\": -1639801358287867342, \n",
      "    \"numero\": \"string\", \n",
      "    \"operadorevento\": \"string\", \n",
      "    \"operadorregistro\": \"string\", \n",
      "    \"pesobalanca\": 0, \n",
      "    \"pesobrutodeclarado\": 0, \n",
      "    \"placa\": \"string\", \n",
      "    \"placasemireboque\": \"string\", \n",
      "    \"recinto\": \"00001\", \n",
      "    \"request_IP\": \"127.0.0.1\", \n",
      "    \"retificador\": false, \n",
      "    \"taraconjunto\": 0, \n",
      "    \"time_created\": \"2019-05-30T17:52:20Z\", \n",
      "    \"tipodocumentotransporte\": \"CE\"\n",
      "  }\n",
      "]\n",
      "\n"
     ]
    }
   ],
   "source": [
    "import time\n",
    "s0 = time.time()\n",
    "query = {'IDEvento': -1,\n",
    "       'tipoevento': 'PesagemMaritimo'}\n",
    "r = requests.get(LOCAL + 'get_eventos_novos',\n",
    "                  data=query)\n",
    "s1 = time.time()\n",
    "print(r.status_code)\n",
    "print(r.text[:1000])"
   ]
  },
  {
   "cell_type": "code",
   "execution_count": null,
   "metadata": {},
   "outputs": [],
   "source": []
  }
 ],
 "metadata": {
  "kernelspec": {
   "display_name": "Python 3",
   "language": "python",
   "name": "python3"
  },
  "language_info": {
   "codemirror_mode": {
    "name": "ipython",
    "version": 3
   },
   "file_extension": ".py",
   "mimetype": "text/x-python",
   "name": "python",
   "nbconvert_exporter": "python",
   "pygments_lexer": "ipython3",
   "version": "3.5.2"
  }
 },
 "nbformat": 4,
 "nbformat_minor": 2
}
