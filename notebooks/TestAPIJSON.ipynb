{
 "cells": [
  {
   "cell_type": "code",
   "execution_count": 1,
   "metadata": {},
   "outputs": [],
   "source": [
    "import json\n",
    "import requests\n",
    "from unittest import TestCase\n",
    "\n",
    "case = TestCase()"
   ]
  },
  {
   "cell_type": "code",
   "execution_count": 2,
   "metadata": {},
   "outputs": [],
   "source": [
    "LOCAL = 'http://localhost:8000/'"
   ]
  },
  {
   "cell_type": "code",
   "execution_count": 3,
   "metadata": {},
   "outputs": [
    {
     "name": "stdout",
     "output_type": "stream",
     "text": [
      "{'desunitizacao': {'operadorregistro': 'string', 'tipodocumentotransporte': 'CE', 'placa': 'string', 'operadorevento': 'string', 'imagens': [{'caminhoarquivo': 'string', 'contentType': 'string', 'datacriacao': '2019-05-31T02:55:50.300000+00:00', 'content': '0', 'datamodificacao': '2019-05-31T02:55:50.300000+00:00'}], 'numero': 'string', 'retificador': False, 'IDEvento': 0, 'dataregistro': '2019-05-28T11:10:34.540Z', 'lotes': [{'qtdevolumes': 0, 'falta': True, 'marca': 'string', 'tipovolume': 'bigbag', 'observacoes': 'string', 'pesolote': 0, 'numerolote': 'string', 'tipodocumentopapel': 'BL', 'tipodocumentodesconsolidacao': 'CE', 'documentodesconsolidacao': 'string', 'documentopapel': 'string', 'qtdefalta': 0, 'acrescimo': True}], 'placasemireboque': 'string', 'documentotransporte': 'string', 'dataevento': '2019-05-28T11:10:34.540Z'}, 'PesagemMaritimo': {'operadorregistro': 'string', 'taraconjunto': 0, 'tipodocumentotransporte': 'CE', 'placa': 'string', 'operadorevento': 'string', 'capturaautomatica': True, 'numero': 'string', 'retificador': False, 'pesobrutodeclarado': 0, 'IDEvento': 0, 'dataregistro': '2019-05-28T11:45:43.499Z', 'placasemireboque': 'string', 'pesobalanca': 0, 'documentotransporte': 'string', 'dataevento': '2019-05-28T11:45:43.499Z'}, 'ocorrencia': {'motivo': 'string', 'retificador': True, 'IDEvento': 1, 'dataregistro': '2019-05-30T03:36:45.605Z', 'operadorevento': 'string', 'disponivel': True, 'tipoartefato': 'Gate', 'codigo': 'string', 'dataevento': '2019-05-30T03:36:45.605Z', 'operadorregistro': 'string'}, 'pesagemterrestre': {'operadorregistro': 'string', 'tipodocumentotransporte': 'CE', 'placa': 'string', 'operadorevento': 'string', 'reboques': [{'tara': 0, 'placa': 'string'}], 'capturaautomatica': True, 'dataevento': '2019-05-28T11:14:14.252Z', 'retificador': False, 'pesobrutodeclarado': 0, 'IDEvento': 0, 'dataregistro': '2019-05-28T11:14:14.252Z', 'pesobalanca': 0, 'documentotransporte': 'string', 'tara': 0, 'conteineres': [{'tara': 0, 'numero': 'string'}]}, 'unitizacao': {'operadorregistro': 'string', 'tipodocumentotransporte': 'CE', 'placa': 'string', 'operadorevento': 'string', 'imagens': [{'caminhoarquivo': 'string', 'contentType': 'string', 'datacriacao': '2019-05-31T02:55:50.300000+00:00', 'content': '0', 'datamodificacao': '2019-05-31T02:55:50.300000+00:00'}], 'numero': 'string', 'retificador': False, 'IDEvento': 0, 'dataregistro': '2019-05-28T11:19:08.529Z', 'lotes': [{'qtdevolumes': 0, 'numerolote': 'string'}], 'placasemireboque': 'string', 'documentotransporte': 'string', 'dataevento': '2019-05-28T11:19:08.529Z'}, 'DTSC': {'retificador': False, 'IDEvento': 0, 'dataregistro': '2019-05-28T11:01:40.071Z', 'imonavio': 'string', 'operadorevento': 'string', 'cargas': [{'documentotransporte': 'string', 'codigorecinto': 'string', 'cpfcnpjtransportador': 'string', 'placa': 'string', 'placasemireboque': 'string', 'tipodocumentotransporte': 'CE', 'cpfcnpjproprietario': 'string', 'numero': 'string'}], 'viagem': 'string', 'dataoperacao': '2019-05-28T11:01:40.071Z', 'dataevento': '2019-05-28T11:01:40.071Z', 'operadorregistro': 'string'}, 'pesagemveiculovazio': {'retificador': False, 'IDEvento': 0, 'dataregistro': '2019-05-28T11:15:25.870Z', 'placa': 'string', 'operadorevento': 'string', 'pesobalanca': 0, 'reboques': [{'placa': 'string'}], 'dataevento': '2019-05-28T11:15:25.870Z', 'operadorregistro': 'string'}, 'AcessoVeiculo': {'nometransportador': 'string', 'placa': 'string', 'pesoespecial': True, 'dataliberacao': '2019-05-31T12:10:45.083Z', 'modal': 'Ferroviario', 'operadorregistro': 'string', 'dataregistro': '2019-05-31T12:10:45.083Z', 'dataagendamento': '2019-05-31T12:10:45.083Z', 'tipodocumentotransporte': 'CE', 'conteineres': [{'lacressif': 'string', 'lacresverificados': 'string', 'cpfcnpjcliente': 'string', 'portodescarga': 'string', 'avarias': 'string', 'numerobooking': 'string', 'numero': 'string', 'lacressifverificados': 'string', 'vazio': True, 'nomecliente': 'string', 'localsif': 'string', 'navioembarque': 'string', 'paisdestino': 'string', 'lacres': 'string'}], 'ocr': True, 'listanfe': [{'chavenfe': 'string'}], 'tipooperacao': 'Entrada', 'cpfcnpjtransportador': 'string', 'operadorevento': 'string', 'IDAgendamento': 0, 'reboques': [{'lacressif': 'string', 'lacressifverificados': 'string', 'vazio': True, 'lacresverificados': 'string', 'placa': 'string', 'cnpjestadia': 'string', 'avarias': 'string', 'localsif': 'string', 'nomeestadia': 'string', 'lacres': 'string'}], 'cpfmotorista': 'string', 'IDGate': 'string', 'retificador': True, 'IDEvento': 0, 'dimensaoespecial': True, 'nomemotorista': 'string', 'documentotransporte': 'string', 'dataevento': '2019-05-31T12:10:45.083Z'}, 'posicaoveiculo': {'tipodocumentotransporte': 'CE', 'observacaodivergencia': 'string', 'placa': 'string', 'operadorevento': 'string', 'divergencia': True, 'reboques': [{'vazio': True, 'placa': 'string'}], 'operadorregistro': 'string', 'retificador': False, 'IDEvento': 0, 'dataregistro': '2019-05-28T11:17:55.041Z', 'camera': 'string', 'emconferencia': True, 'conteineres': [{'vazio': True, 'numero': 'string'}], 'documentotransporte': 'string', 'solicitante': 'RFB', 'dataevento': '2019-05-28T11:17:55.041Z', 'box': 'string'}, 'artefatorecinto': {'coordenadasartefato': [{'lat': -23.932556, 'ordem': 1, 'long': -46.324775}], 'retificador': False, 'IDEvento': 1001, 'dataregistro': '2019-05-29T01:54:09.071Z', 'operadorevento': '25052288840', 'tipoartefato': 'Camera', 'codigo': 'Camera Codesp ALFSTS', 'dataevento': '2019-05-29T01:54:09.071Z', 'operadorregistro': '30531678830'}, 'AvariaLote': {'qtdevolumes': 0, 'retificador': False, 'IDEvento': 0, 'dataregistro': '2019-05-28T11:10:07.161Z', 'descricaoavaria': 'string', 'operadorevento': 'string', 'numerolote': 'string', 'dataevento': '2019-05-28T11:10:07.161Z', 'operadorregistro': 'string'}, 'PosicaoConteiner': {'placa': 'string', 'operadorevento': 'string', 'posicao': 'string', 'numero': 'string', 'retificador': False, 'IDEvento': 0, 'dataregistro': '2019-05-24T16:48:21.245Z', 'altura': 0, 'emconferencia': True, 'operadorregistro': 'string', 'solicitante': 'RFB', 'dataevento': '2019-05-24T16:48:21.245Z'}, 'operacaonavio': {'operadorevento': 'string', 'posicao': 'string', 'numero': 'string', 'retificador': True, 'IDEvento': 1, 'dataregistro': '2019-05-30T03:38:04.632Z', 'peso': 0, 'imonavio': 'string', 'direcao': 'Arrumacao', 'viagem': 'string', 'operadorregistro': 'string', 'dataevento': '2019-05-30T03:38:04.632Z', 'porto': 'string'}, 'AcessoPessoa': {'reserva': 'string', 'cpf': 'string', 'portaoacesso': 'string', 'operadorevento': 'string', 'formaidentificacao': 'C', 'numerovoo': 'string', 'retificador': False, 'IDEvento': 0, 'dataregistro': '2019-05-28T11:05:54.208Z', 'direcao': 'Entrada', 'operadorregistro': 'string', 'dataevento': '2019-05-28T11:05:54.208Z', 'identidade': 'string'}, 'posicaolote': {'qtdevolumes': 'string', 'retificador': False, 'IDEvento': 0, 'dataregistro': '2019-05-28T11:16:53.793Z', 'operadorevento': 'string', 'posicao': 'string', 'numerolote': 0, 'dataevento': '2019-05-28T11:16:53.793Z', 'operadorregistro': 'string'}, 'InspecaonaoInvasiva': {'operadorregistro': 'string', 'identificadores': [{'identificador': 'string'}], 'tipodocumentotransporte': 'CE', 'placa': 'string', 'anexos': [{'caminhoarquivo': 'string', 'contentType': 'string', 'datacriacao': '2019-05-31T02:55:50.300000+00:00', 'content': 'string', 'datamodificacao': '2019-05-31T02:55:50.300000+00:00'}], 'operadorevento': 'string', 'capturaautomatica': True, 'numero': 'string', 'retificador': False, 'IDEvento': 0, 'dataregistro': '2019-05-28T12:18:41.204Z', 'placasemireboque': 'string', 'documentotransporte': 'string', 'dataevento': '2019-05-28T12:18:41.204Z'}}\n"
     ]
    }
   ],
   "source": [
    "with open('../tests/testes.json', 'r') as json_in:\n",
    "    testes = json.load(json_in)\n",
    "print(testes)"
   ]
  },
  {
   "cell_type": "code",
   "execution_count": 4,
   "metadata": {},
   "outputs": [
    {
     "name": "stdout",
     "output_type": "stream",
     "text": [
      "desunitizacao\n",
      "201\n",
      "4273874933070458978\n",
      "\n",
      "PesagemMaritimo\n",
      "201\n",
      "5057254149720431223\n",
      "\n",
      "ocorrencia\n",
      "201\n",
      "35540862613471353\n",
      "\n",
      "pesagemterrestre\n",
      "201\n",
      "-734697622934267525\n",
      "\n",
      "unitizacao\n",
      "201\n",
      "-8710139967807684206\n",
      "\n",
      "DTSC\n",
      "201\n",
      "8637110972847485914\n",
      "\n",
      "pesagemveiculovazio\n",
      "201\n",
      "2163621580011596676\n",
      "\n",
      "AcessoVeiculo\n",
      "400\n",
      "\"Class 'builtins.dict' is not mapped\"\n",
      "\n",
      "posicaoveiculo\n",
      "201\n",
      "604091999014655905\n",
      "\n",
      "artefatorecinto\n",
      "201\n",
      "-4572046313034764957\n",
      "\n",
      "AvariaLote\n",
      "201\n",
      "6411752285493719112\n",
      "\n",
      "PosicaoConteiner\n",
      "201\n",
      "-888358736655736134\n",
      "\n",
      "operacaonavio\n",
      "201\n",
      "7929504720655386351\n",
      "\n",
      "AcessoPessoa\n",
      "201\n",
      "6590807620664223724\n",
      "\n",
      "posicaolote\n",
      "201\n",
      "2466031413226208400\n",
      "\n",
      "InspecaonaoInvasiva\n",
      "201\n",
      "-1114295827052722677\n",
      "\n"
     ]
    }
   ],
   "source": [
    "for classe, teste in testes.items():\n",
    "    rv = requests.post(LOCAL + classe.lower(), json=teste)\n",
    "    print(classe)\n",
    "    print(rv.status_code)\n",
    "    print(rv.text)"
   ]
  },
  {
   "cell_type": "code",
   "execution_count": 5,
   "metadata": {},
   "outputs": [],
   "source": [
    "def extractDictAFromB(A, B):\n",
    "    return dict([(k, B[k]) for k in A.keys() if k in B.keys()])\n"
   ]
  },
  {
   "cell_type": "code",
   "execution_count": 6,
   "metadata": {},
   "outputs": [
    {
     "name": "stdout",
     "output_type": "stream",
     "text": [
      "PesagemMaritimo\n",
      "200\n",
      "unitizacao\n",
      "200\n",
      "DTSC\n",
      "200\n",
      "posicaoveiculo\n",
      "200\n",
      "artefatorecinto\n",
      "200\n",
      "AvariaLote\n",
      "200\n",
      "PosicaoConteiner\n",
      "200\n",
      "InspecaonaoInvasiva\n",
      "200\n",
      "desunitizacao\n",
      "200\n",
      "ocorrencia\n",
      "200\n",
      "pesagemterrestre\n",
      "200\n",
      "pesagemveiculovazio\n",
      "200\n",
      "AcessoVeiculo\n",
      "404\n",
      "operacaonavio\n",
      "200\n",
      "AcessoPessoa\n",
      "200\n",
      "posicaolote\n",
      "200\n"
     ]
    }
   ],
   "source": [
    "ltestes = testes.copy()\n",
    "for classe, teste in ltestes.items():\n",
    "    print(classe)\n",
    "    rv = requests.get(LOCAL + classe.lower() + '/' + str(teste['IDEvento']))\n",
    "    print(rv.status_code)\n",
    "    if rv.status_code == 200:\n",
    "        response_json = rv.json()\n",
    "        for data in ['dataevento', 'dataregistro', 'dataoperacao', 'dataliberacao']:\n",
    "            if teste.get(data) is not None:\n",
    "                teste.pop(data)\n",
    "            if response_json.get(data) is not None:\n",
    "                response_json.pop(data)\n",
    "        try:\n",
    "            sub_response = extractDictAFromB(teste, response_json)\n",
    "            # case.assertDictEqual(teste, sub_response)\n",
    "            '''\n",
    "            for key, value in teste.items():\n",
    "                if isinstance(value, list):\n",
    "                    for item in value:\n",
    "                        response_item =  sub_response.get(key)\n",
    "                        if response_item is not None:\n",
    "                            print(value)\n",
    "                            print(response_item)\n",
    "                            # case.assertEqual(value, response_item)\n",
    "            '''\n",
    "            case.assertDictContainsSubset(teste, sub_response)\n",
    "            # case.assertDictEqual(lteste, response_json)\n",
    "        except AssertionError as err:\n",
    "            print(err)\n",
    "    # print(rv.text)"
   ]
  },
  {
   "cell_type": "code",
   "execution_count": 7,
   "metadata": {},
   "outputs": [
    {
     "name": "stdout",
     "output_type": "stream",
     "text": [
      "200\n",
      "[\n",
      "  {\n",
      "    \"ID\": 1, \n",
      "    \"IDEvento\": 0, \n",
      "    \"capturaautomatica\": true, \n",
      "    \"dataevento\": \"2019-05-28T11:45:43.499000Z\", \n",
      "    \"dataregistro\": \"2019-05-28T11:45:43.499000Z\", \n",
      "    \"documentotransporte\": \"string\", \n",
      "    \"hash\": 5057254149720431223, \n",
      "    \"numero\": \"string\", \n",
      "    \"operadorevento\": \"string\", \n",
      "    \"operadorregistro\": \"string\", \n",
      "    \"pesobalanca\": 0, \n",
      "    \"pesobrutodeclarado\": 0, \n",
      "    \"placa\": \"string\", \n",
      "    \"placasemireboque\": \"string\", \n",
      "    \"recinto\": \"00001\", \n",
      "    \"request_IP\": \"127.0.0.1\", \n",
      "    \"retificador\": false, \n",
      "    \"taraconjunto\": 0, \n",
      "    \"time_created\": \"2019-05-31T15:48:53Z\", \n",
      "    \"tipodocumentotransporte\": \"CE\"\n",
      "  }\n",
      "]\n",
      "\n"
     ]
    }
   ],
   "source": [
    "import time\n",
    "s0 = time.time()\n",
    "query = {'IDEvento': -1,\n",
    "       'tipoevento': 'PesagemMaritimo'}\n",
    "r = requests.get(LOCAL + 'get_eventos_novos',\n",
    "                  data=query)\n",
    "s1 = time.time()\n",
    "print(r.status_code)\n",
    "print(r.text[:1000])"
   ]
  },
  {
   "cell_type": "code",
   "execution_count": null,
   "metadata": {},
   "outputs": [],
   "source": []
  }
 ],
 "metadata": {
  "kernelspec": {
   "display_name": "Python 3",
   "language": "python",
   "name": "python3"
  },
  "language_info": {
   "codemirror_mode": {
    "name": "ipython",
    "version": 3
   },
   "file_extension": ".py",
   "mimetype": "text/x-python",
   "name": "python",
   "nbconvert_exporter": "python",
   "pygments_lexer": "ipython3",
   "version": "3.5.2"
  }
 },
 "nbformat": 4,
 "nbformat_minor": 2
}
