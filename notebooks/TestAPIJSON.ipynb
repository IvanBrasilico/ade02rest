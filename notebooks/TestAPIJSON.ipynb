{
 "cells": [
  {
   "cell_type": "code",
   "execution_count": 17,
   "metadata": {},
   "outputs": [],
   "source": [
    "import requests"
   ]
  },
  {
   "cell_type": "code",
   "execution_count": 18,
   "metadata": {},
   "outputs": [],
   "source": [
    "LOCAL = 'http://localhost:8000/'"
   ]
  },
  {
   "cell_type": "code",
   "execution_count": 19,
   "metadata": {},
   "outputs": [
    {
     "name": "stdout",
     "output_type": "stream",
     "text": [
      "{'PosicaoConteiner': {'numero': 'string', 'emconferencia': True, 'IDEvento': 0, 'placa': 'string', 'posicao': 'string', 'operadorevento': 'string', 'operadorregistro': 'string', 'retificador': False, 'solicitante': 'RFB', 'dataregistro': '2019-05-24T16:48:21.245Z', 'dataevento': '2019-05-24T16:48:21.245Z', 'altura': 0}, 'PesagemMaritimo': {'numero': 'string', 'taraconjunto': 0, 'documentotransporte': 'string', 'pesobrutodeclarado': 0, 'IDEvento': 0, 'placa': 'string', 'operadorevento': 'string', 'tipodocumentotransporte': 'CE', 'capturaautomatica': True, 'pesobalanca': 0, 'retificador': False, 'placasemireboque': 'string', 'dataregistro': '2019-05-28T11:45:43.499Z', 'dataevento': '2019-05-28T11:45:43.499Z', 'operadorregistro': 'string'}, 'DTSC': {'viagem': 'string', 'dataoperacao': '2019-05-28T11:01:40.071Z', 'operadorregistro': 'string', 'imonavio': 'string', 'IDEvento': 0, 'retificador': False, 'dataregistro': '2019-05-28T11:01:40.071Z', 'dataevento': '2019-05-28T11:01:40.071Z', 'cargas': [{'numero': 'string', 'tipodocumentotransporte': 'CE', 'cpfcnpjtransportador': 'string', 'placa': 'string', 'documentotransporte': 'string', 'cpfcnpjproprietario': 'string', 'codigorecinto': 'string', 'placasemireboque': 'string'}], 'operadorevento': 'string'}, 'AvariaLote': {'descricaoavaria': 'string', 'operadorregistro': 'string', 'numerolote': 'string', 'IDEvento': 0, 'retificador': False, 'qtdevolumes': 0, 'dataregistro': '2019-05-28T11:10:07.161Z', 'dataevento': '2019-05-28T11:10:07.161Z', 'operadorevento': 'string'}, 'AcessoPessoa': {'cpf': 'string', 'IDEvento': 0, 'portaoacesso': 'string', 'reserva': 'string', 'numerovoo': 'string', 'operadorevento': 'string', 'formaidentificacao': 'C', 'operadorregistro': 'string', 'identidade': 'string', 'retificador': False, 'dataregistro': '2019-05-28T11:05:54.208Z', 'dataevento': '2019-05-28T11:05:54.208Z', 'direcao': 'Entrada'}}\n"
     ]
    }
   ],
   "source": [
    "import json\n",
    "with open('testes.json', 'r') as json_in:\n",
    "    testes = json.load(json_in)\n",
    "print(testes)"
   ]
  },
  {
   "cell_type": "code",
   "execution_count": 21,
   "metadata": {},
   "outputs": [
    {
     "name": "stdout",
     "output_type": "stream",
     "text": [
      "PosicaoConteiner\n",
      "405\n",
      "\"Evento repetido ou campo invalido: (sqlite3.IntegrityError) UNIQUE constraint failed: posicoesconteiner.recinto, posicoesconteiner.IDEvento\\n[SQL: INSERT INTO posicoesconteiner (\\\"IDEvento\\\", dataevento, operadorevento, dataregistro, operadorregistro, recinto, \\\"request_IP\\\", retificador, numero, placa, posicao, altura, emconferencia, solicitante) VALUES (?, ?, ?, ?, ?, ?, ?, ?, ?, ?, ?, ?, ?, ?)]\\n[parameters: (0, '2019-05-24 16:48:21.245000', 'string', '2019-05-24 16:48:21.245000', 'string', '00001', '127.0.0.1', 0, 'string', 'string', 'string', 0, 1, 'RFB')]\\n(Background on this error at: http://sqlalche.me/e/gkpj)\"\n",
      "\n",
      "PesagemMaritimo\n",
      "405\n",
      "\"Evento repetido ou campo invalido: (sqlite3.IntegrityError) UNIQUE constraint failed: pesagensmaritimo.recinto, pesagensmaritimo.IDEvento\\n[SQL: INSERT INTO pesagensmaritimo (\\\"IDEvento\\\", dataevento, operadorevento, dataregistro, operadorregistro, recinto, \\\"request_IP\\\", retificador, documentotransporte, tipodocumentotransporte, numero, placa, placasemireboque, pesobrutodeclarado, taraconjunto, pesobalanca, capturaautomatica) VALUES (?, ?, ?, ?, ?, ?, ?, ?, ?, ?, ?, ?, ?, ?, ?, ?, ?)]\\n[parameters: (0, '2019-05-28 11:45:43.499000', 'string', '2019-05-28 11:45:43.499000', 'string', '00001', '127.0.0.1', 0, 'string', 'CE', 'string', 'string', 'string', 0, 0, 0, 1)]\\n(Background on this error at: http://sqlalche.me/e/gkpj)\"\n",
      "\n",
      "DTSC\n",
      "404\n",
      "{\n",
      "  \"detail\": \"The requested URL was not found on the server. If you entered the URL manually please check your spelling and try again.\",\n",
      "  \"status\": 404,\n",
      "  \"title\": \"Not Found\",\n",
      "  \"type\": \"about:blank\"\n",
      "}\n",
      "\n",
      "AvariaLote\n",
      "201\n",
      "-3394736408306358309\n",
      "\n",
      "AcessoPessoa\n",
      "201\n",
      "-9149637120744294834\n",
      "\n"
     ]
    }
   ],
   "source": [
    "for classe, teste in testes.items():\n",
    "    rv = requests.post(LOCAL + classe.lower(), json=teste)\n",
    "    print(classe)\n",
    "    print(rv.status_code)\n",
    "    print(rv.text)"
   ]
  },
  {
   "cell_type": "code",
   "execution_count": 22,
   "metadata": {},
   "outputs": [
    {
     "name": "stdout",
     "output_type": "stream",
     "text": [
      "PosicaoConteiner\n",
      "400\n",
      "\"Multiple rows were found for one_or_none()\"\n",
      "\n",
      "PesagemMaritimo\n",
      "400\n",
      "\"Multiple rows were found for one_or_none()\"\n",
      "\n",
      "DTSC\n",
      "400\n",
      "\"Multiple rows were found for one_or_none()\"\n",
      "\n",
      "AvariaLote\n",
      "400\n",
      "\"Multiple rows were found for one_or_none()\"\n",
      "\n",
      "AcessoPessoa\n",
      "400\n",
      "\"Multiple rows were found for one_or_none()\"\n",
      "\n"
     ]
    }
   ],
   "source": [
    "for classe, teste in testes.items():\n",
    "    print(classe)\n",
    "    rv = requests.get(LOCAL + classe.lower())\n",
    "    rv = requests.get(LOCAL + 'acessopessoa/0')\n",
    "    print(rv.status_code)\n",
    "    print(rv.text)"
   ]
  },
  {
   "cell_type": "code",
   "execution_count": 37,
   "metadata": {},
   "outputs": [
    {
     "name": "stdout",
     "output_type": "stream",
     "text": [
      "200\n",
      "[\n",
      "  {\n",
      "    \"ID\": 2, \n",
      "    \"IDEvento\": 1, \n",
      "    \"capturaautomatica\": true, \n",
      "    \"dataevento\": \"2019-05-28T16:50:02.450497Z\", \n",
      "    \"dataregistro\": \"2019-05-28T16:50:02.450497Z\", \n",
      "    \"documentotransporte\": \"ScQP s  GCS Q\", \n",
      "    \"hash\": -6228561499361064826, \n",
      "    \"numero\": null, \n",
      "    \"operadorevento\": \"IBBOSGPFVOL\", \n",
      "    \"operadorregistro\": \"IBBOSGPFVOL\", \n",
      "    \"pesobalanca\": 9063, \n",
      "    \"pesobrutodeclarado\": 6158, \n",
      "    \"placa\": \"CZB55249\", \n",
      "    \"placasemireboque\": \"IQA81890\", \n",
      "    \"recinto\": \"00001\", \n",
      "    \"request_IP\": \"127.0.0.1\", \n",
      "    \"retificador\": false, \n",
      "    \"taraconjunto\": 10913, \n",
      "    \"time_created\": \"2019-05-28T19:50:04Z\", \n",
      "    \"tipodocumentotransporte\": \"CE\"\n",
      "  }, \n",
      "  {\n",
      "    \"ID\": 3, \n",
      "    \"IDEvento\": 2, \n",
      "    \"capturaautomatica\": true, \n",
      "    \"dataevento\": \"2019-05-28T16:50:02.450554Z\", \n",
      "    \"dataregistro\": \"2019-05-28T16:50:02.450554Z\", \n",
      "    \"documentotransporte\": \"OdJJJZNBcjXlBRzGHuS\", \n",
      "    \"hash\": 7426620730026009243, \n",
      "    \"numero\": null, \n",
      "    \"operadorevento\": \"IERCPJDGRUS\", \n",
      "    \"opera\n"
     ]
    }
   ],
   "source": [
    "import time\n",
    "s0 = time.time()\n",
    "query = {'IDEvento': 0,\n",
    "       'tipoevento': 'PesagemMaritimo'}\n",
    "r = requests.get(LOCAL + 'get_eventos_novos',\n",
    "                  data=query)\n",
    "s1 = time.time()\n",
    "print(r.status_code)\n",
    "print(r.text[:1000])"
   ]
  },
  {
   "cell_type": "code",
   "execution_count": 38,
   "metadata": {},
   "outputs": [
    {
     "name": "stdout",
     "output_type": "stream",
     "text": [
      "{'dataregistro': '2019-05-28T16:50:02.450497Z', 'operadorevento': 'IBBOSGPFVOL', 'dataevento': '2019-05-28T16:50:02.450497Z', 'documentotransporte': 'ScQP s  GCS Q', 'IDEvento': 1, 'hash': -6228561499361064826, 'ID': 2, 'pesobalanca': 9063, 'time_created': '2019-05-28T19:50:04Z', 'operadorregistro': 'IBBOSGPFVOL', 'placa': 'CZB55249', 'placasemireboque': 'IQA81890', 'numero': None, 'recinto': '00001', 'request_IP': '127.0.0.1', 'tipodocumentotransporte': 'CE', 'pesobrutodeclarado': 6158, 'taraconjunto': 10913, 'retificador': False, 'capturaautomatica': True}\n",
      "{'dataregistro': '2019-05-28T16:50:02.450554Z', 'operadorevento': 'IERCPJDGRUS', 'dataevento': '2019-05-28T16:50:02.450554Z', 'documentotransporte': 'OdJJJZNBcjXlBRzGHuS', 'IDEvento': 2, 'hash': 7426620730026009243, 'ID': 3, 'pesobalanca': 11539, 'time_created': '2019-05-28T19:50:04Z', 'operadorregistro': 'IERCPJDGRUS', 'placa': 'KPH73788', 'placasemireboque': 'MHE25493', 'numero': None, 'recinto': '00001', 'request_IP': '127.0.0.1', 'tipodocumentotransporte': 'CE', 'pesobrutodeclarado': 7916, 'taraconjunto': 9917, 'retificador': False, 'capturaautomatica': True}\n",
      "{'dataregistro': '2019-05-28T16:50:02.450603Z', 'operadorevento': 'ZNIJNOPXEHM', 'dataevento': '2019-05-28T16:50:02.450603Z', 'documentotransporte': 'qD c myQfAa', 'IDEvento': 3, 'hash': -2767748308726150703, 'ID': 4, 'pesobalanca': 11667, 'time_created': '2019-05-28T19:50:04Z', 'operadorregistro': 'ZNIJNOPXEHM', 'placa': 'UCC87208', 'placasemireboque': 'VOA57002', 'numero': None, 'recinto': '00001', 'request_IP': '127.0.0.1', 'tipodocumentotransporte': 'CE', 'pesobrutodeclarado': 14911, 'taraconjunto': 11663, 'retificador': False, 'capturaautomatica': True}\n",
      "{'dataregistro': '2019-05-28T16:50:02.450650Z', 'operadorevento': 'ZNIJNOPXEHM', 'dataevento': '2019-05-28T16:50:02.450650Z', 'documentotransporte': 'kbTJr jUIeOXcVDfuVV', 'IDEvento': 4, 'hash': -7136469627453569988, 'ID': 5, 'pesobalanca': 8686, 'time_created': '2019-05-28T19:50:04Z', 'operadorregistro': 'ZNIJNOPXEHM', 'placa': 'CZP77291', 'placasemireboque': 'XQB49205', 'numero': None, 'recinto': '00001', 'request_IP': '127.0.0.1', 'tipodocumentotransporte': 'CE', 'pesobrutodeclarado': 7830, 'taraconjunto': 9908, 'retificador': False, 'capturaautomatica': True}\n",
      "{'dataregistro': '2019-05-28T16:50:02.450696Z', 'operadorevento': 'XNEGDFNNADP', 'dataevento': '2019-05-28T16:50:02.450696Z', 'documentotransporte': 'b rCUOX H TV j E BS', 'IDEvento': 5, 'hash': -8350075924657868454, 'ID': 6, 'pesobalanca': 9452, 'time_created': '2019-05-28T19:50:04Z', 'operadorregistro': 'XNEGDFNNADP', 'placa': 'RSX22118', 'placasemireboque': 'ILN65799', 'numero': None, 'recinto': '00001', 'request_IP': '127.0.0.1', 'tipodocumentotransporte': 'CE', 'pesobrutodeclarado': 14779, 'taraconjunto': 10211, 'retificador': False, 'capturaautomatica': True}\n",
      "{'dataregistro': '2019-05-28T16:50:02.450742Z', 'operadorevento': 'XNEGDFNNADP', 'dataevento': '2019-05-28T16:50:02.450742Z', 'documentotransporte': 'lSABNBsidJl', 'IDEvento': 6, 'hash': -4840651638786027248, 'ID': 7, 'pesobalanca': 7822, 'time_created': '2019-05-28T19:50:04Z', 'operadorregistro': 'XNEGDFNNADP', 'placa': 'ZPV24126', 'placasemireboque': 'DQO89282', 'numero': None, 'recinto': '00001', 'request_IP': '127.0.0.1', 'tipodocumentotransporte': 'CE', 'pesobrutodeclarado': 3392, 'taraconjunto': 9778, 'retificador': False, 'capturaautomatica': True}\n",
      "{'dataregistro': '2019-05-28T16:50:02.450786Z', 'operadorevento': 'IBBOSGPFVOL', 'dataevento': '2019-05-28T16:50:02.450786Z', 'documentotransporte': 'OgDVq  XFx HAZq', 'IDEvento': 7, 'hash': -81429757355430853, 'ID': 8, 'pesobalanca': 11118, 'time_created': '2019-05-28T19:50:04Z', 'operadorregistro': 'IBBOSGPFVOL', 'placa': 'OQO60778', 'placasemireboque': 'SPU62092', 'numero': None, 'recinto': '00001', 'request_IP': '127.0.0.1', 'tipodocumentotransporte': 'CE', 'pesobrutodeclarado': 3646, 'taraconjunto': 10025, 'retificador': False, 'capturaautomatica': True}\n",
      "{'dataregistro': '2019-05-28T16:50:02.450830Z', 'operadorevento': 'IBBOSGPFVOL', 'dataevento': '2019-05-28T16:50:02.450830Z', 'documentotransporte': ' XuPZ O uXOixkL KkqC', 'IDEvento': 8, 'hash': 6255691205571645652, 'ID': 9, 'pesobalanca': 9803, 'time_created': '2019-05-28T19:50:04Z', 'operadorregistro': 'IBBOSGPFVOL', 'placa': 'ZHQ82040', 'placasemireboque': 'FEL32120', 'numero': None, 'recinto': '00001', 'request_IP': '127.0.0.1', 'tipodocumentotransporte': 'CE', 'pesobrutodeclarado': 3191, 'taraconjunto': 11217, 'retificador': False, 'capturaautomatica': True}\n",
      "{'dataregistro': '2019-05-28T16:50:02.450876Z', 'operadorevento': 'XNEGDFNNADP', 'dataevento': '2019-05-28T16:50:02.450876Z', 'documentotransporte': 'lcwTUORU JgsFz J  v', 'IDEvento': 9, 'hash': 4295362845430146847, 'ID': 10, 'pesobalanca': 8958, 'time_created': '2019-05-28T19:50:04Z', 'operadorregistro': 'XNEGDFNNADP', 'placa': 'BQS60484', 'placasemireboque': 'UOO69652', 'numero': None, 'recinto': '00001', 'request_IP': '127.0.0.1', 'tipodocumentotransporte': 'CE', 'pesobrutodeclarado': 14936, 'taraconjunto': 10009, 'retificador': False, 'capturaautomatica': True}\n",
      "{'dataregistro': '2019-05-28T16:50:02.450919Z', 'operadorevento': 'DKHMDOJFHIF', 'dataevento': '2019-05-28T16:50:02.450919Z', 'documentotransporte': ' lmlGPqjsHE kdcHTpU', 'IDEvento': 10, 'hash': -8369866394895155696, 'ID': 11, 'pesobalanca': 10918, 'time_created': '2019-05-28T19:50:04Z', 'operadorregistro': 'DKHMDOJFHIF', 'placa': 'GKE34958', 'placasemireboque': 'VOA57002', 'numero': None, 'recinto': '00001', 'request_IP': '127.0.0.1', 'tipodocumentotransporte': 'CE', 'pesobrutodeclarado': 6816, 'taraconjunto': 9365, 'retificador': False, 'capturaautomatica': True}\n",
      "{'dataregistro': '2019-05-28T16:50:02.450961Z', 'operadorevento': 'ZNIJNOPXEHM', 'dataevento': '2019-05-28T16:50:02.450961Z', 'documentotransporte': 'I  acfD je', 'IDEvento': 11, 'hash': -4079511282884041818, 'ID': 12, 'pesobalanca': 7497, 'time_created': '2019-05-28T19:50:04Z', 'operadorregistro': 'ZNIJNOPXEHM', 'placa': 'PFI72178', 'placasemireboque': 'ENP86034', 'numero': None, 'recinto': '00001', 'request_IP': '127.0.0.1', 'tipodocumentotransporte': 'CE', 'pesobrutodeclarado': 5904, 'taraconjunto': 9060, 'retificador': False, 'capturaautomatica': True}\n",
      "{'dataregistro': '2019-05-28T16:50:02.451005Z', 'operadorevento': 'MVMKXGJAUMA', 'dataevento': '2019-05-28T16:50:02.451005Z', 'documentotransporte': ' bh oNTtultU BgAX', 'IDEvento': 12, 'hash': 6062111430515596486, 'ID': 13, 'pesobalanca': 9326, 'time_created': '2019-05-28T19:50:04Z', 'operadorregistro': 'MVMKXGJAUMA', 'placa': 'JPT02269', 'placasemireboque': 'QCF94762', 'numero': None, 'recinto': '00001', 'request_IP': '127.0.0.1', 'tipodocumentotransporte': 'CE', 'pesobrutodeclarado': 10500, 'taraconjunto': 11014, 'retificador': False, 'capturaautomatica': True}\n",
      "{'dataregistro': '2019-05-28T16:50:02.451049Z', 'operadorevento': 'IERCPJDGRUS', 'dataevento': '2019-05-28T16:50:02.451049Z', 'documentotransporte': 'ZZA lMesAGlq L PR', 'IDEvento': 13, 'hash': 6020080090005346748, 'ID': 14, 'pesobalanca': 12798, 'time_created': '2019-05-28T19:50:04Z', 'operadorregistro': 'IERCPJDGRUS', 'placa': 'CZB55249', 'placasemireboque': 'FQR84826', 'numero': None, 'recinto': '00001', 'request_IP': '127.0.0.1', 'tipodocumentotransporte': 'CE', 'pesobrutodeclarado': 13697, 'taraconjunto': 11131, 'retificador': False, 'capturaautomatica': True}\n",
      "{'dataregistro': '2019-05-28T16:50:02.451093Z', 'operadorevento': 'IERCPJDGRUS', 'dataevento': '2019-05-28T16:50:02.451093Z', 'documentotransporte': ' KryUUcPOSbdQzOA', 'IDEvento': 14, 'hash': -8010480428397194535, 'ID': 15, 'pesobalanca': 13400, 'time_created': '2019-05-28T19:50:04Z', 'operadorregistro': 'IERCPJDGRUS', 'placa': 'XCI36899', 'placasemireboque': 'DAJ24599', 'numero': None, 'recinto': '00001', 'request_IP': '127.0.0.1', 'tipodocumentotransporte': 'CE', 'pesobrutodeclarado': 7764, 'taraconjunto': 11660, 'retificador': False, 'capturaautomatica': True}\n",
      "{'dataregistro': '2019-05-28T16:50:02.451138Z', 'operadorevento': 'IBBOSGPFVOL', 'dataevento': '2019-05-28T16:50:02.451138Z', 'documentotransporte': ' XuPZ O uXOixkL KkqC', 'IDEvento': 15, 'hash': -5323855257570113335, 'ID': 16, 'pesobalanca': 9122, 'time_created': '2019-05-28T19:50:04Z', 'operadorregistro': 'IBBOSGPFVOL', 'placa': 'USO10956', 'placasemireboque': 'RZE10654', 'numero': None, 'recinto': '00001', 'request_IP': '127.0.0.1', 'tipodocumentotransporte': 'CE', 'pesobrutodeclarado': 4191, 'taraconjunto': 10389, 'retificador': False, 'capturaautomatica': True}\n",
      "{'dataregistro': '2019-05-28T16:50:02.451183Z', 'operadorevento': 'MVMKXGJAUMA', 'dataevento': '2019-05-28T16:50:02.451183Z', 'documentotransporte': 'ZZA lMesAGlq L PR', 'IDEvento': 16, 'hash': 6660311641866149566, 'ID': 17, 'pesobalanca': 12633, 'time_created': '2019-05-28T19:50:04Z', 'operadorregistro': 'MVMKXGJAUMA', 'placa': 'JVV10446', 'placasemireboque': 'QCF94762', 'numero': None, 'recinto': '00001', 'request_IP': '127.0.0.1', 'tipodocumentotransporte': 'CE', 'pesobrutodeclarado': 6794, 'taraconjunto': 11546, 'retificador': False, 'capturaautomatica': True}\n",
      "{'dataregistro': '2019-05-28T16:50:02.451247Z', 'operadorevento': 'ZNIJNOPXEHM', 'dataevento': '2019-05-28T16:50:02.451247Z', 'documentotransporte': '  dtiz quHDHAz  Mmt', 'IDEvento': 17, 'hash': -3780382856603995062, 'ID': 18, 'pesobalanca': 11996, 'time_created': '2019-05-28T19:50:04Z', 'operadorregistro': 'ZNIJNOPXEHM', 'placa': 'PND53650', 'placasemireboque': 'TBR95680', 'numero': None, 'recinto': '00001', 'request_IP': '127.0.0.1', 'tipodocumentotransporte': 'CE', 'pesobrutodeclarado': 12125, 'taraconjunto': 10463, 'retificador': False, 'capturaautomatica': True}\n",
      "{'dataregistro': '2019-05-28T16:50:02.451323Z', 'operadorevento': 'MVMKXGJAUMA', 'dataevento': '2019-05-28T16:50:02.451323Z', 'documentotransporte': ' KryUUcPOSbdQzOA', 'IDEvento': 18, 'hash': 2653691088276545504, 'ID': 19, 'pesobalanca': 7914, 'time_created': '2019-05-28T19:50:04Z', 'operadorregistro': 'MVMKXGJAUMA', 'placa': 'XCI36899', 'placasemireboque': 'NFE28923', 'numero': None, 'recinto': '00001', 'request_IP': '127.0.0.1', 'tipodocumentotransporte': 'CE', 'pesobrutodeclarado': 12457, 'taraconjunto': 9338, 'retificador': False, 'capturaautomatica': True}\n",
      "{'dataregistro': '2019-05-28T16:50:02.451405Z', 'operadorevento': 'ZNIJNOPXEHM', 'dataevento': '2019-05-28T16:50:02.451405Z', 'documentotransporte': ' wFFXAfa N K', 'IDEvento': 19, 'hash': 3180228684910671215, 'ID': 20, 'pesobalanca': 11499, 'time_created': '2019-05-28T19:50:04Z', 'operadorregistro': 'ZNIJNOPXEHM', 'placa': 'GQL88066', 'placasemireboque': 'SPU62092', 'numero': None, 'recinto': '00001', 'request_IP': '127.0.0.1', 'tipodocumentotransporte': 'CE', 'pesobrutodeclarado': 13253, 'taraconjunto': 10813, 'retificador': False, 'capturaautomatica': True}\n",
      "{'dataregistro': '2019-05-28T16:50:02.451464Z', 'operadorevento': 'ZHOBJLHQRHO', 'dataevento': '2019-05-28T16:50:02.451464Z', 'documentotransporte': 'vPebpyDO Rsd', 'IDEvento': 20, 'hash': 4512038616272786746, 'ID': 21, 'pesobalanca': 10033, 'time_created': '2019-05-28T19:50:04Z', 'operadorregistro': 'ZHOBJLHQRHO', 'placa': 'UNI40460', 'placasemireboque': 'JIZ61461', 'numero': None, 'recinto': '00001', 'request_IP': '127.0.0.1', 'tipodocumentotransporte': 'CE', 'pesobrutodeclarado': 7611, 'taraconjunto': 11032, 'retificador': False, 'capturaautomatica': True}\n",
      "{'dataregistro': '2019-05-28T16:50:02.451511Z', 'operadorevento': 'TSQCSNDUVML', 'dataevento': '2019-05-28T16:50:02.451511Z', 'documentotransporte': 'HKX yynTH RXfC', 'IDEvento': 21, 'hash': -5219038155999967029, 'ID': 22, 'pesobalanca': 10699, 'time_created': '2019-05-28T19:50:04Z', 'operadorregistro': 'TSQCSNDUVML', 'placa': 'RSX22118', 'placasemireboque': 'JIZ61461', 'numero': None, 'recinto': '00001', 'request_IP': '127.0.0.1', 'tipodocumentotransporte': 'CE', 'pesobrutodeclarado': 10329, 'taraconjunto': 10078, 'retificador': False, 'capturaautomatica': True}\n",
      "{'dataregistro': '2019-05-28T16:50:02.451556Z', 'operadorevento': 'IBBOSGPFVOL', 'dataevento': '2019-05-28T16:50:02.451556Z', 'documentotransporte': 'lcwTUORU JgsFz J  v', 'IDEvento': 22, 'hash': -2411070046082235245, 'ID': 23, 'pesobalanca': 9431, 'time_created': '2019-05-28T19:50:04Z', 'operadorregistro': 'IBBOSGPFVOL', 'placa': 'LAU14530', 'placasemireboque': 'NSJ64848', 'numero': None, 'recinto': '00001', 'request_IP': '127.0.0.1', 'tipodocumentotransporte': 'CE', 'pesobrutodeclarado': 7069, 'taraconjunto': 10418, 'retificador': False, 'capturaautomatica': True}\n",
      "{'dataregistro': '2019-05-28T16:50:02.451601Z', 'operadorevento': 'MVMKXGJAUMA', 'dataevento': '2019-05-28T16:50:02.451601Z', 'documentotransporte': 'abLllK iRzcm', 'IDEvento': 23, 'hash': -8374829344105631587, 'ID': 24, 'pesobalanca': 12646, 'time_created': '2019-05-28T19:50:04Z', 'operadorregistro': 'MVMKXGJAUMA', 'placa': 'BVF23852', 'placasemireboque': 'BBL10454', 'numero': None, 'recinto': '00001', 'request_IP': '127.0.0.1', 'tipodocumentotransporte': 'CE', 'pesobrutodeclarado': 3171, 'taraconjunto': 10870, 'retificador': False, 'capturaautomatica': True}\n",
      "{'dataregistro': '2019-05-28T16:50:02.451647Z', 'operadorevento': 'ZHOBJLHQRHO', 'dataevento': '2019-05-28T16:50:02.451647Z', 'documentotransporte': ' XuPZ O uXOixkL KkqC', 'IDEvento': 24, 'hash': 8455714324230576403, 'ID': 25, 'pesobalanca': 11648, 'time_created': '2019-05-28T19:50:04Z', 'operadorregistro': 'ZHOBJLHQRHO', 'placa': 'TGL72295', 'placasemireboque': 'ISO26198', 'numero': None, 'recinto': '00001', 'request_IP': '127.0.0.1', 'tipodocumentotransporte': 'CE', 'pesobrutodeclarado': 9669, 'taraconjunto': 10277, 'retificador': False, 'capturaautomatica': True}\n",
      "{'dataregistro': '2019-05-28T16:50:02.451691Z', 'operadorevento': 'XTPIUFAHCLL', 'dataevento': '2019-05-28T16:50:02.451691Z', 'documentotransporte': 'vf  oS  aX HFcxIl', 'IDEvento': 25, 'hash': -577741482077584098, 'ID': 26, 'pesobalanca': 10816, 'time_created': '2019-05-28T19:50:04Z', 'operadorregistro': 'XTPIUFAHCLL', 'placa': 'HJG71542', 'placasemireboque': 'VOA57002', 'numero': None, 'recinto': '00001', 'request_IP': '127.0.0.1', 'tipodocumentotransporte': 'CE', 'pesobrutodeclarado': 10829, 'taraconjunto': 11542, 'retificador': False, 'capturaautomatica': True}\n",
      "{'dataregistro': '2019-05-28T16:50:02.451737Z', 'operadorevento': 'XNEGDFNNADP', 'dataevento': '2019-05-28T16:50:02.451737Z', 'documentotransporte': 'abLllK iRzcm', 'IDEvento': 26, 'hash': -1124818315885005114, 'ID': 27, 'pesobalanca': 9754, 'time_created': '2019-05-28T19:50:04Z', 'operadorregistro': 'XNEGDFNNADP', 'placa': 'HJN15063', 'placasemireboque': 'AVU76599', 'numero': None, 'recinto': '00001', 'request_IP': '127.0.0.1', 'tipodocumentotransporte': 'CE', 'pesobrutodeclarado': 12608, 'taraconjunto': 9524, 'retificador': False, 'capturaautomatica': True}\n",
      "{'dataregistro': '2019-05-28T16:50:02.451782Z', 'operadorevento': 'DKHMDOJFHIF', 'dataevento': '2019-05-28T16:50:02.451782Z', 'documentotransporte': ' lmlGPqjsHE kdcHTpU', 'IDEvento': 27, 'hash': -4412879070217149853, 'ID': 28, 'pesobalanca': 11426, 'time_created': '2019-05-28T19:50:04Z', 'operadorregistro': 'DKHMDOJFHIF', 'placa': 'BGS49667', 'placasemireboque': 'EPP91566', 'numero': None, 'recinto': '00001', 'request_IP': '127.0.0.1', 'tipodocumentotransporte': 'CE', 'pesobrutodeclarado': 3519, 'taraconjunto': 11599, 'retificador': False, 'capturaautomatica': True}\n",
      "{'dataregistro': '2019-05-28T16:50:02.451826Z', 'operadorevento': 'MVMKXGJAUMA', 'dataevento': '2019-05-28T16:50:02.451826Z', 'documentotransporte': 'nGs sCdX Imn', 'IDEvento': 28, 'hash': -1997252059335425815, 'ID': 29, 'pesobalanca': 9973, 'time_created': '2019-05-28T19:50:04Z', 'operadorregistro': 'MVMKXGJAUMA', 'placa': 'XCI36899', 'placasemireboque': 'ILN65799', 'numero': None, 'recinto': '00001', 'request_IP': '127.0.0.1', 'tipodocumentotransporte': 'CE', 'pesobrutodeclarado': 7963, 'taraconjunto': 10747, 'retificador': False, 'capturaautomatica': True}\n",
      "{'dataregistro': '2019-05-28T16:50:02.451869Z', 'operadorevento': 'IBBOSGPFVOL', 'dataevento': '2019-05-28T16:50:02.451869Z', 'documentotransporte': 'ScQP s  GCS Q', 'IDEvento': 29, 'hash': 4801324594147330753, 'ID': 30, 'pesobalanca': 7530, 'time_created': '2019-05-28T19:50:05Z', 'operadorregistro': 'IBBOSGPFVOL', 'placa': 'PUS51441', 'placasemireboque': 'AOF44144', 'numero': None, 'recinto': '00001', 'request_IP': '127.0.0.1', 'tipodocumentotransporte': 'CE', 'pesobrutodeclarado': 7396, 'taraconjunto': 9085, 'retificador': False, 'capturaautomatica': True}\n",
      "{'dataregistro': '2019-05-28T16:50:02.451914Z', 'operadorevento': 'XTPIUFAHCLL', 'dataevento': '2019-05-28T16:50:02.451914Z', 'documentotransporte': ' wFFXAfa N K', 'IDEvento': 30, 'hash': 721998331194496635, 'ID': 31, 'pesobalanca': 11033, 'time_created': '2019-05-28T19:50:05Z', 'operadorregistro': 'XTPIUFAHCLL', 'placa': 'HJG71542', 'placasemireboque': 'IZN32508', 'numero': None, 'recinto': '00001', 'request_IP': '127.0.0.1', 'tipodocumentotransporte': 'CE', 'pesobrutodeclarado': 14882, 'taraconjunto': 9784, 'retificador': False, 'capturaautomatica': True}\n",
      "{'dataregistro': '2019-05-28T16:50:02.451957Z', 'operadorevento': 'IXHPAXBXQPB', 'dataevento': '2019-05-28T16:50:02.451957Z', 'documentotransporte': 'uKzdZ l Pz', 'IDEvento': 31, 'hash': 6532358994265307530, 'ID': 32, 'pesobalanca': 8434, 'time_created': '2019-05-28T19:50:05Z', 'operadorregistro': 'IXHPAXBXQPB', 'placa': 'PUS51441', 'placasemireboque': 'SZV70130', 'numero': None, 'recinto': '00001', 'request_IP': '127.0.0.1', 'tipodocumentotransporte': 'CE', 'pesobrutodeclarado': 5318, 'taraconjunto': 9285, 'retificador': False, 'capturaautomatica': True}\n",
      "{'dataregistro': '2019-05-28T16:50:02.452001Z', 'operadorevento': 'XNEGDFNNADP', 'dataevento': '2019-05-28T16:50:02.452001Z', 'documentotransporte': 'lSABNBsidJl', 'IDEvento': 32, 'hash': -2846192216326986598, 'ID': 33, 'pesobalanca': 9140, 'time_created': '2019-05-28T19:50:05Z', 'operadorregistro': 'XNEGDFNNADP', 'placa': 'FLV28266', 'placasemireboque': 'FVH69725', 'numero': None, 'recinto': '00001', 'request_IP': '127.0.0.1', 'tipodocumentotransporte': 'CE', 'pesobrutodeclarado': 12668, 'taraconjunto': 10559, 'retificador': False, 'capturaautomatica': True}\n",
      "{'dataregistro': '2019-05-28T16:50:02.452045Z', 'operadorevento': 'IXHPAXBXQPB', 'dataevento': '2019-05-28T16:50:02.452045Z', 'documentotransporte': 'lcwTUORU JgsFz J  v', 'IDEvento': 33, 'hash': -1057082718614161142, 'ID': 34, 'pesobalanca': 9083, 'time_created': '2019-05-28T19:50:05Z', 'operadorregistro': 'IXHPAXBXQPB', 'placa': 'ZRL98963', 'placasemireboque': 'MRA46092', 'numero': None, 'recinto': '00001', 'request_IP': '127.0.0.1', 'tipodocumentotransporte': 'CE', 'pesobrutodeclarado': 9431, 'taraconjunto': 9983, 'retificador': False, 'capturaautomatica': True}\n",
      "{'dataregistro': '2019-05-28T16:50:02.452089Z', 'operadorevento': 'IXHPAXBXQPB', 'dataevento': '2019-05-28T16:50:02.452089Z', 'documentotransporte': 'qOx lwiha V  eQ  ESM', 'IDEvento': 34, 'hash': 3181239000768600294, 'ID': 35, 'pesobalanca': 11527, 'time_created': '2019-05-28T19:50:05Z', 'operadorregistro': 'IXHPAXBXQPB', 'placa': 'XOQ41036', 'placasemireboque': 'XHA62869', 'numero': None, 'recinto': '00001', 'request_IP': '127.0.0.1', 'tipodocumentotransporte': 'CE', 'pesobrutodeclarado': 10382, 'taraconjunto': 10945, 'retificador': False, 'capturaautomatica': True}\n",
      "{'dataregistro': '2019-05-28T16:50:02.452131Z', 'operadorevento': 'IBBOSGPFVOL', 'dataevento': '2019-05-28T16:50:02.452131Z', 'documentotransporte': 'DdT  Q  eJTEe', 'IDEvento': 35, 'hash': -4353674334637977275, 'ID': 36, 'pesobalanca': 9008, 'time_created': '2019-05-28T19:50:05Z', 'operadorregistro': 'IBBOSGPFVOL', 'placa': 'ZPV24126', 'placasemireboque': 'NAM17130', 'numero': None, 'recinto': '00001', 'request_IP': '127.0.0.1', 'tipodocumentotransporte': 'CE', 'pesobrutodeclarado': 13489, 'taraconjunto': 9777, 'retificador': False, 'capturaautomatica': True}\n",
      "{'dataregistro': '2019-05-28T16:50:02.452176Z', 'operadorevento': 'IERCPJDGRUS', 'dataevento': '2019-05-28T16:50:02.452176Z', 'documentotransporte': '  IMxRdG vkqkDfI', 'IDEvento': 36, 'hash': 7598043162914119458, 'ID': 37, 'pesobalanca': 9150, 'time_created': '2019-05-28T19:50:05Z', 'operadorregistro': 'IERCPJDGRUS', 'placa': 'AOT66557', 'placasemireboque': 'NIX16717', 'numero': None, 'recinto': '00001', 'request_IP': '127.0.0.1', 'tipodocumentotransporte': 'CE', 'pesobrutodeclarado': 9621, 'taraconjunto': 9157, 'retificador': False, 'capturaautomatica': True}\n",
      "{'dataregistro': '2019-05-28T16:50:02.452220Z', 'operadorevento': 'XNEGDFNNADP', 'dataevento': '2019-05-28T16:50:02.452220Z', 'documentotransporte': 'ZyL bAGvoA Ntt HBO', 'IDEvento': 37, 'hash': 2726870008277441136, 'ID': 38, 'pesobalanca': 10924, 'time_created': '2019-05-28T19:50:05Z', 'operadorregistro': 'XNEGDFNNADP', 'placa': 'ZPV24126', 'placasemireboque': 'SPI56927', 'numero': None, 'recinto': '00001', 'request_IP': '127.0.0.1', 'tipodocumentotransporte': 'CE', 'pesobrutodeclarado': 7080, 'taraconjunto': 10368, 'retificador': False, 'capturaautomatica': True}\n",
      "{'dataregistro': '2019-05-28T16:50:02.452263Z', 'operadorevento': 'TSQCSNDUVML', 'dataevento': '2019-05-28T16:50:02.452263Z', 'documentotransporte': 'qD c myQfAa', 'IDEvento': 38, 'hash': -5789482176239483460, 'ID': 39, 'pesobalanca': 8994, 'time_created': '2019-05-28T19:50:05Z', 'operadorregistro': 'TSQCSNDUVML', 'placa': 'FRX70456', 'placasemireboque': 'TBR95680', 'numero': None, 'recinto': '00001', 'request_IP': '127.0.0.1', 'tipodocumentotransporte': 'CE', 'pesobrutodeclarado': 6759, 'taraconjunto': 9990, 'retificador': False, 'capturaautomatica': True}\n",
      "{'dataregistro': '2019-05-28T16:50:02.452306Z', 'operadorevento': 'ZHOBJLHQRHO', 'dataevento': '2019-05-28T16:50:02.452306Z', 'documentotransporte': ' XuPZ O uXOixkL KkqC', 'IDEvento': 39, 'hash': 4806817684125144017, 'ID': 40, 'pesobalanca': 13431, 'time_created': '2019-05-28T19:50:05Z', 'operadorregistro': 'ZHOBJLHQRHO', 'placa': 'FEC50984', 'placasemireboque': 'NAM17130', 'numero': None, 'recinto': '00001', 'request_IP': '127.0.0.1', 'tipodocumentotransporte': 'CE', 'pesobrutodeclarado': 4716, 'taraconjunto': 11711, 'retificador': False, 'capturaautomatica': True}\n",
      "{'dataregistro': '2019-05-28T16:50:02.452349Z', 'operadorevento': 'ZNIJNOPXEHM', 'dataevento': '2019-05-28T16:50:02.452349Z', 'documentotransporte': 'RN O hlb dPemG ZSF', 'IDEvento': 40, 'hash': -8185869986429040396, 'ID': 41, 'pesobalanca': 7607, 'time_created': '2019-05-28T19:50:05Z', 'operadorregistro': 'ZNIJNOPXEHM', 'placa': 'RSX22118', 'placasemireboque': 'ETP60074', 'numero': None, 'recinto': '00001', 'request_IP': '127.0.0.1', 'tipodocumentotransporte': 'CE', 'pesobrutodeclarado': 13355, 'taraconjunto': 9183, 'retificador': False, 'capturaautomatica': True}\n",
      "{'dataregistro': '2019-05-28T16:50:02.452392Z', 'operadorevento': 'IBBOSGPFVOL', 'dataevento': '2019-05-28T16:50:02.452392Z', 'documentotransporte': 'abLllK iRzcm', 'IDEvento': 41, 'hash': 806320029691444613, 'ID': 42, 'pesobalanca': 7700, 'time_created': '2019-05-28T19:50:05Z', 'operadorregistro': 'IBBOSGPFVOL', 'placa': 'GKE34958', 'placasemireboque': 'OIG28580', 'numero': None, 'recinto': '00001', 'request_IP': '127.0.0.1', 'tipodocumentotransporte': 'CE', 'pesobrutodeclarado': 3034, 'taraconjunto': 9520, 'retificador': False, 'capturaautomatica': True}\n",
      "{'dataregistro': '2019-05-28T16:50:02.452436Z', 'operadorevento': 'XNEGDFNNADP', 'dataevento': '2019-05-28T16:50:02.452436Z', 'documentotransporte': 'B  a SAJSVXi  b ', 'IDEvento': 42, 'hash': -3719304094206833911, 'ID': 43, 'pesobalanca': 8900, 'time_created': '2019-05-28T19:50:05Z', 'operadorregistro': 'XNEGDFNNADP', 'placa': 'CUX21396', 'placasemireboque': 'PQB49187', 'numero': None, 'recinto': '00001', 'request_IP': '127.0.0.1', 'tipodocumentotransporte': 'CE', 'pesobrutodeclarado': 5536, 'taraconjunto': 9646, 'retificador': False, 'capturaautomatica': True}\n",
      "{'dataregistro': '2019-05-28T16:50:02.452480Z', 'operadorevento': 'DKHMDOJFHIF', 'dataevento': '2019-05-28T16:50:02.452480Z', 'documentotransporte': 'cfaHtJhl l  r', 'IDEvento': 43, 'hash': 7820123537410186120, 'ID': 44, 'pesobalanca': 13282, 'time_created': '2019-05-28T19:50:05Z', 'operadorregistro': 'DKHMDOJFHIF', 'placa': 'TKF78379', 'placasemireboque': 'ETV89737', 'numero': None, 'recinto': '00001', 'request_IP': '127.0.0.1', 'tipodocumentotransporte': 'CE', 'pesobrutodeclarado': 8254, 'taraconjunto': 11926, 'retificador': False, 'capturaautomatica': True}\n",
      "{'dataregistro': '2019-05-28T16:50:02.452524Z', 'operadorevento': 'XTPIUFAHCLL', 'dataevento': '2019-05-28T16:50:02.452524Z', 'documentotransporte': 'vf  oS  aX HFcxIl', 'IDEvento': 44, 'hash': -7141549010492133672, 'ID': 45, 'pesobalanca': 11631, 'time_created': '2019-05-28T19:50:05Z', 'operadorregistro': 'XTPIUFAHCLL', 'placa': 'VZX17690', 'placasemireboque': 'BAR08385', 'numero': None, 'recinto': '00001', 'request_IP': '127.0.0.1', 'tipodocumentotransporte': 'CE', 'pesobrutodeclarado': 3895, 'taraconjunto': 9987, 'retificador': False, 'capturaautomatica': True}\n",
      "{'dataregistro': '2019-05-28T16:50:02.452958Z', 'operadorevento': 'ZHOBJLHQRHO', 'dataevento': '2019-05-28T16:50:02.452958Z', 'documentotransporte': '  IMxRdG vkqkDfI', 'IDEvento': 45, 'hash': -566771857084465161, 'ID': 46, 'pesobalanca': 13494, 'time_created': '2019-05-28T19:50:05Z', 'operadorregistro': 'ZHOBJLHQRHO', 'placa': 'TOB02824', 'placasemireboque': 'EDZ06741', 'numero': None, 'recinto': '00001', 'request_IP': '127.0.0.1', 'tipodocumentotransporte': 'CE', 'pesobrutodeclarado': 8369, 'taraconjunto': 11782, 'retificador': False, 'capturaautomatica': True}\n",
      "{'dataregistro': '2019-05-28T16:50:02.453039Z', 'operadorevento': 'DKHMDOJFHIF', 'dataevento': '2019-05-28T16:50:02.453039Z', 'documentotransporte': 'RN O hlb dPemG ZSF', 'IDEvento': 46, 'hash': 1791007639380553258, 'ID': 47, 'pesobalanca': 13184, 'time_created': '2019-05-28T19:50:05Z', 'operadorregistro': 'DKHMDOJFHIF', 'placa': 'SHO30787', 'placasemireboque': 'RIC70866', 'numero': None, 'recinto': '00001', 'request_IP': '127.0.0.1', 'tipodocumentotransporte': 'CE', 'pesobrutodeclarado': 3221, 'taraconjunto': 11216, 'retificador': False, 'capturaautomatica': True}\n",
      "{'dataregistro': '2019-05-28T16:50:02.453097Z', 'operadorevento': 'MVMKXGJAUMA', 'dataevento': '2019-05-28T16:50:02.453097Z', 'documentotransporte': 'bSHXsMGZ XVieOrmB  c', 'IDEvento': 47, 'hash': -8532233892523542588, 'ID': 48, 'pesobalanca': 11134, 'time_created': '2019-05-28T19:50:05Z', 'operadorregistro': 'MVMKXGJAUMA', 'placa': 'LAU14530', 'placasemireboque': 'DPR28590', 'numero': None, 'recinto': '00001', 'request_IP': '127.0.0.1', 'tipodocumentotransporte': 'CE', 'pesobrutodeclarado': 10408, 'taraconjunto': 10058, 'retificador': False, 'capturaautomatica': True}\n",
      "{'dataregistro': '2019-05-28T16:50:02.453150Z', 'operadorevento': 'XTPIUFAHCLL', 'dataevento': '2019-05-28T16:50:02.453150Z', 'documentotransporte': 'ScQP s  GCS Q', 'IDEvento': 48, 'hash': 3495893497316668073, 'ID': 49, 'pesobalanca': 9692, 'time_created': '2019-05-28T19:50:05Z', 'operadorregistro': 'XTPIUFAHCLL', 'placa': 'XOQ41036', 'placasemireboque': 'LZM06554', 'numero': None, 'recinto': '00001', 'request_IP': '127.0.0.1', 'tipodocumentotransporte': 'CE', 'pesobrutodeclarado': 10040, 'taraconjunto': 9008, 'retificador': False, 'capturaautomatica': True}\n",
      "{'dataregistro': '2019-05-28T16:50:02.453202Z', 'operadorevento': 'XNEGDFNNADP', 'dataevento': '2019-05-28T16:50:02.453202Z', 'documentotransporte': 'raVjZlGJ OX ', 'IDEvento': 49, 'hash': 5201553952187630001, 'ID': 50, 'pesobalanca': 9640, 'time_created': '2019-05-28T19:50:05Z', 'operadorregistro': 'XNEGDFNNADP', 'placa': 'IBV00469', 'placasemireboque': 'AGU09150', 'numero': None, 'recinto': '00001', 'request_IP': '127.0.0.1', 'tipodocumentotransporte': 'CE', 'pesobrutodeclarado': 6233, 'taraconjunto': 10454, 'retificador': False, 'capturaautomatica': True}\n",
      "{'dataregistro': '2019-05-28T16:50:02.453252Z', 'operadorevento': 'ZHOBJLHQRHO', 'dataevento': '2019-05-28T16:50:02.453252Z', 'documentotransporte': 'm  Fb  wCXxH ', 'IDEvento': 50, 'hash': 6901618861254910335, 'ID': 51, 'pesobalanca': 12099, 'time_created': '2019-05-28T19:51:13Z', 'operadorregistro': 'ZHOBJLHQRHO', 'placa': 'XVP04600', 'placasemireboque': 'MLG83906', 'numero': None, 'recinto': '00001', 'request_IP': '127.0.0.1', 'tipodocumentotransporte': 'CE', 'pesobrutodeclarado': 8442, 'taraconjunto': 10218, 'retificador': False, 'capturaautomatica': True}\n",
      "{'dataregistro': '2019-05-28T16:50:02.453303Z', 'operadorevento': 'XNEGDFNNADP', 'dataevento': '2019-05-28T16:50:02.453303Z', 'documentotransporte': 'qkjJIrJ jZhpnvSA', 'IDEvento': 51, 'hash': 5541878240847989619, 'ID': 52, 'pesobalanca': 9452, 'time_created': '2019-05-28T19:51:13Z', 'operadorregistro': 'XNEGDFNNADP', 'placa': 'FEC50984', 'placasemireboque': 'ZZV50679', 'numero': None, 'recinto': '00001', 'request_IP': '127.0.0.1', 'tipodocumentotransporte': 'CE', 'pesobrutodeclarado': 12143, 'taraconjunto': 10950, 'retificador': False, 'capturaautomatica': True}\n",
      "{'dataregistro': '2019-05-28T16:50:02.453354Z', 'operadorevento': 'IERCPJDGRUS', 'dataevento': '2019-05-28T16:50:02.453354Z', 'documentotransporte': 'EKwiQAlCDEJ tV LK', 'IDEvento': 52, 'hash': 6831252833105351224, 'ID': 53, 'pesobalanca': 9984, 'time_created': '2019-05-28T19:51:13Z', 'operadorregistro': 'IERCPJDGRUS', 'placa': 'QMH16054', 'placasemireboque': 'PQB49187', 'numero': None, 'recinto': '00001', 'request_IP': '127.0.0.1', 'tipodocumentotransporte': 'CE', 'pesobrutodeclarado': 8319, 'taraconjunto': 10499, 'retificador': False, 'capturaautomatica': True}\n",
      "{'dataregistro': '2019-05-28T16:50:02.453405Z', 'operadorevento': 'ZHOBJLHQRHO', 'dataevento': '2019-05-28T16:50:02.453405Z', 'documentotransporte': '  IMxRdG vkqkDfI', 'IDEvento': 53, 'hash': -3757962496483993345, 'ID': 54, 'pesobalanca': 10971, 'time_created': '2019-05-28T19:51:13Z', 'operadorregistro': 'ZHOBJLHQRHO', 'placa': 'ZML23824', 'placasemireboque': 'ZFF12884', 'numero': None, 'recinto': '00001', 'request_IP': '127.0.0.1', 'tipodocumentotransporte': 'CE', 'pesobrutodeclarado': 10515, 'taraconjunto': 10558, 'retificador': False, 'capturaautomatica': True}\n",
      "{'dataregistro': '2019-05-28T16:50:02.453454Z', 'operadorevento': 'IXHPAXBXQPB', 'dataevento': '2019-05-28T16:50:02.453454Z', 'documentotransporte': 'Bx H iMAv c F', 'IDEvento': 54, 'hash': 1354141284648884911, 'ID': 55, 'pesobalanca': 11715, 'time_created': '2019-05-28T19:51:13Z', 'operadorregistro': 'IXHPAXBXQPB', 'placa': 'REU39921', 'placasemireboque': 'TBR95680', 'numero': None, 'recinto': '00001', 'request_IP': '127.0.0.1', 'tipodocumentotransporte': 'CE', 'pesobrutodeclarado': 12660, 'taraconjunto': 10224, 'retificador': False, 'capturaautomatica': True}\n",
      "{'dataregistro': '2019-05-28T16:50:02.453505Z', 'operadorevento': 'MVMKXGJAUMA', 'dataevento': '2019-05-28T16:50:02.453505Z', 'documentotransporte': 'bSHXsMGZ XVieOrmB  c', 'IDEvento': 55, 'hash': -556991403825226245, 'ID': 56, 'pesobalanca': 10091, 'time_created': '2019-05-28T19:51:13Z', 'operadorregistro': 'MVMKXGJAUMA', 'placa': 'XNA69297', 'placasemireboque': 'AGU09150', 'numero': None, 'recinto': '00001', 'request_IP': '127.0.0.1', 'tipodocumentotransporte': 'CE', 'pesobrutodeclarado': 12728, 'taraconjunto': 10363, 'retificador': False, 'capturaautomatica': True}\n",
      "{'dataregistro': '2019-05-28T16:50:02.453555Z', 'operadorevento': 'IERCPJDGRUS', 'dataevento': '2019-05-28T16:50:02.453555Z', 'documentotransporte': 'lcwTUORU JgsFz J  v', 'IDEvento': 56, 'hash': 8028122056083013573, 'ID': 57, 'pesobalanca': 11816, 'time_created': '2019-05-28T19:51:13Z', 'operadorregistro': 'IERCPJDGRUS', 'placa': 'OQO60778', 'placasemireboque': 'QNK65196', 'numero': None, 'recinto': '00001', 'request_IP': '127.0.0.1', 'tipodocumentotransporte': 'CE', 'pesobrutodeclarado': 11659, 'taraconjunto': 11551, 'retificador': False, 'capturaautomatica': True}\n",
      "{'dataregistro': '2019-05-28T16:50:02.453605Z', 'operadorevento': 'IERCPJDGRUS', 'dataevento': '2019-05-28T16:50:02.453605Z', 'documentotransporte': '  dtiz quHDHAz  Mmt', 'IDEvento': 57, 'hash': 5449133351729161668, 'ID': 58, 'pesobalanca': 10394, 'time_created': '2019-05-28T19:51:13Z', 'operadorregistro': 'IERCPJDGRUS', 'placa': 'XZL36377', 'placasemireboque': 'EIA69270', 'numero': None, 'recinto': '00001', 'request_IP': '127.0.0.1', 'tipodocumentotransporte': 'CE', 'pesobrutodeclarado': 6122, 'taraconjunto': 9533, 'retificador': False, 'capturaautomatica': True}\n",
      "{'dataregistro': '2019-05-28T16:50:02.453655Z', 'operadorevento': 'ZNIJNOPXEHM', 'dataevento': '2019-05-28T16:50:02.453655Z', 'documentotransporte': 'fUAlcgH T EDmRvwEXU', 'IDEvento': 58, 'hash': 4268843537034976252, 'ID': 59, 'pesobalanca': 11465, 'time_created': '2019-05-28T19:51:13Z', 'operadorregistro': 'ZNIJNOPXEHM', 'placa': 'QMH16054', 'placasemireboque': 'KBD57648', 'numero': None, 'recinto': '00001', 'request_IP': '127.0.0.1', 'tipodocumentotransporte': 'CE', 'pesobrutodeclarado': 12611, 'taraconjunto': 9889, 'retificador': False, 'capturaautomatica': True}\n",
      "{'dataregistro': '2019-05-28T16:50:02.453705Z', 'operadorevento': 'XTPIUFAHCLL', 'dataevento': '2019-05-28T16:50:02.453705Z', 'documentotransporte': 'cfaHtJhl l  r', 'IDEvento': 59, 'hash': -6718992851902010518, 'ID': 60, 'pesobalanca': 9929, 'time_created': '2019-05-28T19:51:13Z', 'operadorregistro': 'XTPIUFAHCLL', 'placa': 'VIQ22157', 'placasemireboque': 'FQR84826', 'numero': None, 'recinto': '00001', 'request_IP': '127.0.0.1', 'tipodocumentotransporte': 'CE', 'pesobrutodeclarado': 5461, 'taraconjunto': 9652, 'retificador': False, 'capturaautomatica': True}\n",
      "{'dataregistro': '2019-05-28T16:50:02.453754Z', 'operadorevento': 'ZHOBJLHQRHO', 'dataevento': '2019-05-28T16:50:02.453754Z', 'documentotransporte': 'qkjJIrJ jZhpnvSA', 'IDEvento': 60, 'hash': -6361486284902505758, 'ID': 61, 'pesobalanca': 9438, 'time_created': '2019-05-28T19:51:13Z', 'operadorregistro': 'ZHOBJLHQRHO', 'placa': 'FDC72521', 'placasemireboque': 'TBH91119', 'numero': None, 'recinto': '00001', 'request_IP': '127.0.0.1', 'tipodocumentotransporte': 'CE', 'pesobrutodeclarado': 11242, 'taraconjunto': 10652, 'retificador': False, 'capturaautomatica': True}\n",
      "{'dataregistro': '2019-05-28T16:50:02.453801Z', 'operadorevento': 'IERCPJDGRUS', 'dataevento': '2019-05-28T16:50:02.453801Z', 'documentotransporte': 'mM E Tg   ', 'IDEvento': 61, 'hash': 4919737457380698160, 'ID': 62, 'pesobalanca': 10778, 'time_created': '2019-05-28T19:51:13Z', 'operadorregistro': 'IERCPJDGRUS', 'placa': 'XZZ60882', 'placasemireboque': 'EIA69270', 'numero': None, 'recinto': '00001', 'request_IP': '127.0.0.1', 'tipodocumentotransporte': 'CE', 'pesobrutodeclarado': 8745, 'taraconjunto': 11692, 'retificador': False, 'capturaautomatica': True}\n",
      "{'dataregistro': '2019-05-28T16:50:02.453850Z', 'operadorevento': 'XNEGDFNNADP', 'dataevento': '2019-05-28T16:50:02.453850Z', 'documentotransporte': 'DdT  Q  eJTEe', 'IDEvento': 62, 'hash': -1639249394911906483, 'ID': 63, 'pesobalanca': 10476, 'time_created': '2019-05-28T19:51:13Z', 'operadorregistro': 'XNEGDFNNADP', 'placa': 'GMB99538', 'placasemireboque': 'SPI56927', 'numero': None, 'recinto': '00001', 'request_IP': '127.0.0.1', 'tipodocumentotransporte': 'CE', 'pesobrutodeclarado': 12522, 'taraconjunto': 9341, 'retificador': False, 'capturaautomatica': True}\n",
      "{'dataregistro': '2019-05-28T16:50:02.453899Z', 'operadorevento': 'ZHOBJLHQRHO', 'dataevento': '2019-05-28T16:50:02.453899Z', 'documentotransporte': '  IMxRdG vkqkDfI', 'IDEvento': 63, 'hash': 5671522007877914772, 'ID': 64, 'pesobalanca': 12763, 'time_created': '2019-05-28T19:51:13Z', 'operadorregistro': 'ZHOBJLHQRHO', 'placa': 'ZTX39094', 'placasemireboque': 'DNC23634', 'numero': None, 'recinto': '00001', 'request_IP': '127.0.0.1', 'tipodocumentotransporte': 'CE', 'pesobrutodeclarado': 5685, 'taraconjunto': 10805, 'retificador': False, 'capturaautomatica': True}\n",
      "{'dataregistro': '2019-05-28T16:50:02.453948Z', 'operadorevento': 'XNEGDFNNADP', 'dataevento': '2019-05-28T16:50:02.453948Z', 'documentotransporte': 'qOx lwiha V  eQ  ESM', 'IDEvento': 64, 'hash': -1461659623945634662, 'ID': 65, 'pesobalanca': 11838, 'time_created': '2019-05-28T19:51:13Z', 'operadorregistro': 'XNEGDFNNADP', 'placa': 'QUV77567', 'placasemireboque': 'NOK84583', 'numero': None, 'recinto': '00001', 'request_IP': '127.0.0.1', 'tipodocumentotransporte': 'CE', 'pesobrutodeclarado': 4322, 'taraconjunto': 10395, 'retificador': False, 'capturaautomatica': True}\n",
      "{'dataregistro': '2019-05-28T16:50:02.454026Z', 'operadorevento': 'DKHMDOJFHIF', 'dataevento': '2019-05-28T16:50:02.454026Z', 'documentotransporte': 'VN  xg DzTnJxh dRz', 'IDEvento': 65, 'hash': 7495263230390874118, 'ID': 66, 'pesobalanca': 11489, 'time_created': '2019-05-28T19:51:13Z', 'operadorregistro': 'DKHMDOJFHIF', 'placa': 'CUX21396', 'placasemireboque': 'MLG83906', 'numero': None, 'recinto': '00001', 'request_IP': '127.0.0.1', 'tipodocumentotransporte': 'CE', 'pesobrutodeclarado': 10685, 'taraconjunto': 10965, 'retificador': False, 'capturaautomatica': True}\n",
      "{'dataregistro': '2019-05-28T16:50:02.454075Z', 'operadorevento': 'ZNIJNOPXEHM', 'dataevento': '2019-05-28T16:50:02.454075Z', 'documentotransporte': 'vrcmUXz  E mmN', 'IDEvento': 66, 'hash': 7705656408615366727, 'ID': 67, 'pesobalanca': 8828, 'time_created': '2019-05-28T19:51:13Z', 'operadorregistro': 'ZNIJNOPXEHM', 'placa': 'ZML23824', 'placasemireboque': 'XPL73457', 'numero': None, 'recinto': '00001', 'request_IP': '127.0.0.1', 'tipodocumentotransporte': 'CE', 'pesobrutodeclarado': 8729, 'taraconjunto': 9098, 'retificador': False, 'capturaautomatica': True}\n",
      "{'dataregistro': '2019-05-28T16:50:02.454123Z', 'operadorevento': 'XNEGDFNNADP', 'dataevento': '2019-05-28T16:50:02.454123Z', 'documentotransporte': 'qD c myQfAa', 'IDEvento': 67, 'hash': 109501718897083558, 'ID': 68, 'pesobalanca': 13085, 'time_created': '2019-05-28T19:51:13Z', 'operadorregistro': 'XNEGDFNNADP', 'placa': 'GZR98357', 'placasemireboque': 'MFT98023', 'numero': None, 'recinto': '00001', 'request_IP': '127.0.0.1', 'tipodocumentotransporte': 'CE', 'pesobrutodeclarado': 7655, 'taraconjunto': 11237, 'retificador': False, 'capturaautomatica': True}\n",
      "{'dataregistro': '2019-05-28T16:50:02.454172Z', 'operadorevento': 'IBBOSGPFVOL', 'dataevento': '2019-05-28T16:50:02.454172Z', 'documentotransporte': 'nGs sCdX Imn', 'IDEvento': 68, 'hash': -4503273693711637998, 'ID': 69, 'pesobalanca': 10700, 'time_created': '2019-05-28T19:51:13Z', 'operadorregistro': 'IBBOSGPFVOL', 'placa': 'SKC25823', 'placasemireboque': 'TNI62347', 'numero': None, 'recinto': '00001', 'request_IP': '127.0.0.1', 'tipodocumentotransporte': 'CE', 'pesobrutodeclarado': 4970, 'taraconjunto': 10811, 'retificador': False, 'capturaautomatica': True}\n",
      "{'dataregistro': '2019-05-28T16:50:02.454220Z', 'operadorevento': 'IERCPJDGRUS', 'dataevento': '2019-05-28T16:50:02.454220Z', 'documentotransporte': ' wFFXAfa N K', 'IDEvento': 69, 'hash': 2312384298898939047, 'ID': 70, 'pesobalanca': 9435, 'time_created': '2019-05-28T19:51:13Z', 'operadorregistro': 'IERCPJDGRUS', 'placa': 'USO10956', 'placasemireboque': 'NAO64992', 'numero': None, 'recinto': '00001', 'request_IP': '127.0.0.1', 'tipodocumentotransporte': 'CE', 'pesobrutodeclarado': 12472, 'taraconjunto': 10704, 'retificador': False, 'capturaautomatica': True}\n",
      "{'dataregistro': '2019-05-28T16:50:02.454268Z', 'operadorevento': 'ZNIJNOPXEHM', 'dataevento': '2019-05-28T16:50:02.454268Z', 'documentotransporte': 'Jtg DMi mfLogk  ', 'IDEvento': 70, 'hash': -8184176998295780352, 'ID': 71, 'pesobalanca': 10253, 'time_created': '2019-05-28T19:51:13Z', 'operadorregistro': 'ZNIJNOPXEHM', 'placa': 'ZPN56593', 'placasemireboque': 'TBH91119', 'numero': None, 'recinto': '00001', 'request_IP': '127.0.0.1', 'tipodocumentotransporte': 'CE', 'pesobrutodeclarado': 12668, 'taraconjunto': 10619, 'retificador': False, 'capturaautomatica': True}\n",
      "{'dataregistro': '2019-05-28T16:50:02.454316Z', 'operadorevento': 'TSQCSNDUVML', 'dataevento': '2019-05-28T16:50:02.454316Z', 'documentotransporte': 'b rCUOX H TV j E BS', 'IDEvento': 71, 'hash': -3275650518550798238, 'ID': 72, 'pesobalanca': 8939, 'time_created': '2019-05-28T19:51:13Z', 'operadorregistro': 'TSQCSNDUVML', 'placa': 'VZX17690', 'placasemireboque': 'PTJ88035', 'numero': None, 'recinto': '00001', 'request_IP': '127.0.0.1', 'tipodocumentotransporte': 'CE', 'pesobrutodeclarado': 5030, 'taraconjunto': 10534, 'retificador': False, 'capturaautomatica': True}\n",
      "{'dataregistro': '2019-05-28T16:50:02.454365Z', 'operadorevento': 'ZHOBJLHQRHO', 'dataevento': '2019-05-28T16:50:02.454365Z', 'documentotransporte': 'vPebpyDO Rsd', 'IDEvento': 72, 'hash': -6045467986186474138, 'ID': 73, 'pesobalanca': 10170, 'time_created': '2019-05-28T19:51:13Z', 'operadorregistro': 'ZHOBJLHQRHO', 'placa': 'USO10956', 'placasemireboque': 'XUR78932', 'numero': None, 'recinto': '00001', 'request_IP': '127.0.0.1', 'tipodocumentotransporte': 'CE', 'pesobrutodeclarado': 7522, 'taraconjunto': 10966, 'retificador': False, 'capturaautomatica': True}\n",
      "{'dataregistro': '2019-05-28T16:50:02.454415Z', 'operadorevento': 'ZNIJNOPXEHM', 'dataevento': '2019-05-28T16:50:02.454415Z', 'documentotransporte': 'qkjJIrJ jZhpnvSA', 'IDEvento': 73, 'hash': 6894424327322321230, 'ID': 74, 'pesobalanca': 8209, 'time_created': '2019-05-28T19:51:13Z', 'operadorregistro': 'ZNIJNOPXEHM', 'placa': 'JPT02269', 'placasemireboque': 'NAM17130', 'numero': None, 'recinto': '00001', 'request_IP': '127.0.0.1', 'tipodocumentotransporte': 'CE', 'pesobrutodeclarado': 6709, 'taraconjunto': 9761, 'retificador': False, 'capturaautomatica': True}\n",
      "{'dataregistro': '2019-05-28T16:50:02.454465Z', 'operadorevento': 'XNEGDFNNADP', 'dataevento': '2019-05-28T16:50:02.454465Z', 'documentotransporte': 'I  acfD je', 'IDEvento': 74, 'hash': 5702566900116424202, 'ID': 75, 'pesobalanca': 12513, 'time_created': '2019-05-28T19:51:13Z', 'operadorregistro': 'XNEGDFNNADP', 'placa': 'ZPV24126', 'placasemireboque': 'LEL90236', 'numero': None, 'recinto': '00001', 'request_IP': '127.0.0.1', 'tipodocumentotransporte': 'CE', 'pesobrutodeclarado': 11623, 'taraconjunto': 11968, 'retificador': False, 'capturaautomatica': True}\n",
      "{'dataregistro': '2019-05-28T16:50:02.454513Z', 'operadorevento': 'IBBOSGPFVOL', 'dataevento': '2019-05-28T16:50:02.454513Z', 'documentotransporte': 'kMmCKMXLhPohGEU', 'IDEvento': 75, 'hash': 6350287175304181947, 'ID': 76, 'pesobalanca': 12527, 'time_created': '2019-05-28T19:51:13Z', 'operadorregistro': 'IBBOSGPFVOL', 'placa': 'PTK47174', 'placasemireboque': 'ISO26198', 'numero': None, 'recinto': '00001', 'request_IP': '127.0.0.1', 'tipodocumentotransporte': 'CE', 'pesobrutodeclarado': 11623, 'taraconjunto': 10913, 'retificador': False, 'capturaautomatica': True}\n",
      "{'dataregistro': '2019-05-28T16:50:02.454566Z', 'operadorevento': 'IBBOSGPFVOL', 'dataevento': '2019-05-28T16:50:02.454566Z', 'documentotransporte': 'Bx H iMAv c F', 'IDEvento': 76, 'hash': 2844114110753494076, 'ID': 77, 'pesobalanca': 13505, 'time_created': '2019-05-28T19:51:13Z', 'operadorregistro': 'IBBOSGPFVOL', 'placa': 'ZHQ82040', 'placasemireboque': 'XEK32614', 'numero': None, 'recinto': '00001', 'request_IP': '127.0.0.1', 'tipodocumentotransporte': 'CE', 'pesobrutodeclarado': 14707, 'taraconjunto': 11516, 'retificador': False, 'capturaautomatica': True}\n",
      "{'dataregistro': '2019-05-28T16:50:02.454613Z', 'operadorevento': 'IERCPJDGRUS', 'dataevento': '2019-05-28T16:50:02.454613Z', 'documentotransporte': 'kbTJr jUIeOXcVDfuVV', 'IDEvento': 77, 'hash': 4275198630905794790, 'ID': 78, 'pesobalanca': 12043, 'time_created': '2019-05-28T19:51:13Z', 'operadorregistro': 'IERCPJDGRUS', 'placa': 'ZHA48186', 'placasemireboque': 'VRZ13938', 'numero': None, 'recinto': '00001', 'request_IP': '127.0.0.1', 'tipodocumentotransporte': 'CE', 'pesobrutodeclarado': 12054, 'taraconjunto': 10173, 'retificador': False, 'capturaautomatica': True}\n",
      "{'dataregistro': '2019-05-28T16:50:02.454661Z', 'operadorevento': 'ZNIJNOPXEHM', 'dataevento': '2019-05-28T16:50:02.454661Z', 'documentotransporte': 'cfaHtJhl l  r', 'IDEvento': 78, 'hash': -4936991819399271287, 'ID': 79, 'pesobalanca': 10654, 'time_created': '2019-05-28T19:51:13Z', 'operadorregistro': 'ZNIJNOPXEHM', 'placa': 'DBH71084', 'placasemireboque': 'FVH69725', 'numero': None, 'recinto': '00001', 'request_IP': '127.0.0.1', 'tipodocumentotransporte': 'CE', 'pesobrutodeclarado': 12592, 'taraconjunto': 12000, 'retificador': False, 'capturaautomatica': True}\n",
      "{'dataregistro': '2019-05-28T16:50:02.454708Z', 'operadorevento': 'XNEGDFNNADP', 'dataevento': '2019-05-28T16:50:02.454708Z', 'documentotransporte': 'nGs sCdX Imn', 'IDEvento': 79, 'hash': 6914720654844997776, 'ID': 80, 'pesobalanca': 11445, 'time_created': '2019-05-28T19:51:13Z', 'operadorregistro': 'XNEGDFNNADP', 'placa': 'FMK02285', 'placasemireboque': 'XEK32614', 'numero': None, 'recinto': '00001', 'request_IP': '127.0.0.1', 'tipodocumentotransporte': 'CE', 'pesobrutodeclarado': 10466, 'taraconjunto': 11065, 'retificador': False, 'capturaautomatica': True}\n",
      "{'dataregistro': '2019-05-28T16:50:02.454756Z', 'operadorevento': 'MVMKXGJAUMA', 'dataevento': '2019-05-28T16:50:02.454756Z', 'documentotransporte': 'ScQP s  GCS Q', 'IDEvento': 80, 'hash': 1918738848958527679, 'ID': 81, 'pesobalanca': 8711, 'time_created': '2019-05-28T19:51:13Z', 'operadorregistro': 'MVMKXGJAUMA', 'placa': 'SPE44852', 'placasemireboque': 'MHJ44571', 'numero': None, 'recinto': '00001', 'request_IP': '127.0.0.1', 'tipodocumentotransporte': 'CE', 'pesobrutodeclarado': 11523, 'taraconjunto': 10691, 'retificador': False, 'capturaautomatica': True}\n",
      "{'dataregistro': '2019-05-28T16:50:02.454803Z', 'operadorevento': 'IBBOSGPFVOL', 'dataevento': '2019-05-28T16:50:02.454803Z', 'documentotransporte': ' XuPZ O uXOixkL KkqC', 'IDEvento': 81, 'hash': -4677515657578972276, 'ID': 82, 'pesobalanca': 11365, 'time_created': '2019-05-28T19:51:13Z', 'operadorregistro': 'IBBOSGPFVOL', 'placa': 'PTK47174', 'placasemireboque': 'ACI11022', 'numero': None, 'recinto': '00001', 'request_IP': '127.0.0.1', 'tipodocumentotransporte': 'CE', 'pesobrutodeclarado': 3199, 'taraconjunto': 10417, 'retificador': False, 'capturaautomatica': True}\n",
      "{'dataregistro': '2019-05-28T16:50:02.454852Z', 'operadorevento': 'XNEGDFNNADP', 'dataevento': '2019-05-28T16:50:02.454852Z', 'documentotransporte': 'B  a SAJSVXi  b ', 'IDEvento': 82, 'hash': -1240034090888259731, 'ID': 83, 'pesobalanca': 11160, 'time_created': '2019-05-28T19:51:13Z', 'operadorregistro': 'XNEGDFNNADP', 'placa': 'TOB02824', 'placasemireboque': 'XXU10963', 'numero': None, 'recinto': '00001', 'request_IP': '127.0.0.1', 'tipodocumentotransporte': 'CE', 'pesobrutodeclarado': 14501, 'taraconjunto': 10801, 'retificador': False, 'capturaautomatica': True}\n",
      "{'dataregistro': '2019-05-28T16:50:02.454903Z', 'operadorevento': 'DKHMDOJFHIF', 'dataevento': '2019-05-28T16:50:02.454903Z', 'documentotransporte': 'm  Fb  wCXxH ', 'IDEvento': 83, 'hash': 4446617110650219333, 'ID': 84, 'pesobalanca': 11139, 'time_created': '2019-05-28T19:51:13Z', 'operadorregistro': 'DKHMDOJFHIF', 'placa': 'CZP77291', 'placasemireboque': 'ETP60074', 'numero': None, 'recinto': '00001', 'request_IP': '127.0.0.1', 'tipodocumentotransporte': 'CE', 'pesobrutodeclarado': 9061, 'taraconjunto': 10017, 'retificador': False, 'capturaautomatica': True}\n",
      "{'dataregistro': '2019-05-28T16:50:02.454950Z', 'operadorevento': 'ZHOBJLHQRHO', 'dataevento': '2019-05-28T16:50:02.454950Z', 'documentotransporte': 'I  acfD je', 'IDEvento': 84, 'hash': -7670236115751170345, 'ID': 85, 'pesobalanca': 10899, 'time_created': '2019-05-28T19:51:13Z', 'operadorregistro': 'ZHOBJLHQRHO', 'placa': 'SPB86202', 'placasemireboque': 'CUK24444', 'numero': None, 'recinto': '00001', 'request_IP': '127.0.0.1', 'tipodocumentotransporte': 'CE', 'pesobrutodeclarado': 5088, 'taraconjunto': 11966, 'retificador': False, 'capturaautomatica': True}\n",
      "{'dataregistro': '2019-05-28T16:50:02.454998Z', 'operadorevento': 'IXHPAXBXQPB', 'dataevento': '2019-05-28T16:50:02.454998Z', 'documentotransporte': 'EKwiQAlCDEJ tV LK', 'IDEvento': 85, 'hash': 3234599540492323486, 'ID': 86, 'pesobalanca': 10796, 'time_created': '2019-05-28T19:51:13Z', 'operadorregistro': 'IXHPAXBXQPB', 'placa': 'FRX70456', 'placasemireboque': 'MCK27783', 'numero': None, 'recinto': '00001', 'request_IP': '127.0.0.1', 'tipodocumentotransporte': 'CE', 'pesobrutodeclarado': 8417, 'taraconjunto': 11156, 'retificador': False, 'capturaautomatica': True}\n",
      "{'dataregistro': '2019-05-28T16:50:02.455047Z', 'operadorevento': 'TSQCSNDUVML', 'dataevento': '2019-05-28T16:50:02.455047Z', 'documentotransporte': 'qvjkfLwUcwL ffLK CyH', 'IDEvento': 86, 'hash': -4344352670150387798, 'ID': 87, 'pesobalanca': 12879, 'time_created': '2019-05-28T19:51:13Z', 'operadorregistro': 'TSQCSNDUVML', 'placa': 'IHJ67717', 'placasemireboque': 'XUR78932', 'numero': None, 'recinto': '00001', 'request_IP': '127.0.0.1', 'tipodocumentotransporte': 'CE', 'pesobrutodeclarado': 11187, 'taraconjunto': 11492, 'retificador': False, 'capturaautomatica': True}\n",
      "{'dataregistro': '2019-05-28T16:50:02.455095Z', 'operadorevento': 'ZNIJNOPXEHM', 'dataevento': '2019-05-28T16:50:02.455095Z', 'documentotransporte': 'lSABNBsidJl', 'IDEvento': 87, 'hash': -5526129022466241619, 'ID': 88, 'pesobalanca': 9985, 'time_created': '2019-05-28T19:51:13Z', 'operadorregistro': 'ZNIJNOPXEHM', 'placa': 'UCK21552', 'placasemireboque': 'JRP74685', 'numero': None, 'recinto': '00001', 'request_IP': '127.0.0.1', 'tipodocumentotransporte': 'CE', 'pesobrutodeclarado': 10461, 'taraconjunto': 9340, 'retificador': False, 'capturaautomatica': True}\n",
      "{'dataregistro': '2019-05-28T16:50:02.455144Z', 'operadorevento': 'XTPIUFAHCLL', 'dataevento': '2019-05-28T16:50:02.455144Z', 'documentotransporte': 'lcwTUORU JgsFz J  v', 'IDEvento': 88, 'hash': 8108572837448729815, 'ID': 89, 'pesobalanca': 11108, 'time_created': '2019-05-28T19:51:13Z', 'operadorregistro': 'XTPIUFAHCLL', 'placa': 'KSD34060', 'placasemireboque': 'JUG07283', 'numero': None, 'recinto': '00001', 'request_IP': '127.0.0.1', 'tipodocumentotransporte': 'CE', 'pesobrutodeclarado': 10826, 'taraconjunto': 10851, 'retificador': False, 'capturaautomatica': True}\n",
      "{'dataregistro': '2019-05-28T16:50:02.455192Z', 'operadorevento': 'XNEGDFNNADP', 'dataevento': '2019-05-28T16:50:02.455192Z', 'documentotransporte': 'VN  xg DzTnJxh dRz', 'IDEvento': 89, 'hash': 8370293198209763011, 'ID': 90, 'pesobalanca': 9453, 'time_created': '2019-05-28T19:51:13Z', 'operadorregistro': 'XNEGDFNNADP', 'placa': 'LAU14530', 'placasemireboque': 'TBR95680', 'numero': None, 'recinto': '00001', 'request_IP': '127.0.0.1', 'tipodocumentotransporte': 'CE', 'pesobrutodeclarado': 10436, 'taraconjunto': 10051, 'retificador': False, 'capturaautomatica': True}\n",
      "{'dataregistro': '2019-05-28T16:50:02.455240Z', 'operadorevento': 'ZHOBJLHQRHO', 'dataevento': '2019-05-28T16:50:02.455240Z', 'documentotransporte': 'lcwTUORU JgsFz J  v', 'IDEvento': 90, 'hash': 2689636167381990374, 'ID': 91, 'pesobalanca': 7935, 'time_created': '2019-05-28T19:51:13Z', 'operadorregistro': 'ZHOBJLHQRHO', 'placa': 'IED64414', 'placasemireboque': 'OIG28580', 'numero': None, 'recinto': '00001', 'request_IP': '127.0.0.1', 'tipodocumentotransporte': 'CE', 'pesobrutodeclarado': 7874, 'taraconjunto': 9439, 'retificador': False, 'capturaautomatica': True}\n",
      "{'dataregistro': '2019-05-28T16:50:02.455287Z', 'operadorevento': 'DKHMDOJFHIF', 'dataevento': '2019-05-28T16:50:02.455287Z', 'documentotransporte': 'QREVwvDxZsId', 'IDEvento': 91, 'hash': 1846991731680351688, 'ID': 92, 'pesobalanca': 10549, 'time_created': '2019-05-28T19:51:13Z', 'operadorregistro': 'DKHMDOJFHIF', 'placa': 'VRE34909', 'placasemireboque': 'BNP34952', 'numero': None, 'recinto': '00001', 'request_IP': '127.0.0.1', 'tipodocumentotransporte': 'CE', 'pesobrutodeclarado': 5085, 'taraconjunto': 10363, 'retificador': False, 'capturaautomatica': True}\n",
      "{'dataregistro': '2019-05-28T16:50:02.455333Z', 'operadorevento': 'XTPIUFAHCLL', 'dataevento': '2019-05-28T16:50:02.455333Z', 'documentotransporte': ' XuPZ O uXOixkL KkqC', 'IDEvento': 92, 'hash': -6010052768612560544, 'ID': 93, 'pesobalanca': 9742, 'time_created': '2019-05-28T19:51:13Z', 'operadorregistro': 'XTPIUFAHCLL', 'placa': 'CSR78468', 'placasemireboque': 'HMI32192', 'numero': None, 'recinto': '00001', 'request_IP': '127.0.0.1', 'tipodocumentotransporte': 'CE', 'pesobrutodeclarado': 11513, 'taraconjunto': 9696, 'retificador': False, 'capturaautomatica': True}\n",
      "{'dataregistro': '2019-05-28T16:50:02.455382Z', 'operadorevento': 'IXHPAXBXQPB', 'dataevento': '2019-05-28T16:50:02.455382Z', 'documentotransporte': 'ZZA lMesAGlq L PR', 'IDEvento': 93, 'hash': -2496261791177566087, 'ID': 94, 'pesobalanca': 10208, 'time_created': '2019-05-28T19:51:13Z', 'operadorregistro': 'IXHPAXBXQPB', 'placa': 'HCT01463', 'placasemireboque': 'JIZ28968', 'numero': None, 'recinto': '00001', 'request_IP': '127.0.0.1', 'tipodocumentotransporte': 'CE', 'pesobrutodeclarado': 9231, 'taraconjunto': 9723, 'retificador': False, 'capturaautomatica': True}\n",
      "{'dataregistro': '2019-05-28T16:50:02.455430Z', 'operadorevento': 'TSQCSNDUVML', 'dataevento': '2019-05-28T16:50:02.455430Z', 'documentotransporte': 'abLllK iRzcm', 'IDEvento': 94, 'hash': 314541239001244531, 'ID': 95, 'pesobalanca': 12017, 'time_created': '2019-05-28T19:51:13Z', 'operadorregistro': 'TSQCSNDUVML', 'placa': 'ZHA48186', 'placasemireboque': 'KTG74137', 'numero': None, 'recinto': '00001', 'request_IP': '127.0.0.1', 'tipodocumentotransporte': 'CE', 'pesobrutodeclarado': 7253, 'taraconjunto': 11837, 'retificador': False, 'capturaautomatica': True}\n",
      "{'dataregistro': '2019-05-28T16:50:02.455479Z', 'operadorevento': 'XTPIUFAHCLL', 'dataevento': '2019-05-28T16:50:02.455479Z', 'documentotransporte': ' XuPZ O uXOixkL KkqC', 'IDEvento': 95, 'hash': -5016776707979349816, 'ID': 96, 'pesobalanca': 12821, 'time_created': '2019-05-28T19:51:13Z', 'operadorregistro': 'XTPIUFAHCLL', 'placa': 'HCT01463', 'placasemireboque': 'LFN70418', 'numero': None, 'recinto': '00001', 'request_IP': '127.0.0.1', 'tipodocumentotransporte': 'CE', 'pesobrutodeclarado': 12949, 'taraconjunto': 11895, 'retificador': False, 'capturaautomatica': True}\n",
      "{'dataregistro': '2019-05-28T16:50:02.455529Z', 'operadorevento': 'MVMKXGJAUMA', 'dataevento': '2019-05-28T16:50:02.455529Z', 'documentotransporte': 'lcwTUORU JgsFz J  v', 'IDEvento': 96, 'hash': -2286256295698694001, 'ID': 97, 'pesobalanca': 13275, 'time_created': '2019-05-28T19:51:13Z', 'operadorregistro': 'MVMKXGJAUMA', 'placa': 'KSD34060', 'placasemireboque': 'GGP92972', 'numero': None, 'recinto': '00001', 'request_IP': '127.0.0.1', 'tipodocumentotransporte': 'CE', 'pesobrutodeclarado': 10741, 'taraconjunto': 11646, 'retificador': False, 'capturaautomatica': True}\n",
      "{'dataregistro': '2019-05-28T16:50:02.455576Z', 'operadorevento': 'ZNIJNOPXEHM', 'dataevento': '2019-05-28T16:50:02.455576Z', 'documentotransporte': 'HKX yynTH RXfC', 'IDEvento': 97, 'hash': 5018707731100347397, 'ID': 98, 'pesobalanca': 8511, 'time_created': '2019-05-28T19:51:13Z', 'operadorregistro': 'ZNIJNOPXEHM', 'placa': 'HCT01463', 'placasemireboque': 'GPF61270', 'numero': None, 'recinto': '00001', 'request_IP': '127.0.0.1', 'tipodocumentotransporte': 'CE', 'pesobrutodeclarado': 7675, 'taraconjunto': 10227, 'retificador': False, 'capturaautomatica': True}\n",
      "{'dataregistro': '2019-05-28T16:50:02.455627Z', 'operadorevento': 'ZHOBJLHQRHO', 'dataevento': '2019-05-28T16:50:02.455627Z', 'documentotransporte': 'Jtg DMi mfLogk  ', 'IDEvento': 98, 'hash': -8064593299051599431, 'ID': 99, 'pesobalanca': 9996, 'time_created': '2019-05-28T19:51:13Z', 'operadorregistro': 'ZHOBJLHQRHO', 'placa': 'HLP71330', 'placasemireboque': 'DPP18199', 'numero': None, 'recinto': '00001', 'request_IP': '127.0.0.1', 'tipodocumentotransporte': 'CE', 'pesobrutodeclarado': 13161, 'taraconjunto': 11601, 'retificador': False, 'capturaautomatica': True}\n",
      "{'dataregistro': '2019-05-28T16:50:02.455678Z', 'operadorevento': 'TSQCSNDUVML', 'dataevento': '2019-05-28T16:50:02.455678Z', 'documentotransporte': 'uyksLJUmwVU ltco', 'IDEvento': 99, 'hash': 8456211831680172504, 'ID': 100, 'pesobalanca': 12762, 'time_created': '2019-05-28T19:51:13Z', 'operadorregistro': 'TSQCSNDUVML', 'placa': 'TOB02824', 'placasemireboque': 'SPU62092', 'numero': None, 'recinto': '00001', 'request_IP': '127.0.0.1', 'tipodocumentotransporte': 'CE', 'pesobrutodeclarado': 4243, 'taraconjunto': 11269, 'retificador': False, 'capturaautomatica': True}\n"
     ]
    }
   ],
   "source": [
    "for evento in r.json():\n",
    "    print(evento)\n",
    "    "
   ]
  },
  {
   "cell_type": "code",
   "execution_count": null,
   "metadata": {},
   "outputs": [],
   "source": []
  }
 ],
 "metadata": {
  "kernelspec": {
   "display_name": "Python 3",
   "language": "python",
   "name": "python3"
  },
  "language_info": {
   "codemirror_mode": {
    "name": "ipython",
    "version": 3
   },
   "file_extension": ".py",
   "mimetype": "text/x-python",
   "name": "python",
   "nbconvert_exporter": "python",
   "pygments_lexer": "ipython3",
   "version": "3.5.2"
  }
 },
 "nbformat": 4,
 "nbformat_minor": 2
}
