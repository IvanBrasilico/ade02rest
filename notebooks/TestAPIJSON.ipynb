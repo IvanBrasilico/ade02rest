{
 "cells": [
  {
   "cell_type": "code",
   "execution_count": 1,
   "metadata": {},
   "outputs": [],
   "source": [
    "import json\n",
    "import requests\n",
    "from unittest import TestCase\n",
    "\n",
    "case = TestCase()"
   ]
  },
  {
   "cell_type": "code",
   "execution_count": 2,
   "metadata": {},
   "outputs": [],
   "source": [
    "LOCAL = 'http://localhost:8000/'"
   ]
  },
  {
   "cell_type": "code",
   "execution_count": 3,
   "metadata": {},
   "outputs": [
    {
     "name": "stdout",
     "output_type": "stream",
     "text": [
      "{'AcessoVeiculo': {'IDGate': 'string', 'ocr': True, 'IDAgendamento': 0, 'Chassi': 'string', 'CTE': 'string', 'placa': 'string', 'operadorevento': 'string', 'cpfcnpjtransportador': 'string', 'nomecliente': 'string', 'reboques': [{'vazio': True, 'lacres': 'string', 'avarias': 'string', 'placa': 'string'}], 'conteineres': [{'numero': 'string', 'lacres': 'string', 'avarias': 'string', 'vazio': False}], 'nomemotorista': 'string', 'DTC': 'string', 'dataevento': '2019-05-24T16:49:17.917Z', 'tipooperacao': 'Entrada', 'paisdestino': 'string', 'operadorregistro': 'string', 'retificador': False, 'dataliberacao': '2019-05-24T16:49:17.917Z', 'cpfcnpjcliente': 'string', 'manifesto': 'string', 'navioembarque': 'string', 'nometransportador': 'string', 'IDEvento': 0, 'dataregistro': '2019-05-24T16:49:17.917Z', 'cpfmotorista': 'string'}, 'posicaoveiculo': {'camera': 'string', 'operadorevento': 'string', 'divergencia': True, 'solicitante': 'RFB', 'IDEvento': 0, 'retificador': False, 'placa': 'string', 'box': 'string', 'dataevento': '2019-05-28T11:17:55.041Z', 'tipodocumentotransporte': 'CE', 'emconferencia': True, 'dataregistro': '2019-05-28T11:17:55.041Z', 'reboques': [{'vazio': True, 'placa': 'string'}], 'conteineres': [{'numero': 'string', 'vazio': True}], 'operadorregistro': 'string', 'observacaodivergencia': 'string', 'documentotransporte': 'string'}, 'artefatorecinto': {'dataevento': '2019-05-29T01:54:09.071Z', 'operadorevento': '25052288840', 'tipoartefato': 'Camera', 'dataregistro': '2019-05-29T01:54:09.071Z', 'IDEvento': 1001, 'codigo': 'Camera Codesp ALFSTS', 'coordenadasartefato': [{'lat': -23.932556, 'ordem': 1, 'long': -46.324775}], 'operadorregistro': '30531678830', 'retificador': False}, 'InspecaonaoInvasiva': {'operadorevento': 'string', 'anexos': [{'datacriacao': '2019-05-28T12:18:41.204Z', 'caminhoarquivo': 'string', 'datamodificacao': '2019-05-28T12:18:41.204Z', 'contentType': 'string', 'content': 'string'}], 'placasemireboque': 'string', 'numero': 'string', 'IDEvento': 0, 'retificador': False, 'placa': 'string', 'dataevento': '2019-05-28T12:18:41.204Z', 'tipodocumentotransporte': 'CE', 'dataregistro': '2019-05-28T12:18:41.204Z', 'capturaautomatica': True, 'identificadores': [{'identificacao': 'string'}], 'operadorregistro': 'string', 'documentotransporte': 'string'}, 'pesagemveiculovazio': {'dataevento': '2019-05-28T11:15:25.870Z', 'operadorevento': 'string', 'dataregistro': '2019-05-28T11:15:25.870Z', 'IDEvento': 0, 'reboques': [{'placa': 'string'}], 'placa': 'string', 'operadorregistro': 'string', 'retificador': False, 'pesobalanca': 0}, 'ocorrencia': {'dataevento': '2019-05-30T03:36:45.605Z', 'operadorevento': 'string', 'tipoartefato': 'Gate', 'motivo': 'string', 'dataregistro': '2019-05-30T03:36:45.605Z', 'IDEvento': 1, 'codigo': 'string', 'operadorregistro': 'string', 'retificador': True, 'disponivel': True}, 'AvariaLote': {'dataevento': '2019-05-28T11:10:07.161Z', 'operadorevento': 'string', 'descricaoavaria': 'string', 'dataregistro': '2019-05-28T11:10:07.161Z', 'IDEvento': 0, 'numerolote': 'string', 'operadorregistro': 'string', 'retificador': False, 'qtdevolumes': 0}, 'PosicaoConteiner': {'operadorevento': 'string', 'numero': 'string', 'IDEvento': 0, 'retificador': False, 'placa': 'string', 'dataevento': '2019-05-24T16:48:21.245Z', 'altura': 0, 'emconferencia': True, 'dataregistro': '2019-05-24T16:48:21.245Z', 'posicao': 'string', 'operadorregistro': 'string', 'solicitante': 'RFB'}, 'operacaonavio': {'porto': 'string', 'operadorevento': 'string', 'numero': 'string', 'IDEvento': 1, 'retificador': True, 'dataevento': '2019-05-30T03:38:04.632Z', 'peso': 0, 'direcao': 'Arrumacao', 'viagem': 'string', 'dataregistro': '2019-05-30T03:38:04.632Z', 'posicao': 'string', 'operadorregistro': 'string', 'imonavio': 'string'}, 'unitizacao': {'operadorevento': 'string', 'tipodocumentotransporte': 'CE', 'placasemireboque': 'string', 'numero': 'string', 'IDEvento': 0, 'retificador': False, 'placa': 'string', 'dataevento': '2019-05-28T11:19:08.529Z', 'lotes': [{'numerolote': 'string', 'qtdevolumes': 0}], 'dataregistro': '2019-05-28T11:19:08.529Z', 'documentotransporte': 'string', 'operadorregistro': 'string', 'imagens': [{'datacriacao': '2019-05-31T02:55:50.300000+00:00', 'caminhoarquivo': 'string', 'datamodificacao': '2019-05-31T02:55:50.300000+00:00', 'contentType': 'string', 'content': '0'}]}, 'AcessoPessoa': {'operadorevento': 'string', 'IDEvento': 0, 'retificador': False, 'numerovoo': 'string', 'dataevento': '2019-05-28T11:05:54.208Z', 'cpf': 'string', 'identidade': 'string', 'direcao': 'Entrada', 'reserva': 'string', 'dataregistro': '2019-05-28T11:05:54.208Z', 'formaidentificacao': 'C', 'operadorregistro': 'string', 'portaoacesso': 'string'}, 'pesagemterrestre': {'operadorevento': 'string', 'tipodocumentotransporte': 'CE', 'IDEvento': 0, 'documentotransporte': 'string', 'retificador': False, 'placa': 'string', 'dataevento': '2019-05-28T11:14:14.252Z', 'tara': 0, 'pesobrutodeclarado': 0, 'dataregistro': '2019-05-28T11:14:14.252Z', 'capturaautomatica': True, 'conteineres': [{'numero': 'string', 'tara': 0}], 'operadorregistro': 'string', 'reboques': [{'tara': 0, 'placa': 'string'}], 'pesobalanca': 0}, 'PesagemMaritimo': {'operadorevento': 'string', 'taraconjunto': 0, 'placasemireboque': 'string', 'numero': 'string', 'IDEvento': 0, 'retificador': False, 'placa': 'string', 'dataevento': '2019-05-28T11:45:43.499Z', 'tipodocumentotransporte': 'CE', 'pesobrutodeclarado': 0, 'dataregistro': '2019-05-28T11:45:43.499Z', 'capturaautomatica': True, 'documentotransporte': 'string', 'operadorregistro': 'string', 'pesobalanca': 0}, 'DTSC': {'dataevento': '2019-05-28T11:01:40.071Z', 'operadorevento': 'string', 'cargas': [{'placasemireboque': 'string', 'tipodocumentotransporte': 'CE', 'cpfcnpjtransportador': 'string', 'numero': 'string', 'placa': 'string', 'codigorecinto': 'string', 'cpfcnpjproprietario': 'string', 'documentotransporte': 'string'}], 'viagem': 'string', 'dataregistro': '2019-05-28T11:01:40.071Z', 'IDEvento': 0, 'operadorregistro': 'string', 'retificador': False, 'imonavio': 'string', 'dataoperacao': '2019-05-28T11:01:40.071Z'}, 'posicaolote': {'dataevento': '2019-05-28T11:16:53.793Z', 'operadorevento': 'string', 'numerolote': 0, 'dataregistro': '2019-05-28T11:16:53.793Z', 'IDEvento': 0, 'posicao': 'string', 'operadorregistro': 'string', 'retificador': False, 'qtdevolumes': 'string'}, 'desunitizacao': {'operadorevento': 'string', 'tipodocumentotransporte': 'CE', 'placasemireboque': 'string', 'numero': 'string', 'IDEvento': 0, 'retificador': False, 'placa': 'string', 'dataevento': '2019-05-28T11:10:34.540Z', 'lotes': [{'qtdefalta': 0, 'documentodesconsolidacao': 'string', 'pesolote': 0, 'tipodocumentopapel': 'BL', 'qtdevolumes': 0, 'falta': True, 'tipovolume': 'bigbag', 'numerolote': 'string', 'tipodocumentodesconsolidacao': 'CE', 'marca': 'string', 'observacoes': 'string', 'acrescimo': True, 'documentopapel': 'string'}], 'dataregistro': '2019-05-28T11:10:34.540Z', 'documentotransporte': 'string', 'operadorregistro': 'string', 'imagens': [{'datacriacao': '2019-05-31T02:55:50.300000+00:00', 'caminhoarquivo': 'string', 'datamodificacao': '2019-05-31T02:55:50.300000+00:00', 'contentType': 'string', 'content': '0'}]}}\n"
     ]
    }
   ],
   "source": [
    "with open('../tests/testes.json', 'r') as json_in:\n",
    "    testes = json.load(json_in)\n",
    "print(testes)"
   ]
  },
  {
   "cell_type": "code",
   "execution_count": 4,
   "metadata": {},
   "outputs": [
    {
     "name": "stdout",
     "output_type": "stream",
     "text": [
      "AcessoVeiculo\n",
      "201\n",
      "5472534975414731613\n",
      "\n",
      "posicaoveiculo\n",
      "201\n",
      "1037537787803519602\n",
      "\n",
      "artefatorecinto\n",
      "201\n",
      "-1259862249997413798\n",
      "\n",
      "InspecaonaoInvasiva\n",
      "201\n",
      "2698999182547793861\n",
      "\n",
      "pesagemveiculovazio\n",
      "201\n",
      "-6390985095805155035\n",
      "\n",
      "ocorrencia\n",
      "201\n",
      "4663756850128936788\n",
      "\n",
      "AvariaLote\n",
      "201\n",
      "8499362249322512123\n",
      "\n",
      "PosicaoConteiner\n",
      "201\n",
      "7148055051582961746\n",
      "\n",
      "operacaonavio\n",
      "201\n",
      "-6968553569305958533\n",
      "\n",
      "unitizacao\n",
      "201\n",
      "-7852018944256428034\n",
      "\n",
      "AcessoPessoa\n",
      "201\n",
      "8933584624482104420\n",
      "\n",
      "pesagemterrestre\n",
      "201\n",
      "5042700921620053519\n",
      "\n",
      "PesagemMaritimo\n",
      "201\n",
      "-1026988592431994883\n",
      "\n",
      "DTSC\n",
      "201\n",
      "2895167998322299717\n",
      "\n",
      "posicaolote\n",
      "201\n",
      "7073381754039541309\n",
      "\n",
      "desunitizacao\n",
      "201\n",
      "-5476663350911701965\n",
      "\n"
     ]
    }
   ],
   "source": [
    "for classe, teste in testes.items():\n",
    "    rv = requests.post(LOCAL + classe.lower(), json=teste)\n",
    "    print(classe)\n",
    "    print(rv.status_code)\n",
    "    print(rv.text)"
   ]
  },
  {
   "cell_type": "code",
   "execution_count": 5,
   "metadata": {},
   "outputs": [],
   "source": [
    "def extractDictAFromB(A, B):\n",
    "    return dict([(k, B[k]) for k in A.keys() if k in B.keys()])\n"
   ]
  },
  {
   "cell_type": "code",
   "execution_count": 6,
   "metadata": {},
   "outputs": [
    {
     "name": "stdout",
     "output_type": "stream",
     "text": [
      "posicaoveiculo\n",
      "200\n",
      "pesagemveiculovazio\n",
      "200\n",
      "ocorrencia\n",
      "200\n",
      "PosicaoConteiner\n",
      "200\n",
      "operacaonavio\n",
      "200\n",
      "unitizacao\n",
      "200\n",
      "AcessoPessoa\n",
      "200\n",
      "posicaolote\n",
      "200\n",
      "AcessoVeiculo\n",
      "200\n",
      "Missing: 'ocr','IDAgendamento','Chassi','CTE','cpfcnpjtransportador','nomecliente','nomemotorista','DTC','tipooperacao','paisdestino','retificador','dataliberacao','cpfcnpjcliente','manifesto','navioembarque','nometransportador','cpfmotorista'\n",
      "artefatorecinto\n",
      "200\n",
      "InspecaonaoInvasiva\n",
      "200\n",
      "Missing: 'anexos','identificadores'\n",
      "AvariaLote\n",
      "200\n",
      "pesagemterrestre\n",
      "200\n",
      "PesagemMaritimo\n",
      "200\n",
      "DTSC\n",
      "200\n",
      "Missing: 'cargas'\n",
      "desunitizacao\n",
      "200\n"
     ]
    }
   ],
   "source": [
    "ltestes = testes.copy()\n",
    "for classe, teste in ltestes.items():\n",
    "    print(classe)\n",
    "    rv = requests.get(LOCAL + classe.lower() + '/' + str(teste['IDEvento']))\n",
    "    print(rv.status_code)\n",
    "    if rv.status_code == 200:\n",
    "        response_json = rv.json()\n",
    "        for data in ['dataevento', 'dataregistro', 'dataoperacao']:\n",
    "            if teste.get(data) is not None:\n",
    "                teste.pop(data)\n",
    "            if response_json.get(data) is not None:\n",
    "                response_json.pop(data)\n",
    "        try:\n",
    "            sub_response = extractDictAFromB(teste, response_json)\n",
    "            # case.assertDictEqual(teste, sub_response)\n",
    "            '''\n",
    "            for key, value in teste.items():\n",
    "                if isinstance(value, list):\n",
    "                    for item in value:\n",
    "                        response_item =  sub_response.get(key)\n",
    "                        if response_item is not None:\n",
    "                            print(value)\n",
    "                            print(response_item)\n",
    "                            # case.assertEqual(value, response_item)\n",
    "            '''\n",
    "            case.assertDictContainsSubset(teste, sub_response)\n",
    "            # case.assertDictEqual(lteste, response_json)\n",
    "        except AssertionError as err:\n",
    "            print(err)\n",
    "    # print(rv.text)"
   ]
  },
  {
   "cell_type": "code",
   "execution_count": 7,
   "metadata": {},
   "outputs": [
    {
     "name": "stdout",
     "output_type": "stream",
     "text": [
      "200\n",
      "[\n",
      "  {\n",
      "    \"ID\": 1, \n",
      "    \"IDEvento\": 0, \n",
      "    \"capturaautomatica\": true, \n",
      "    \"dataevento\": \"2019-05-28T11:45:43.499000Z\", \n",
      "    \"dataregistro\": \"2019-05-28T11:45:43.499000Z\", \n",
      "    \"documentotransporte\": \"string\", \n",
      "    \"hash\": -1026988592431994883, \n",
      "    \"numero\": \"string\", \n",
      "    \"operadorevento\": \"string\", \n",
      "    \"operadorregistro\": \"string\", \n",
      "    \"pesobalanca\": 0, \n",
      "    \"pesobrutodeclarado\": 0, \n",
      "    \"placa\": \"string\", \n",
      "    \"placasemireboque\": \"string\", \n",
      "    \"recinto\": \"00001\", \n",
      "    \"request_IP\": \"127.0.0.1\", \n",
      "    \"retificador\": false, \n",
      "    \"taraconjunto\": 0, \n",
      "    \"time_created\": \"2019-05-31T03:27:31Z\", \n",
      "    \"tipodocumentotransporte\": \"CE\"\n",
      "  }\n",
      "]\n",
      "\n"
     ]
    }
   ],
   "source": [
    "import time\n",
    "s0 = time.time()\n",
    "query = {'IDEvento': -1,\n",
    "       'tipoevento': 'PesagemMaritimo'}\n",
    "r = requests.get(LOCAL + 'get_eventos_novos',\n",
    "                  data=query)\n",
    "s1 = time.time()\n",
    "print(r.status_code)\n",
    "print(r.text[:1000])"
   ]
  },
  {
   "cell_type": "code",
   "execution_count": null,
   "metadata": {},
   "outputs": [],
   "source": []
  }
 ],
 "metadata": {
  "kernelspec": {
   "display_name": "Python 3",
   "language": "python",
   "name": "python3"
  },
  "language_info": {
   "codemirror_mode": {
    "name": "ipython",
    "version": 3
   },
   "file_extension": ".py",
   "mimetype": "text/x-python",
   "name": "python",
   "nbconvert_exporter": "python",
   "pygments_lexer": "ipython3",
   "version": "3.5.2"
  }
 },
 "nbformat": 4,
 "nbformat_minor": 2
}
