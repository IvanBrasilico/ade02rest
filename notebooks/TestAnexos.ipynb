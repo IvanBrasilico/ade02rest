{
 "cells": [
  {
   "cell_type": "code",
   "execution_count": 1,
   "metadata": {},
   "outputs": [],
   "source": [
    "import datetime\n",
    "import time\n",
    "import random\n",
    "import requests\n",
    "import json\n",
    "import bson\n",
    "import gzip\n",
    "import os\n",
    "from base64 import b64encode\n",
    "from copy import deepcopy\n",
    "from unittest import TestCase\n",
    "from IPython import display\n",
    "\n",
    "case = TestCase()\n",
    "\n",
    "\n",
    "LOCAL = 'http://localhost:8000/'\n",
    "REMOTE = 'https://api-recintos.herokuapp.com/'\n",
    "HOME = LOCAL"
   ]
  },
  {
   "cell_type": "code",
   "execution_count": 2,
   "metadata": {},
   "outputs": [],
   "source": [
    "inspecao_modelo = {\n",
    "  \"IDEvento\": 0,\n",
    "  \"dataevento\": \"2019-05-28T12:18:41.204Z\",\n",
    "  \"dataregistro\": \"2019-05-28T12:18:41.204Z\",\n",
    "  \"operadorevento\": \"string\",\n",
    "  \"operadorregistro\": \"string\",\n",
    "  \"anexos\": [\n",
    "    {\n",
    "      \"datacriacao\": \"2019-05-31T02:55:50.300000+00:00\",\n",
    "      \"datamodificacao\": \"2019-05-31T02:55:50.300000+00:00\"\n",
    "    }\n",
    "  ],\n",
    "  \"identificadores\": [\n",
    "    {\n",
    "      \"identificador\": \"string\"\n",
    "    }\n",
    "  ],\n",
    "  \"retificador\": False,\n",
    "  \"capturaautomatica\": True,\n",
    "  \"documentotransporte\": \"150\",\n",
    "  \"numero\": \"TESTE1234\",\n",
    "  \"placa\": \"TST1234\",\n",
    "  \"placasemireboque\": \"TST5678\",\n",
    "  \"tipodocumentotransporte\": \"CE\"\n",
    "}"
   ]
  },
  {
   "cell_type": "code",
   "execution_count": 3,
   "metadata": {},
   "outputs": [],
   "source": [
    "inspecoes = []\n",
    "for ind, image in enumerate(os.listdir('images'), 1):\n",
    "    content = open(os.path.join('images', image), 'rb')\n",
    "    base64_bytes = b64encode(content.read())\n",
    "    base64_string = base64_bytes.decode('utf-8')\n",
    "    _inspecao = deepcopy(inspecao_modelo)\n",
    "    _inspecao['IDEvento'] = ind\n",
    "    _inspecao['numero'] = _inspecao['numero'] + str(ind)\n",
    "    _inspecao['anexos'][0]['content'] = base64_string\n",
    "    _inspecao['anexos'][0]['nomearquivo'] = image\n",
    "    inspecoes.append(_inspecao)\n",
    "\n",
    "inspecoes_bson = []\n",
    "for ind, image in enumerate(os.listdir('images'), 1):\n",
    "    content = open(os.path.join('images', image), 'rb').read()\n",
    "    _inspecao = deepcopy(inspecao_modelo)\n",
    "    _inspecao['IDEvento'] = ind\n",
    "    _inspecao['numero'] = _inspecao['numero'] + str(ind)\n",
    "    _inspecao['anexos'][0]['content'] = content\n",
    "    _inspecao['anexos'][0]['nomearquivo'] = image\n",
    "    inspecoes_bson.append(_inspecao)"
   ]
  },
  {
   "cell_type": "code",
   "execution_count": 4,
   "metadata": {},
   "outputs": [
    {
     "name": "stdout",
     "output_type": "stream",
     "text": [
      "24\n"
     ]
    }
   ],
   "source": [
    "print(len(inspecoes))"
   ]
  },
  {
   "cell_type": "code",
   "execution_count": 5,
   "metadata": {},
   "outputs": [
    {
     "data": {
      "text/plain": [
       "{'IDEvento': 1,\n",
       " 'dataevento': '2019-05-28T12:18:41.204Z',\n",
       " 'dataregistro': '2019-05-28T12:18:41.204Z',\n",
       " 'operadorevento': 'string',\n",
       " 'operadorregistro': 'string',\n",
       " 'anexos': [{'datacriacao': '2019-05-31T02:55:50.300000+00:00',\n",
       "   'datamodificacao': '2019-05-31T02:55:50.300000+00:00',\n",
       "   'content': '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',\n",
       "   'nomearquivo': '5c59d2d8e450c23468e282ed.jpg'}],\n",
       " 'identificadores': [{'identificador': 'string'}],\n",
       " 'retificador': False,\n",
       " 'capturaautomatica': True,\n",
       " 'documentotransporte': '150',\n",
       " 'numero': 'TESTE12341',\n",
       " 'placa': 'TST1234',\n",
       " 'placasemireboque': 'TST5678',\n",
       " 'tipodocumentotransporte': 'CE'}"
      ]
     },
     "execution_count": 5,
     "metadata": {},
     "output_type": "execute_result"
    }
   ],
   "source": [
    "inspecoes[0]"
   ]
  },
  {
   "cell_type": "code",
   "execution_count": 6,
   "metadata": {},
   "outputs": [
    {
     "data": {
      "text/plain": [
       "{'IDEvento': 1,\n",
       " 'dataevento': '2019-05-28T12:18:41.204Z',\n",
       " 'dataregistro': '2019-05-28T12:18:41.204Z',\n",
       " 'operadorevento': 'string',\n",
       " 'operadorregistro': 'string',\n",
       " 'anexos': [{'datacriacao': '2019-05-31T02:55:50.300000+00:00',\n",
       "   'datamodificacao': '2019-05-31T02:55:50.300000+00:00',\n",
       "   'content': b'\\xff\\xd8\\xff\\xe0\\x00\\x10JFIF\\x00\\x01\\x01\\x00\\x00\\x01\\x00\\x01\\x00\\x00\\xff\\xdb\\x00C\\x00\\x08\\x06\\x06\\x07\\x06\\x05\\x08\\x07\\x07\\x07\\t\\t\\x08\\n\\x0c\\x14\\r\\x0c\\x0b\\x0b\\x0c\\x19\\x12\\x13\\x0f\\x14\\x1d\\x1a\\x1f\\x1e\\x1d\\x1a\\x1c\\x1c $.\\' \",#\\x1c\\x1c(7),01444\\x1f\\'9=82<.342\\xff\\xdb\\x00C\\x01\\t\\t\\t\\x0c\\x0b\\x0c\\x18\\r\\r\\x182!\\x1c!22222222222222222222222222222222222222222222222222\\xff\\xc0\\x00\\x11\\x08\\x00\\xc8\\x01\\xaf\\x03\\x01\"\\x00\\x02\\x11\\x01\\x03\\x11\\x01\\xff\\xc4\\x00\\x1f\\x00\\x00\\x01\\x05\\x01\\x01\\x01\\x01\\x01\\x01\\x00\\x00\\x00\\x00\\x00\\x00\\x00\\x00\\x01\\x02\\x03\\x04\\x05\\x06\\x07\\x08\\t\\n\\x0b\\xff\\xc4\\x00\\xb5\\x10\\x00\\x02\\x01\\x03\\x03\\x02\\x04\\x03\\x05\\x05\\x04\\x04\\x00\\x00\\x01}\\x01\\x02\\x03\\x00\\x04\\x11\\x05\\x12!1A\\x06\\x13Qa\\x07\"q\\x142\\x81\\x91\\xa1\\x08#B\\xb1\\xc1\\x15R\\xd1\\xf0$3br\\x82\\t\\n\\x16\\x17\\x18\\x19\\x1a%&\\'()*456789:CDEFGHIJSTUVWXYZcdefghijstuvwxyz\\x83\\x84\\x85\\x86\\x87\\x88\\x89\\x8a\\x92\\x93\\x94\\x95\\x96\\x97\\x98\\x99\\x9a\\xa2\\xa3\\xa4\\xa5\\xa6\\xa7\\xa8\\xa9\\xaa\\xb2\\xb3\\xb4\\xb5\\xb6\\xb7\\xb8\\xb9\\xba\\xc2\\xc3\\xc4\\xc5\\xc6\\xc7\\xc8\\xc9\\xca\\xd2\\xd3\\xd4\\xd5\\xd6\\xd7\\xd8\\xd9\\xda\\xe1\\xe2\\xe3\\xe4\\xe5\\xe6\\xe7\\xe8\\xe9\\xea\\xf1\\xf2\\xf3\\xf4\\xf5\\xf6\\xf7\\xf8\\xf9\\xfa\\xff\\xc4\\x00\\x1f\\x01\\x00\\x03\\x01\\x01\\x01\\x01\\x01\\x01\\x01\\x01\\x01\\x00\\x00\\x00\\x00\\x00\\x00\\x01\\x02\\x03\\x04\\x05\\x06\\x07\\x08\\t\\n\\x0b\\xff\\xc4\\x00\\xb5\\x11\\x00\\x02\\x01\\x02\\x04\\x04\\x03\\x04\\x07\\x05\\x04\\x04\\x00\\x01\\x02w\\x00\\x01\\x02\\x03\\x11\\x04\\x05!1\\x06\\x12AQ\\x07aq\\x13\"2\\x81\\x08\\x14B\\x91\\xa1\\xb1\\xc1\\t#3R\\xf0\\x15br\\xd1\\n\\x16$4\\xe1%\\xf1\\x17\\x18\\x19\\x1a&\\'()*56789:CDEFGHIJSTUVWXYZcdefghijstuvwxyz\\x82\\x83\\x84\\x85\\x86\\x87\\x88\\x89\\x8a\\x92\\x93\\x94\\x95\\x96\\x97\\x98\\x99\\x9a\\xa2\\xa3\\xa4\\xa5\\xa6\\xa7\\xa8\\xa9\\xaa\\xb2\\xb3\\xb4\\xb5\\xb6\\xb7\\xb8\\xb9\\xba\\xc2\\xc3\\xc4\\xc5\\xc6\\xc7\\xc8\\xc9\\xca\\xd2\\xd3\\xd4\\xd5\\xd6\\xd7\\xd8\\xd9\\xda\\xe2\\xe3\\xe4\\xe5\\xe6\\xe7\\xe8\\xe9\\xea\\xf2\\xf3\\xf4\\xf5\\xf6\\xf7\\xf8\\xf9\\xfa\\xff\\xda\\x00\\x0c\\x03\\x01\\x00\\x02\\x11\\x03\\x11\\x00?\\x00\\xf4\\xff\\x00\\x89\\xcd\"\\xfc=\\xd4\\x8cE\\x83\\xef\\x80e[i\\xc1\\x99\\x01\\xc1\\xed\\xc6EyN\\x91\\xab/\\xf6\\xec+\\xa6\\xc5{\\xa6\\xb0\\xb4+)\\x8e\\xf4\\xc8d;\\x97\\x9ek\\xd7\\xbe \\x98\\x97\\xc0\\x9a\\xa3\\xcc\\x01DDb\\t\\xee\\x1dH\\xfdq^_egj\\xda\\xd2\\xcbe\\x12(+\\x8e\\x0fm\\xcb\\xef\\xed@\\x1d-\\x9e\\xa9\\xaa,\\x9b\\x1bT\\xbb\\x90\\x1e\\xee\\xe7?\\xce\\xb7\\x0c\\xf7\\xe0\\x9cj\\x17\\x00\\xff\\x00\\xbdX\\xb0\\xc5$-\\xbd\\xd4m\\x03\\x9ek\\xa5@\\x08\\'\\x03\\x92\\x7f\\x9d\\x00V[\\x9dC\\xb6\\xa1q\\x9f\\xce\\x9e/5D\\x19\\x1a\\x84\\xdf\\x8cJj\\xc6\\x14\\xe0\\x10\\x0f\\xe1O\\x08\\x98\\xfb\\x8b\\xf9\\n\\x00\\xab\\xf6\\xfdT\\xf4\\xbf\\x97\\xfe\\xfc/\\xf8R\\x8b\\xfdc\\x19\\x17\\xee~\\xb0/\\xf8T\\xee\\x88\\x10\\x9d\\x8b\\xf9RD\\x88bS\\xb1\\x7f*\\x00\\x8b\\xfbKX\\x1f\\xf2\\xf3\\x9f\\xac#\\xfc)\\x7f\\xb55\\x7f\\xf9\\xee\\xbf\\x8cC\\xfc*\\x7f-?\\xba?!G\\x96\\x9f\\xdd\\x1f\\x95\\x00W\\xfe\\xd5\\xd5\\xbf\\xe7\\xbc_\\x8cc\\xfc(\\xfe\\xd6\\xd5\\x87[\\x88G\\xfd\\xb3\\x15c\\xcbO\\xee\\x8a<\\xb4\\xfe\\xe8\\xa0\\x08?\\xb65_\\xf9\\xfa\\x87\\xfe\\xfd\\x8aO\\xed}S\\xfe~\\xa1\\xff\\x00\\xbfb\\xa6DVPv\\x8f\\xca\\x9cc_\\xee\\x8f\\xca\\x80+\\xff\\x00k\\xea\\x9f\\xf3\\xf5\\x0f\\xfd\\xfb\\x14\\xbf\\xda\\xfa\\xafk\\x98\\x0f\\xd5*o-?\\xba?*<\\xb4\\xfe\\xe8\\xa0\\x08\\xbf\\xb6uQ\\xff\\x00-\\xed\\xbf\\xef\\x83G\\xf6\\xd6\\xa9\\xff\\x00=\\xad\\x7f\\xef\\x83R\\xf9i\\xfd\\xc1Mx\\xd0!\\xf9\\x05\\x000kZ\\xa7\\xfc\\xf6\\xb5?\\xf0\\x03K\\xfd\\xb7\\xaa\\xff\\x00\\xcfKC\\xf5C\\xfe4\\xa8\\x88r6\\x0e\\x00\\xa7\\xf9I\\xfd\\xc1@\\x0c\\x1a\\xe6\\xa9\\xebd~\\xa8\\xdf\\xe3K\\xfd\\xbd\\xaa\\xff\\x00v\\xc8\\xff\\x00\\xc0\\x1b\\xff\\x00\\x8a\\xa7yI\\xfd\\xd1G\\x93\\x1f\\xf7h\\x01\\xa3^\\xd5\\x7f\\xe7\\x9d\\x99\\xfc\\x1b\\xff\\x00\\x8a\\xa5\\xfe\\xdf\\xd4\\xc7Xm\\x8f\\xe7\\xff\\x00\\xc5Q\\xe4\\xc7\\xfd\\xdaj\\xc3\\x1bg\\x8e\\x86\\x80\\x1e<A\\xa8\\xff\\x00\\xcf\\xbd\\xbf\\xe0O\\xf8\\xd2\\xff\\x00\\xc2C~\\x0f6\\x90\\x9f\\xa3\\xe3\\xfa\\xd3>\\xcf\\x17\\xa5\\x06\\xde/C@\\x12\\x8f\\x11\\xdew\\xb0\\x8c\\xff\\x00\\xdb|S\\x87\\x89.\\xbb\\xe9\\xc8\\x7f\\xed\\xe3\\xff\\x00\\xb1\\xaa\\xff\\x00f\\x8f\\xd0\\xd1\\xf6h\\xfd\\r\\x00X\\xff\\x00\\x84\\x92\\xe7\\xfe\\x81\\xab\\xff\\x00\\x81\\x1f\\xfd\\x8d\\'\\xfc$\\xb7\\x1f\\xf4\\r_\\xfc\\x08\\xff\\x00\\xecj\\xb4\\xb6\\xb1\\x84?{\\xf3\\xa1m\\xa2n~n\\xbe\\xb4\\x01k\\xfe\\x12[\\x9f\\xfa\\x06\\x8f\\xfb\\xff\\x00\\xff\\x00\\xd8\\xd0<K7}4\\xfe\\x13\\x7f\\xf65[\\xec\\x89\\xd8\\xb7\\xe7G\\xd9S\\xd5\\xbf:\\x00\\xb5\\xff\\x00\\t,\\xbf\\xf4\\ro\\xfb\\xfb\\xff\\x00\\xd6\\xa3\\xfe\\x12i?\\xe8\\x1d \\xff\\x00\\x81\\xff\\x00\\xf5\\xaa\\xaf\\xd9S\\xfb\\xc6\\x9a\\xd6\\xd1\\xa8\\xceO\\xe7@\\x17\\x7f\\xe1&=\\xf4\\xf9\\xbf\\x06\\xcf\\xf4\\xa5\\xff\\x00\\x84\\x9d{\\xe9\\xf7?\\x86*\\x97\\xd9\\x10\\xf7\"\\x8f\\xb2/gj\\x00\\xbf\\xff\\x00\\t<?\\xc5cw\\xf9/\\xf8\\xd1\\xff\\x00\\tE\\xaf{[\\xb1\\xff\\x00\\x01_\\xfe*\\xa8}\\x90\\x7f\\xcfF\\xa4\\xfb)\\xff\\x00\\x9e\\x87\\xf2\\xa0\\r!\\xe2{.\\xf0\\xdc\\x0f\\xaa\\x0f\\xf1\\xa5\\x1e\\'\\xb0\\xee&\\x1fT\\xff\\x00\\xeb\\xd6g\\xd9Oi\\x0f\\xe5LKv\\xc7\\xfa\\xd3\\x9f\\xa5\\x00l\\x0f\\x13ig\\xac\\x92\\x8f\\xfbd\\xdf\\xd2\\x94x\\x97J\\xff\\x00\\x9f\\x97\\x1f\\xf6\\xc1\\xff\\x00\\xc2\\xb1\\xcd\\xb3\\x9f\\xe3\\xcf\\xd6\\x90\\xda\\xb1\\xfe\\xef\\xe2(\\x03q|C\\xa5\\xb7K\\x93\\xf8\\xc4\\xe3\\xfaT\\x83[\\xd3z\\xfd\\xb21\\xf5\\xc8\\xaex\\xda7\\xa4g\\xf0\\xa6\\x9b3\\xfd\\xc8\\xbf\\xef\\x91@\\x1d*\\xeb\\x1ak\\x7f\\xcb\\xf5\\xb8\\xff\\x00z@?\\x9dJ\\xba\\x8d\\x8b\\x9f\\x96\\xf6\\xdd\\xbd\\x84\\xaa\\x7f\\xadr\\x9fc?\\xf3\\xca?\\xc0\\x01Mk/XT\\x8fc@\\x1d\\xa2\\xc8\\x8e2\\x8e\\xad\\xf49\\xa7W\\nt\\xd8\\xc9\\xe6\\xd8~T\\xdf\\xec\\xe8\\x87Kr>\\x82\\x80;\\xca+\\x84\\xfb B\\x00I\\x87\\xd0\\xe2\\x97\\xc9q\\xfcwC\\xfe\\xda\\x1a\\x00\\xee\\xa8\\xae\\x14\\xc7 \\xff\\x00\\x96\\xd7c\\xfe\\xda\\x1aL\\xca\\x99\"\\xe6\\xf0q\\xff\\x00=Z\\x80;\\xbaa\\x965$\\x19\\x14\\x11\\xd4\\x13\\xd2\\xbc\\xb7Q\\xbe\\xbd7\\r\\x1a\\xeaZ\\x8a*\\xb1\\xfb\\x93\\xb8\\xeeG\\xady\\xd6\\xaf\\xaaAq}\\x7fi%\\xb5\\xcd\\xce\\xa1$\\xc8\\xf1\\xdeKv\\xdb\\x82\\x84\\x19\\\\w\\xcd\\x00{W\\xc5\\x1d\\x83\\xe1\\x9e\\xb8]C\\x0f#\\x80Fy\\xdc1\\xfa\\xe2\\xbc\\xb3\\xc2\\xf3\"\\xdc\\x85\\xdaF\\xdc\\x00\\x14d\\x7f\\rzg\\xc5\\xb2\\xdf\\xf0\\xabu\\xbd\\x87\\x07\\xcb_\\xfd\\rk\\xca\\xfc-3y\\xa1\\x82\\x9c\\x9ct\\x1e\\xe2\\x80;\\x8b\\x8b\\xa0\\xb6\\xd2\\xe1\\x9b\\x81\\xddO\\xaduC;y\\xf5?\\xce\\xb8k\\xbb\\x866\\x93\\x0c\\x1f\\xbaz\\x81]\\xd0\\'\\x07\\xea\\x7f\\x9d\\x00\\'\\xf1\\n\\x94g\\x02\\xa3\\xcf\\xcc*Px\\xa0\\x06I\\xfe\\xad\\xbe\\x94\\xd8\\x87\\xeeV\\x9d)\\xfd\\xd3})\"?\\xba_\\xa5\\x00>\\x8a3FO\\xb5\\x00\\x14\\x1e\\x86\\x97\\'\\xda\\x90\\x9e\\r\\x006?\\xb8)\\xd4\\xd4? \\xa7\\x13\\xc5\\x004\\xf5\\x14\\xb4\\x84\\xfc\\xc2\\x9d\\x9a\\x00)\\xaf\\xf7\\r;4\\xd7?!\\xa0\\x06\\xc7\\xf7\\x9b\\xf0\\xa9)\\x91\\xb7\\xcc\\xd5&\\xea\\x00J(\\xcd\\x19\\xf5\\xa0\\x03\\xbd2>\\xad\\xf5\\xa93LC\\xf7\\xbe\\xa6\\x80\\x15z\\x1f\\xad-\"\\x9e\\xb4\\xec\\x9fj\\x00N\\xf4b\\x97&\\x8c\\xd0\\x04r}\\xc3D}\\x0f\\xd6\\x96Bv\\xf6\\xebDD\\xed=:\\x9a\\x00wz)rh\\xcd\\x00&)\\x92}\\xdf\\xc6\\xa4\\xcdF\\xc7\\x8f\\xc6\\x80\\x1fE\\x19\\xe2\\x8c\\xd0\\x01E\\x19\\xa34\\x00\\x87\\xa5E\\x17\\xde5)<Tp\\x9eM\\x00IA\\xe9K\\x93HO\\x14\\x00\\x83\\x91\\x9a\\x1f\\xee\\x1a\\x14\\x9d\\x82\\x91\\xcf\\xc8h\\x01\\xc2\\x96\\x90\\x1e\\x05.h\\x00\\xa3\\xd2\\x8c\\xd1\\x9eh\\x01\\xa4\\x1f1\\x7f\\x1aE\\xce\\xf2=\\x85)?\\xbcZ\\x14\\xfe\\xf1\\xfe\\x82\\x80\\x06\\xc8\\xa68\\xca\\x1as\\x9eE#7\\xc8\\xdcv\\xa0\\x0ej\\xf6\\xdeInd(\\xa3\\x1b\\xd8\\x1c\\x9f\\xf6\\x8dye\\xc4V\\x96\\xbe<\\x8e[\\xd8U\\xa2\\x0b\\xf3.z\\x9f,\\x81^\\xbf#~\\xf2^\\x9f\\xeb\\x1b\\xf9\\x9a\\xf2\\xa9a\\x86\\xfb\\xe2\\x85\\x95\\xb5\\xc8\\xfd\\xc1,[\\x9c\\x0e!|~\\xb8\\xa0\\x0f]\\xf8\\xbd\\x91\\xf0\\xb7[\\xc7_-\\x7f\\xf4!^I\\xe1\\x8b\\xb4\\x81\\x03\\xc8\\xca\\xb8<\\x92q\\x81\\xc5z\\xa7\\xc6\\x96e\\xf8W\\xaa\\xec\\xceI\\x8cp3\\xc6\\xf1^\\x13=\\xc4\\x96\\xfe\\x17\\xb9\\x9e\\x12w\\x00\\x83\\x19\\xceNTq@\\x1e\\x8au8\\xaf\\xf4\\x89\\xa7\\x8c\\x82\\x85\\x0b}\\xe1\\xc6x\\xc7\\xe9^\\x90:~&\\xbc\\x1f\\xc0\\xb2\\\\\\xdfxN\\xf9\\xa4\\xc8\\x11\\xcaW\\xa7`\\xa0\\xff\\x00Z\\xf7\\x7f_rh\\x01\\x7f\\x88T\\x83\\xa0\\xa8\\xbf\\x89jA\\xf7E\\x00$\\xbf\\xea\\x9b\\xe9I\\x17\\xfa\\xb5\\xfaQ/\\xfa\\xa6\\xfaRE\\xfe\\xa9~\\x94\\x01%\\x14\\x82\\x96\\x80\\nC\\xd0\\xd2\\xd2\\x1e\\x86\\x80\\x1b\\x1f\\xdc\\x14\\xfaj\\x0f\\x90R\\xd0\\x02\\x1f\\xbc)\\xd4\\xd3\\xf7\\x85:\\x80\\nk\\xfd\\xc3N\\xa6\\xc9\\xf7\\r\\x006?\\xbc\\xf5%G\\x1f\\xdf\\x7f\\xc2\\xa4\\xa0\\x02\\x8a(\\xa0\\x02\\x9b\\x1f\\xf1\\x7f\\xbci\\xdd\\xa9\\x89\\xd1\\xbe\\xa6\\x80\\x1c\\xbd\\r(\\xa4^\\x94\\xa3\\xa5\\x00-\\x14\\x94P\\x03d\\xfb\\xbf\\x8d\\x11}\\xc3\\xf5\\xa2O\\xbb\\xf8\\xd2E\\xf7O\\xd4\\xd0\\x04\\x94RQ@\\x05F\\xdd\\xbe\\xb5%F\\xdd\\x07\\xd6\\x80$\\xa2\\x8a(\\x00\\xa2\\x8a(\\x01\\x0f\\xdd5\\x1c_y\\xaaC\\xd0\\xd4q}\\xe6\\xfc(\\x02ZC\\xf7M-!\\xfb\\xa6\\x80\\x01\\xf7E5\\xfe\\xe1\\xa7\\x0f\\xba)\\xaf\\xf7\\r\\x008t\\x1fJZA\\xd0Q@\\x0bA\\xa2\\x8a\\x00i\\xff\\x00Z\\xbfJA\\xfe\\xb1\\xfe\\x82\\x94\\xff\\x00\\xac_\\xa1\\xa6\\xaf\\xfa\\xc7\\xfa\\n\\x00Y:\\x8aF\\xfb\\x87\\xe9C\\xfd\\xe1Mo\\xb8\\xdfJ\\x00\\xc6\\x93\\xef\\xcb\\xff\\x00]\\x1b\\xff\\x00B5\\xe3\\xba\\xd4\\x1fi\\xf1\\xca\\xc6\\xa4\\x89\\x08;Hl\\x10v\\x1f\\xe9\\x9a\\xf6\\txi\\x7f\\xdf\\x7f\\xe6k\\xc8o\\xe6H~\"\\xc6\\xf2\\xc8\\xb1\\xc67e\\x98\\xe0\\x0f\\x91\\xbb\\xd0\\x07\\xb4|c\\xff\\x00\\x92]\\xabc\\xd1?\\xf4!^\\x1d\\xa5$w\\xb0\\xb4\\x1br\\xa4\\x8f\\x94\\xfa\\x8cW\\xb6\\xfci$|+\\xd5\\xb6\\xe3\\xfeY\\x83\\x9fM\\xe2\\xbcW\\xc3\\xee#wP\\xbe\\x87\\xf5\\xa0\\x0e\\xafH\\xb7\\x87K\\xf0\\xe5\\xc5\\xaa\\xa0\\x00\\x82O=N\\xd0+\\xd3\\xa4\\xbe\\xb7\\x85X\\xb1 (\\xe4\\x8a\\xf2\\x19\\xee\\xcc6\\xb3\\xa0\\x04)S\\xf3\\x13V\\xfcA\\xe39mn\\xe7\\xb3\\x8bc*\\x92\\xa5\\xc8\\xeb@\\x1e\\x88<I\\xa7\\x99\\x00\\xc3\\xfdEh\\xdaj6\\x97c\\x11\\xc9\\xf3z\\x11\\xcdx2\\xf8\\x8eI\\x1c\\x1d\\xc7<\\xf0\\ri\\xe9>,\\x9a6T2`\\xe4{\\x9e\\xb4\\x01\\xeaw\\x1e\\'\\xb3C\"\\xf9o\\xb4q\\x9al\\x1e+\\xd3Y\\x14\\r\\xc1\\xbe\\xa2\\xbc\\xaa\\xf3[\\xfbI\\x93\\x07\\xa0\\xc2\\xe3\\xb8\\x1cVj\\xea\\x8c\\\\`\\xf2;P\\x07\\xbd\\xd9\\xeaV\\xb7\\xccV\\x16;\\xc0\\xce\\x08\\xe7\\x15VO\\x10\\xd9$\\xcc\\x81%m\\xbdX\\x0cW\\x9dxGW\\x96=Gq\\x91\\xc6\\x07\\x08\\xdd\\rZ\\xba\\xd4\\xe4Y\\xe6]\\xa1\\x08c\\xc0\\xfa\\x9a\\x00\\xef\\xa3\\xd7\\xf4\\xe9:\\xbb\\xa1\\xf4*j\\xecw6\\xf71\\x97\\x85\\xb7\\x0cW\\x936\\xaf a\\x96\\xfc\\xebJ\\xdb\\xc4mmcp\\xc5\\x82\\x10\\xa3\\xa7\\xd4P\\x07\\xa5\\xa0\\x05G\\xcb\\xeb\\xfc\\xe9\\xdct\\x15\\xe4\\xa3\\xc5\\xd3\\xb8\\xc2\\xdc0\\xfa6\\r^\\xb3\\xf1\\xa5\\xdc\\x03\\xe6\\x94\\xc81\\xd1\\xb9\\xa0\\x0e\\xea]f\\xca;\\xc3\\x0c\\x8cT\\xa9\\xc6\\xecdU\\xf8\\xe5\\x8ae\\xdd\\x13\\x07\\x07\\xb85\\xe40x\\x86K\\xa3\\xf6\\x9c\\x0c3\\x10\\xcb\\xee\\rl\\xe9\\xfe!\\xf2\\x9c\\x18&U\\'\\xf8\\x18\\xe5M\\x00z@\\xc7\\xa55\\xf6\\xed5\\x85\\xff\\x00\\t<#O3\\xbc{dB\\x14\\xa99\\x07=\\xc5b^\\xf8\\xceB\\x0f\\x97\\xb5G\\xb5\\x00v\\xd1\\x81\\xb9\\xce\\rI\\xf2\\xfaW\\x9a\\xc7\\xe3;\\xa5\\x99\\x8f\\x99\\xc6z\\x1a\\xf4\\x0b\\x1b\\xbf\\xb6\\xd8Cs\\xc6%@\\xd4\\x01o\\x0b\\xe9L\\xdf\\x10b\\xa5\\x97p\\xed\\x9ej\\xb2\\xeavd\\x80\\'PMrZ\\xcd\\xf1]R\\xe6D\\x93\\xe5R9S\\xec(\\x03\\xb8\\xc0\\xf4\\xa6\\xa6\\xde~\\xb5\\xc1\\xdax\\x96e\\x00\\xc5s\\x91\\xe8\\xd5\\xbf\\xa5k\\xe6\\xf1\\xa4\\x8d\\xe3\\xc3\\xacl\\xf9\\xfaP\\x06\\xf2\\xed\\xda8\\xa5\\xc0\\xf45\\xe7\\xd0\\xf8\\xdau\\x1c\\xb2\\xe3=\\rj\\xda\\xf8\\xd6\\x17 M\\x10\\xfa\\x8a\\x00\\xeb\\x06\\xdfJ_\\x97\\xd2\\xa9\\xe9\\xfa\\x95\\xbe\\xa5\\x11\\x92\\x06,\\x01\\x00\\x8a\\xb7\\x91@\\x08\\xfbp8\\xefM\\x88)N\\x94Hx\\x1cw\\xa4\\x89\\x87\\x97\\xf8\\xd0\\x04\\x98\\x1e\\x94\\xcf:\\x12\\xfb\\x03\\xae\\xefL\\xf3P\\\\j6\\xb6\\xc8\\xed$\\xc9\\x95Rq\\x9c\\xf4\\x15\\xc1O\\xaf\\xb5\\xac\\xc0\\x83\\xe6\\x06\\x19<\\xd0\\x07\\xa3\\xe0\\x03\\xc8\\xa60^>S\\xd6\\xb8\\xb8\\xbcV\\xd2\\xe9w\\x026\\xd9\"\\xe3\\x19=\\xbb\\xd6cx\\xa6Ea\\x89\\x9f\\xaex4\\x01\\xe9_/\\xa6(\\xc0\\xae\\x16\\xd7\\xc5\\xf3\\x12\\x01\\x94\\x9ff\\x15\\xd4\\rn\\xd9b\\x8c\\xc8\\xc0;\"\\xb9\\x19\\xf5\\x00\\xd0\\x06\\x96\\x17\\xd2\\x8f\\x94v\\xaci|Gh\\x80\\x95<\\xf4\\xe5\\xaa\\xf5\\x86\\xa1\\x1d\\xf4L\\xf1\\x95\\xc2\\x9e@\\'\\x14\\x01l\\x81\\x83\\x91\\xda\\xa2\\x8bn\\xe6\\xe3\\xd2\\x99sy\\r\\xb2\\xa9\\x95\\xb1\\xb8\\x1cU8\\xf5{0\\xcc|\\xce8\\xed@\\x1a\\x9f/aA\\xc6\\x0eEU\\xb7\\xbf\\xb7\\xb9}\\xb1>\\xe3\\x8c\\xe3\\x15`\\x9f\\x94\\xd0\\x03\\x86\\xdd\\xa2\\x9a\\xfbv\\x1a\\x03\\x0c\\nk\\xb0\\xd8h\\x02O\\x97\\x02\\x8c-&\\xe1\\x81\\xf4\\xa3\"\\x80\\x17\\xe5\\xf4\\xa3\\xe5\\xee)2(\\'\\x8e\\x94\\x00\\x1d\\xbe`\\xe3\\xb55v\\xf9\\x8f\\xc7\\xa5!a\\xe6\\x0f\\xa5\"\\xb0\\xf3\\x1f\\xf0\\xa0\\x07>\\xdd\\xc3\\x8ak\\xed\\xd8\\xdcv\\xa5s\\xf3\\nk\\x1f\\x91\\xb8\\xed@\\x18\\xb3m\\xdd/\\x1f\\xc6\\xff\\x00\\xcc\\xd7\\x84x\\xdaD\\x8f\\xc5\\x0f\\x93\\xb4\\x16\\xea\\x7f\\xdd5\\xee\\xd3\\x1f\\x9a_\\xf7\\xdf\\xf9\\x9a\\xf0\\x7f\\x17\\xc2n\\xbchb\\xc6rO\\x1f\\xf0\\x13@\\x1e\\xf5\\xf1\\xb9\\xb6|(\\xd5O\\xfbp\\x8f\\xceE\\x1f\\xd6\\xbc\\x03L\\xd4\\xd5Y\\xfe\\xf2\\x907e\\xb1\\x8e\\r{\\xdf\\xc73\\xff\\x00\\x16\\xa3R\\x1e\\xb2\\xc1\\xff\\x00\\xa3\\x16\\xbeo\\x96\\xd5\\xa2\\xb3\\x95\\xd5T1\\x89B\\x85\\xe7\\x92\\xc3?\\xa6h\\x03\\xa9[\\xe4\\xb9\\xd3n%\\xf39\\xf2\\xdb#\\x1e\\xc7\\xda\\xb25\\x19|\\xcb\\xb9[w\\xf1\\x1c\\xf3Sxn\\xd9\\xe5\\xf0\\xc6\\xa0\\xf2\\xa0\\x1c\\xb0\\x07g8\\xd9Y\\xfa\\x94\"\\x0b\\xd9\\xb7\\x15\\x1f9\\xed\\xef@\\x12\\xda\\x90\\'\\x1c\\xf6?\\xca\\xacZ\\xc9\\n\\xcf\\xb8\\xbf\\xdd9\\xfa\\xf2k2\\xd1\\xe1\\x12\\x86-\\x8cg\\x9cUus\\x1c\\x8e2\\x0f\\x04\\xd0\\x06\\xfc71y\\x8f\\xb7\\xa6\\xd3\\x8c\\xfdi\\x89t\\xc7\\xbac\\x9e\\xd5\\xceG3\\xb18\\xeb\\xb7\\xa5K\\x137\\x99\\xe5\\xb7\\x1cu\\xa0\\x0fL\\xf0\\x91\\x02\\xe0\\\\\\x17,\\x14\\x1c\\x03\\xd3\\x90G\\xf2&\\xaax\\x8bPas)S\\xb7\\xe6$\\xe3\\xd4\\xd4~\\x07\\x83\\xed3=\\xb3\\xc8\\x07\\x98\\xa4\\xa0\\xdcA\\xce8\\x15\\x9b\\xaf\\xccc\\x95\\xe2l\\x8c\\x1eAby\\xc7\\xd6\\x803\\x7f\\xb4f\\xde\\x08\\x90\\xf0{\\x9a\\xdf\\x1a\\x87\\xda\\xb4\\xe6\\x00\\x82\\xed\\x19\\x07\\x1e\\xa0\\x83\\xfd+\\x90.\\xa7\\xb5]\\x82\\xec[\\x15\\x00\\xf3\\xbb\\x91\\xech\\x02s<\\x88z\\x91\\x8c\\xd5\\xf9\\xae\\xa4\\x8a(J\\x1c\\x96L\\xd7;>\\xa4d\\x95\\x8eq\\x93\\xda\\x9f\\x1e\\xa6\\xed\\xe5!c\\x85\\\\rq\\xde\\x80:{\\t\\xff\\x00\\xd1\\xa6^\\x87y#\\xf2\\xac\\xc6\\xd4\\x0c2\\x90\\xc4\\xf0{\\x1a\\x97O\\xb8\\xf3O\\x93\\x9f\\xbd\\xcf-\\xd2\\xb1.w\\t\\x9dwg\\x0cE\\x00wz^\\xaa\\x97\\x9a|\\xb0\\x96+ t\\xda3\\xd4V#\\xdf\\xb7\\xcc719\\xac;[\\xb9-Adr\\xa4\\x9c\\xf5\\xf4\\xe6\\xab\\xfd\\xbc\\x84b\\\\\\x928\\xeb@\\x1dL\\x17\\x0c\\xcb!\\r\\x8c.I\\xf4\\xae\\xcbJ\\xf14\\xd6\\xfam\\xbcF\\xe6_\\x910;W\\x95A\\xa9\\xe1%\\xc9?2c\\xf9U\\xdb}E\\x8a\\xa3o#\\xb7o\\xf0\\xa0\\x0e\\xfe=|\\x0b8\\x99\\x8a\\xb3\\x91\\xc95\\x1d\\xc6\\xa9\\x1d\\xc5\\xb5\\xe3\\xab\\xe1\\x8cD\\xe3=\\xf2+\\x89\\x9a\\xf1\\xa3\\xb4\\x8b\\xe7?7?\\xa7\\xd2\\x99\\x15\\xeb\\xb2H7\\x9eP\\x8e>\\x94\\x01\\xa1o\\xa9I\\x0b\\xf0\\xcc?\\xd95\\xd2\\xe9\\x1a\\xdc\\xd6\\xe6[\\x81\\x90\\xab\\x13\\x86\\x1dz\\x8c\\x7fZ\\xe0\\x9aR\\xb2\\x9c\\xc9\\xc7\\xbe+V-T\\xc3\\xa7\\xdd@6\\xfe\\xf1F\\x06\\x07\\xa8\\xa0\\t\\xe3\\xbab\\x8a@\\xe7\\xa6sNk\\xf9`\\x08\\xc0\\x92N{\\xd6\\\\\\x17(c\\x00\\x00\\xa7\\x9e1R\\\\J\\x1e$\\x02@6\\xe5\\xbaz\\xe2\\x80=;\\xe1\\xd6\\xbc\\x8d\\xf6\\x9bi\\x81\\x0f,\\xb1*~9\\x1f\\xd6\\xb4u\\x0f\\x88pX\\xea\\xb3Z\\x08\\x03\\xc7\\x1bmS\\x9ek\\xc8\\xb4\\xcdn]:tx\\xd9C\\x07\\x0e\\x0f\\xb8\\xaaz\\x9e\\xa5%\\xce\\xa5$\\xe4\\x8c\\xb6\\x0f\\x14\\x01\\xed\\xdf\\xf0\\xb0l^\\x02\\xe2\\x13\\xc78\\xcd5<s\\xa7\\xddA,\\x01\\x19X\\xa1 \\xe7\\xd0f\\xbcN+\\xd9B\\x9c\\xf2\\xa4Sm\\xf5\\'\\x8e\\xe0\\xb08\\xca\\xb0\\xe7\\xdcc\\xfa\\xd0\\x07\\xa0\\xeaz\\xc4\\xaf\\x1c\\x9e\\\\\\x84\\xa1NI\\xe6\\xb9h\\xef\\x1d\\xae\\xbey2\\xa0u\\xcf\\xb5W]Q\\x9a\\xd6u8#a\\xe4\\xfa\\xd6D\\x930Vl\\x80\\x7f\\xfa\\xd4\\x01\\xd3\\xdaj,\\xdej\\x078\\xdaMZ\\x12\\x19-\\xdaRF\\x01\\x00c\\xe9\\\\L\\x17\\xafn\\xae\\xd9\\x19e\\xc63\\xd6\\xb7m\\xaf\\xc7\\xf6A\\xda\\xdbN\\xfe~b{P\\x06\\x8f\\xf6\\x8b\\xc7\\'\\xca\\x00\\x1e\\xb9\\xad\\xfb\\xfdfD[p\\xbd\\xe0C\\x9f\\xc2\\xb8\\x03\\xa8;\\x1c\\x12\\x01\\xf5\\xdd]\\x12^<\\x96p\\x99\\x13~\\xc8\\x82)\\r\\x92pq@\\x16\\xce\\xbb\\'\\x03-\\x93\\xd7\\x15\\xdax#X\\x93\\x13$\\xaa\\x020\\x0f\\x93\\xd4c\\x8f\\xe6EyT\\xe5\\xe3\\x7f\\x95O=rkWK\\xd5\\xaf,\\xe3l0\\xdb\\'\\x00dt\\x1c\\xff\\x000(\\x03\\xbb\\xf1\\'\\x89\\x89\\xbcD\\xce\\x07\\xcd\\xb4\\x8fL\\xd79>\\xb4\\xc8NI9\\xf45\\xcc_\\xeaOq<l\\xcaA\\x19\\x18\\xe3\\x9ei.o\\x9dQWa\\xdc\\x07\\'\\x8a\\x00\\xef|+\\xaeH<An\\xacq\\x1b\\x06\\r\\x93\\xdb\\x04\\xff\\x00J\\xeco|Yin\\xac\\x10\\x06=2\\xd5\\xe2\\xba>\\xa4\\xf6\\xf7\\xab;n!U\\xb1\\xf8\\xa9\\x1f\\xd6\\xafjw\\xce\\xea\\x18n\\xe4\\x9eOz\\x00\\xee\\xae\\xfce3\\xa1\\xc3\\x05A\\xd7\\x06\\xb64\\xdf\\x13\\xdb\\xff\\x00\\xc27\\x0c\\xec\\xd9\\x97q\\\\\\x1f\\\\\\x9ek\\xc5\\x96\\xf9\\xfc\\xb7%[\\x18=\\x8dh\\xa6\\xad\\xe5\\xe9\\xb1\\xc4\\xac\\xd8\\x12\\x13\\x8c\\x1a\\x00\\xf4[\\xef\\x16\\xce\\xaeW\\xcd \\xfa/\\x18\\xa8\\xac<e0\\xbb\\x88I#2\\x96\\x00\\x82s^ws\\xa9\\xac\\xd1\\xee\\xdd\\x87=j\\x9d\\xb6\\xa3\\xe5\\xdc+\\xee^\\x0ez\\xd0\\x07\\xbf\\xde\\xeb\\xd6\\x96\\x96\\x7fi\\r\\xbd7`\\x0e\\xf5\\x97\\x0f\\x8c\\xad\\xa4`\\x0cc\\xf0j\\xe1u\\x1b\\xd37\\x87\\x84\\x8b \\x00\\x91\\x9e\\x7f\\n\\xe3\\xbf\\xb4e\\x86\\\\\\xeee#\\xa7>\\xf4\\x01\\xef\\xd6\\xba\\xed\\xa5\\xd4\\xc1C\\xec8\\xeaO\\x15u\\xee\\xa1\\x82I\\x0c\\xb2*r\\x075\\xe26\\x9e x\\x9a%\\xdd\\x92\\xd1\\xe4\\x1c\\xd7M\\xab\\xf8\\x86\\'\\xd4\\xe6Uf;\\x9bp\\x04\\xfa\\xf3\\xfe\\x14\\x01\\xe8\\x0f\\xabYo\\x18\\x9c\\x1f\\xa6j\\xc4r\\xc7=\\xb9\\x92\\'\\x0c\\xa4\\x11\\x91\\xeb^;/\\x88@|\\x06\\xe9]\\xcf\\x815!\\x7f\\xa6].\\xec\\xb4R\\xaf\\x1e\\xc5\\x7f\\xc4\\x1a\\x00\\xd0\\x9b\\xfeZ\\x91\\xfd\\xf7\\xfef\\xbc\\'\\xc57&\\xdb\\xc7/&\\t+\\x9e\\x9fJ\\xf6-A\\xcf\\xda%\\x01\\x98\\x0f\\x9b\\x80}\\xcdx\\x8f\\x88\\xaea\\xff\\x00\\x84\\xc6v\\x92C\\xb1I\\x04\\x9f\\\\P\\x07\\xd0\\x1f\\x1d\\xb3\\xff\\x00\\n\\xb6\\xf0\\x0e\\xf3\\xc3\\xff\\x00\\xa1f\\xbc6\\xc9RP\\xb1\\xca\\x00\\xca\\xae\\x7f:\\xf7O\\x8e_\\xf2L.\\xff\\x00\\xeb\\xbc_\\xfa\\x15x\\x95\\xa0\\x8d/\\x00=\\n\\xafj\\x00\\xd9\\xb7T\\xb4\\xf0\\xd4\\xe1X\\xb0*\\xd88\\xe9\\xf2W\\x9e\\xebz\\x8b\\xcf\\xa9\\xce\\xecw|\\xe7\\xb6;\\xd7\\xa0\\xdc\\xcb\\x08\\xf0\\xdc\\x91n\\x19$\\x85\\xfa\\x9c\\x0f\\xeb^k\\xa9\\x91\\xe7\\xb9Y?\\x88\\xd0\\x040\\xde\\xb0\\x91}3\\xd2\\xae\\x99\\x84\\xb7\\x0e\\xf8\\x00\\x01\\xd0VJ9\\xde2\\xe6\\xad\\xc2e;\\xf6\\xb1#\\x14\\x01*H\\x11\\xb7\\x0e9\\xabm~\\xabu\\xe6\\x820\\x07@+)\\xbc\\xdc\\x81\\x93\\x9a\\x1e9\\x0b}\\xee\\xb4\\x01\\xd5\\xd9x\\x85\\xed\\x19.\"\\xda\\xb2D\\xca\\xca\\xc3\\x83\\xc78\\xa4\\xf16\\xb2o\\xb5Igp\\xa3\\xcd\\xf9\\xf0\\xa3\\x81\\x9a\\xe7\\x12\\x19\\xc5\\xb9|\\x9cw\\xa9\\xb5m\\xeb,,\\x1f!\\xa3^\\x86\\x80%K\\xb8\\xf22?*\\xb7s,\\x05\\xd9\\xd7h\\xda\\xa3\\xa7Rk\\x9e\\xdc\\xe4\\x8f\\x98\\x9f\\xa5Y\\x92vH\\xdc\\x12rG\\x06\\x80%!ZA\\x8c\\xf2jY\\x94$\\xe8\\xa1\\x87N\\xa0\\xd6w\\xda[\\xe4\\xf9\\xfaS\\x9a\\xf1\\xcc\\x9f6(\\x03\\xa1\\xd3\\xee\\x9a\\xd6\\xe9Y\\xb0GJ\\xaby8\\xfbT\\x8c\\x10\\x00\\\\\\xf3\\xf8\\xd5crZ0A\\xc1\\xc7\\x15RY\\xa5\\x04\\x12\\xc74\\x01\\xb1`\\xb1\\xdd]\\xa4d\\x81\\xd7\\xbf\\xb1\\xac\\xf9!P%\\xc1<\\x10*\\x0b{\\xc9b\\x93z\\xb9\\xc8\\xa7\\xf9\\xef\\xb1\\x809$\\xe2\\x80\\x1d\\x12\\x03\\xb9w\\xf5\\x15*\\xcc#\\xda\\xa0\\xfd\\xde\\xb5S\\xcd`\\xccy\\xaa\\xe2i7\\x1c\\xb1\\xa0\\x0e\\x9eY!\\x9e\\xce<0\\x0c\\xa0q\\xf8T\\x16\\xf2\\xc6\\x93\\x0c\\xb2\\x91X\\xc2\\xeaUl\\x068\\xc0\\xa6\\xc7v\\xfb\\xfef\\xa0\\r}H\\xe1\\xcbFx c\\x15P\\xdc\\xb9G\\x0cy\\xc7z\\x8d\\xae\\xfc\\xc5\\x04\\xb9\\x1cTi(`\\x18\\xc8y4\\x01,7,\\x92\\x0cV\\xf6\\x9d\\xb2\\xe2\\x19$\\x90\\x9c\\x01\\x8cz\\xd76\\x92\\x03.|\\xce\\x01\\xe9\\x9a\\xd17\\x8fo\\x12\\x08\\\\\\x1f\\x91\\xb7\\n\\x00I\\xa4V\\xb8\\xca\\xb1\\n\\r0\\x96,\\xcd\\xb8\\xe3\\'\\x9a\\xa9%\\xd9`r0~\\x94\\xf8\\xae\\x03F\\xc8OR(\\x03V+\\x90\\xb6\\xce\\x18\\xe4\\x8cTR\\xfc\\x90\\x19\\x009\\xac\\xb6\\xb8d.\\x16C\\x8c\\x8e*v\\xbf\\x90\\xda\\xacd\\xe7\\x19\\xcd\\x00_\\xb6\\xbbo*D\\xc1;\\x86:\\xd5\\xbb\\xbbpa$\\x90\\tPq\\x9f`\\x7f\\xad`-\\xc3\\x88\\xf2\\x07C\\xda\\xad_\\\\\\xc9#).FGo\\xca\\x80\\x11\"/ \\x8dy\\xc9\\xad\\x1b\\x84x,\\n\\x03\\x86\\r\\xd2\\xb1a\\x9fl\\xab\\x96a\\xf45=\\xc6\\xae\\xf23\\xc4\\xc4\\x94\\xc9\\xc7\\xafZ\\x00\"f\\x92M\\xa4\\x13] \\xb8)\\x0ch\\xcf\\x8c`\\x91\\xf8W;it\\x88\\xcc\\xd9\\x07\\x03\\x8c\\xd5\\xcb\\xbb\\xc0`\\xf3\\x03\\x13\\xf44\\x01\\xae\\xe9$\\xd6bx\\x8e\\xe1\\xc9>\\xdc\\xd5y.\\x9e\\x05U\\xdd\\x9c\\x03\\x81X\\xdf\\xdaRGl\\xaa\\x8e\\xca\\x0f\\\\\\x1a\\x16\\xfaI\\x93\\x05\\xf7\\x11\\xd0\\x9a\\x00\\xb0/q2\\xee99\\xa7Ox\\xf2L\\tn\\x0e8\\xfc*\\x85\\xc7\\x0f\\x19\\xdd\\x83\\x8ei#\\x95ZU;\\x89 \\xd0\\x06\\xc5\\xac\\xccH\\xcb`\\x0e\\xb5\\xbd\\xa9\\xfc\\xd6\\x08\\xeaP\\x05$}\\xeek\\x9b\\xb2\\x94K$\\x98\\xce\\x07j\\xd3\\xb9\\xbbW\\xd3\\x9d7r\\xb9?^\\x94\\x01\\x02:,l7\\x02v\\x9e\\x94\\x8ft\\xc9\\x1e1\\xde\\xb2\\x92\\\\\\x9c\\x12q\\xdf\\x15vX\\x98Y\\xc3(\\'k\\xcaFG\\xa0\\xc5\\x00W\\x92\\xf1\\xb0w7oZ\\x8e\\xda\\xe1\\x8d\\xc4c\\xaf>\\xb5]\\xced*\\xacy?\\xd6\\x9fn\\x8e.\\x87-\\x80\\xde\\xb4\\x01\\xe8\\xb7h\\xab\\xf0\\xea)\\n\\x8f\\xde]\\x15\\xdd\\xb3\\x07\\x8e\\xd9\\xae%\\xd4\\xf6 \\xf5\\xae\\x8eMOw\\x85\\x16\\xc5\\xf7\\x18\\xe2\\x98\\xca>\\xa7\\x8f\\xe9\\\\\\xc3O\\x1c\\x92\\x10\\xaeW\\xd2\\x80/\\xa6D\\x90\\x16\\x03\\x0b\\x1f\\x1d\\xfb\\x9a\\x97\\xed\\xcc\\xfa\\x90\\x95\\x8a\\x9d\\xc3<\\xfd)\\xb3f\\x15\\xb4p\\xc1\\x95\\xe2\\xed\\xf5\\xacyde\\xb9\\xf9\\x1c\\xf08\\x1f\\x85\\x00]\\x17j\\xed\\x96\\xc7&\\xbdC\\xe1r#\\xc1~2>b\\x8c\\x06\\xe23\\x80s\\xfc\\xeb\\xc6\\x16w\\x04|\\xc6\\xbd\\x8b\\xe0\\xf4\\xcc\\xf2\\x90G\\r\\xbb9\\xfa\\n\\x00\\xee/\\xf4\\xb8f\\x87*\\x81\\x0e\\t-\\xb9\\xbd>\\xb5\\xf3\\xc7\\x8b-Y\\xbc]{\\n+6\\xe9[h\\xc95\\xf5U\\xd2\\xa8\\xb7o\\x94}\\xd3\\xdb\\xda\\xbeg\\xf1\\x11c\\xf1\\n`\\x06H\\x95\\xf8\\xc7\\xfb\\x14\\x01\\xee\\xff\\x00\\x1d3\\xff\\x00\\n\\xc6\\xe4\\x86#\\x17\\x11t\\xef\\xc9\\xe2\\xbc-\\xb5+{{\\xa8\\x92PC:\\x81\\x8cg\\x90O\\xff\\x00Z\\xbd\\xc7\\xe3\\xbe\\x7f\\xe1X\\\\`\\xff\\x00\\xcb\\xcc?\\xce\\xbet\\x16W3j\\x96\\xa2\\x1f:M\\xb2gv:r9\\xfet\\x01\\xb5:M%\\xb1\\x90\\x03\\xc4\\x89\\x91\\xf8\\x8a\\xe2\\xafY\\x85\\xc3\\xee\\xc6w\\x1e3\\xd2\\xbdZ\\xd2\\xd5$\\xd3\\xa3iws$nY\\x878.:\\xff\\x00\\xdfU\\xe4\\x97LZ\\xe2RO\\xf1\\x9f\\xe6h\\x020q\\xcdY\\xb7\\x91\\x94HT\\x9e\\x95T\\x1c\\x1a\\x9a\\x19\\n\\xb1\\x19\\xe0\\x8a\\x00F\\x99\\x99\\xb2X\\xd1\\xe6\\x9d\\xdfx\\xd4g\\x1d\\xa9(\\x03P]\\x0f\\xec\\xf3\\x18\\xfb\\xcc\\xc2\\xaa\\xddN\\xce\\xe0\\x1e\\x83\\xa52\\x06\\x05\\x80n\\x83\\x9a\\x8eV\\x0cr;\\x9a\\x00U\\x94\\xa9\\xcd[\\x96t\\x96\\xdd@\\x000\\x1c\\xd6x\\xa9?\\x87\\xda\\x80\\x02\\xdc\\nsH\\x0bd\\x8c\\xd4G\\x14\\x1e\\xb4\\x01l\\xcc\\xa3\\x04zSe\\xb8\\x0e\\xf9\\x15\\x06>Ze\\x00X\\x8e\\\\7Z{O\\xb5\\x86\\x0f\\x00\\xe6\\xaa\\x8e\\xb4\\x1cP\\x05\\xe4\\xbaF\\x040\\xebL\\x067cUG^\\xb4\\x03\\x8c\\xf3@\\x16\\xf6.x=\\xb3U\\xcf\\x1c\\x8aE\\x93\\xaf=\\xa9\\x9f\\x8d\\x00L\\xad\\x959\\xc7Jhc\\x8e)\\xb9\\xc2\\x9aoj\\x00\\xb1\\x19\\x1b\\t8\\xcf\\xd6\\x9d\\xf6\\x82ye\\xed\\x8e*\\xb0l\\x0cT\\x84\\xc6PrA\\xa0\\t\\x1aT|`\\xe2\\x9f\\x11L\\x00Xu\\xcdT\\xce:\\x1a7\\x1fZ\\x00\\xb2\\xe5C\\xbf\\xe3M-\\xb8\\x00\\x08\\xe9Q;d\\xd3T\\xe1\\xb3@\\x13\\x89J\\xa3\\x02{\\xf1RM8uB\\x1b8\\x18\\xaa\\xa4\\x8c\\nnx\\xa0\\r\\x08@\\x95\\x97\\x1dj\\xbc\\xc9\\xe5\\xccT\\x9e\\xf5\\x14r4g*\\xd8\\xc5\\x12Hdl\\x92s@\\x13FF\\xd6\\x19\\xe6\\xad\\x96cl\\x14\\x91\\x80sY\\x81\\xb0x5/\\x9a\\xdbq\\xb8\\xe2\\x80.\\\\\\xa6\\xcbx\\xbd\\xf3P\\x06<\\x05\\xfc\\xaa\\t%v\\xe0\\xbb\\x10:\\x03BI\\xb4\\x0f_Z\\x00\\xb7x\\xfbn0{\\x01\\xfc\\xaa\\xb2;n\\x18=\\xe9\\xf3\\xdc\\tJ\\x93\\xd7\\x1c\\xd4(\\xfbX\\x1c\\xd0\\x06\\xd6\\x99/\\x94\\xef\\x93\\x8d\\xd4\\xdb\\x97uBwq\\x8a\\xa0\\xb7\\'9\\xe9Mi\\xcbE\\x86\\'\\x9eh\\x02O\\xb4\\x10:\\xd4\\xa3P\\x95\\xa1T\\xde@\\x19 }\\x7f\\xfdUGr\\x95a\\x9a{\\x14\\x8fi\\xcex\\xa0\\x07\\x8b\\x89<\\xd0rI\\xcdX\\x8a\\xe6O;\\xae\\t\\xaaI \\x12\\x86\\xf7\\xab1\\xca\\x8d8\\xe3\\x8e\\xb9\\xcd\\x00l5\\xd4\\xad\\xa4\\xce9\\xc2\\xed\\x19\\x1fZ\\xc5\\x13\\xb2\\xb0\\xad8.\\xe3M>\\xea\\xdd\\x86L\\x88\\x08\\xf69\\xac\\xac\\xc4X\\x9f\\xca\\x806#\\xbfV\\xb6\\x81$8)\\x1e\\x07>\\xe6\\xaa\\x99S\\xcf\\x0cH\\xc0\\xcfz\\xa2\\xee6\\xa6\\t\\xe9Mpx!\\xb3\\x91@\\x16\\xe3\\x91\\x0b\\xe7\\x1czW\\xb7\\xfc\\x18\\xb8\\xb6k{\\xb5\\x1cJ\\xdbB\\xf1\\xd8d\\x9f\\xe5^\\x0fn\\xad\\xd8\\xf3\\x9a\\xf5/\\x84\\xb3\\xcdk\\xad\\xdb\\x05\\x19G\\x9fcs\\xd8\\x82?\\xad\\x00{\\xc5\\xdf\\xfcz\\xc9\\xd8ln?\\xe0&\\xbep\\xd5\\x10?\\xc4\\x9b\\xcc\\xf3\\x86s\\xfa\\n\\xfa>\\xf3\\xfe=%\\xff\\x00\\xaem\\xfc\\x8d|\\xe3\\xa8\\xab7\\xc4\\xab\\xdd\\xa3<\\xbf\\xf2\\x14\\x01\\xec\\xff\\x00\\x1d\\xce~\\x1a\\xb2s\\x97\\xbd\\x85A\\x03\\xa7&\\xbc{\\xc3\\xad\\xe6_\\x85h\\xb8D\\x01\\x08\\xcf5\\xec\\x9f\\x1c\\xff\\x00\\xe4\\x9d\\x11\\x9c\\x7f\\xa6A\\xff\\x00\\xa1W\\x84hW\\xb2\\xcft\\xd0DB\\xc8\\n\\xaf-\\xd7\\r@\\x1d\\xec\\xbb\\xd7I\\x966\\x8e@\\xb1\\xad\\xb8\\x19\\x07\\x1dS\\xfck\\xc5n\\xec\\xaeM\\xcc\\xae\\xb6\\xd3\\x18\\xcb\\x12\\x1b\\xcb8\\xc5z\\xb8e\\x83L\\xb8e\\xe1\\x96\\xde\\xdd\\xc09\\xc1;\\xa2\\xcfZ\\xf1\\xe9\\x06\\xd7a\\x9c\\xe0\\xd0\\x03\\n0\\xea\\xa4~\\x14\\xf8\\xd4\\x97\\xc6)\\x99\\xe2\\x9c\\x83-\\xf4\\xa0\\x04*\\xde\\x87\\xf2\\xa4\\xda\\xdf\\xdd?\\x95\\x14\\x94\\x01b\\xd17\\xcf\\xb3!r\\x0f\\'\\x8cT\\x04b\\x9f\\x10b\\xf8@w\\x1e\\x06)\\xae\\xa5X\\xa9\\xea:\\xd0\\x03i\\xe0\\xfc\\xa6\\x99J;\\xd0\\x02QE\\x14\\x01&s\\x1f=A\\xa8\\xe9\\xc0\\x1d\\xa4\\xf6\\xa6\\xd0\\x01E\\x14\\xa7\\xa5\\x00%\\x14Q@\\x05\\x14Q@\\x05\\x14Q@\\x05\\x14Q@\\x05\\x14Q@\\nM%\\x14P\\x03\\x87=)\\xb4\\xa0\\x91\\xd2\\x92\\x80\\x14Pi)M\\x00%81\\x1d)\\xb4P\\x03\\x8bn\\xa4\\xa4\\xa2\\x80\\x14\\xd2R\\x9e\\x82\\x92\\x80\\x1e\\x08\\x14\\x16\\x07\\x14\\xca(\\x00\\xa5\\'8\\xa4\\xa2\\x80\\nz6\\x1c\\x1ae(\\xa0\\x0b\\x02L+\\xe4\\xf5\\x18\\xaa\\xf9\\xc1\\xebA$\\xd2P\\x03\\x8b\\x920y\\x02\\x949\\x1f\\x852\\x8a\\x00\\xb5m9I\\x078\\x19\\xafW\\xf8[\\x7fi\\x0e\\xac\\x86\\xe1\\xf6\\xaa\\x90Tc\\xf8\\xb0k\\xc8\\xe2\\x00\\x91\\x9cu\\xae\\xb3\\xc3,m\\xae\\xbc\\xc0\\xe4\\x11\\xc8\\xc5\\x00}Mz1i0\\'\\xa4N?%5\\xf3\\x95\\xc1\\x07\\xe2\\x95\\xc2\\x13\\xc3\\xbc\\x8b\\xff\\x00\\x8e\\xe7\\xfaW\\xd0\\xce\\xed&\\x8a\\xb27%\\xedI?]\\x9c\\xd7\\xcf\\x9bD\\x9f\\x16f\\\\n&I\\xb1\\x8f]\\xbf\\xfe\\xba\\x00\\xf6\\x1f\\x8f\\x0e\\x13\\xe1\\xd9$\\xf4\\xbb\\x88\\xff\\x00\\xe3\\xd5\\xf3l\\x97p\\xa5\\xd2Ok\\xb9\\x18(fl\\x90s\\x9a\\xfa+\\xf6\\x81l|;A\\xbfn\\xeb\\xc8\\xc6=z\\xf1_.\\x02r1\\xf8P\\x07\\xaf\\xcd{is\\xe1\\xeb\\xd3i*\\xcc\\xb1\\xc1n\\xa4\\x83\\x9c\\x1cG\\x91\\xf9\\xe4~\\x15\\xe3\\xc4\\xe4\\xe4\\xf7\\xae\\xfb\\xc1K$\\xda&\\xb6\\xee3\\x18\\x10\\xed=\\xb7o\\x15\\xc1?\\xde4\\x00\\xdar1Rq\\xdcb\\x9bRB\\xa1\\xa4\\x00\\x9cP\\x03\\x0fZJs\\x8d\\xae\\xc3\\xde\\x9b@\\x13\\xda\\xc9\\xe5K\\xbf\\xb8\\x1cS&s$\\xac\\xe7\\xb9\\xa5\\xb7\\x19\\x98\\x0cg4\\xd9Wl\\xac\\x07L\\xd0\\x03)A\\xc5%*\\x8d\\xcc\\x00\\xa0\\x04\\xa2\\x95\\x86\\xd2E%\\x00J\\x8c\\x04L\\x9d\\xc9\\xa8\\xa9\\xc8\\xb9\\'\\xe9I\\xda\\x80\\x12\\x94\\xd2Q@\\x05*\\x8c\\xb0\\x06\\x92\\x94P\\x00x\\xa4\\xa0\\xd1@\\x05\\x14Q@\\x05\\x14Q\\x8a\\x00(\\xa2\\x8a\\x00ZJ(\\xa0\\x05\\xc8\\xdb\\x8e\\xf9\\xa4\\xa2\\x8a\\x00)M%\\x14\\x00QE\\x14\\x00QE\\x14\\x00QE\\x14\\x00QE\\x14\\x00QE\\x14\\x00QE\\x14\\x00QE\\x14\\x00\\xec\\x8d\\x84w\\xcd6\\x97\\xb6}\\xe9(\\x01\\xeapA\\xae\\x97\\xc3\\xb3y\\xd7\\xdeWr\\xb8\\x1f^\\xd5\\xcd(\\xdc@\\xf5\\xae\\xb3\\xc36\\x86\\x1dN)z\\x90A\\xe7\\xfc\\xfa\\xe2\\x80>\\x9eV-\\xa0D\\xc4`\\x9bL\\xe3\\xea\\x99\\xaf\\x05\\xd3\\xd4\\xbf\\xc67\\xc68\\x92rs\\xfe\\xe1\\xafj\\xb1\\xd6\\xe2\\xd4\\xac%\\x8a4\\xc6\\xc8\\x18q\\xe9\\xb7\\x15\\xe3z\\x1b/\\xfc.\\x19\\x81R\\xc5\\x8c\\xe0c\\xe9\\xff\\x00\\xd6\\xa0\\x0fD\\xfd\\xa1\\xdb\\xfe(\\xad6?\\xef\\xea*?\\xf1\\xc6\\xaf\\x99\\x075\\xf4\\xcf\\xed\\nO\\xfc\"\\xda:\\x0c\\x12\\xda\\x88=}\\x10\\xd7\\x90\\xe8>\\x13\\xb1\\xd5by&b\\xa5r0\\x1c\\x8c\\xe3?\\xe1@\\x12\\xf8jD\\xb5\\xf8}\\xa8\\xb9\\x94\\tf\\xb8]\\xaa:\\xe0m\\xfe\\xa0\\xd7\\x9f\\x11]\\x9e\\xa8\\x17N\\xd3E\\xa4d,}p\\x0es\\xc8=k\\x8c=(\\x01*[uf\\x94m\\xebQT\\xd6\\xec\\x11\\x99\\x8f\\xf7M\\x00F\\xf9\\xdcs\\xebM\\xa54\\x94\\x01b\\xc8\\x16\\xbbE\\x18\\x19\\xc8\\xe6\\xa2\\x97\"F\\x04\\xe4\\x83N\\x81\\\\\\xb32g\\xe5\\x04\\x92;Tf\\x80\\x12\\x9f\\x17\\xdf\\x14\\xcaz\\x1d\\xbc\\xd0\\x03I\\xcf&\\x92\\x8a(\\x01\\xcap\\xa6\\x9bOU%\\t\\xc7\\x03\\xbd2\\x80\\n_\\xe1\\xa4\\xa5#\\x81@\\tE\\x14P\\x02\\x9aJ\\x92a\\x86\\x1d:v\\xa8\\xe8\\x00\\xa54\\x01\\x9aJ\\x00)OJA\\xd6\\x9e\\xc71\\xaf\\x14\\x00\\xca(\\xa0P\\x01\\xefEI(U*\\x17\\xd0g\\xebQ\\xd0\\x02\\x8aJQA\\xe9@\\tE\\x14\\xa7\\xa5\\x00%\\x14Q@\\x05\\x14Q@\\x05\\x14Q@\\x05\\x14Q@\\x05\\x14Q@\\x05\\x14Q@\\x05\\x14Q@\\x05\\x14Q@\\x13Z\\x94\\x17\\n_\\xee\\x8ek\\xa6\\xd2\\xb5\\r\\x8e\\xd2\\x0e\\x87\\x81\\\\\\xaa\\xf5\\xad\\x9d\\x14\\x17\\x95b\\xce:\\xf5\\xed@\\x1e\\xd5\\xf0\\xe2Y\\xae\\x86\\xa79$\\xc2\\x96l\\xa3\\x9f\\xe2<\\xff\\x00C\\\\\\xaf\\x86\\xd1_\\xe3\\x14\\xa5\\x8f\\xdd3\\x91\\x8f\\xa1\\xafC\\xf8y`-<\\x15u0P>\\xd0\\xcc\\xc0\\x8ew(Q\\x8f\\xd4\\x9a\\xf3\\x9f\\r\\xcb\\xb7\\xe3\\x0b\\x15\\xe4\\xb9\\x9d@\\xf5\\xf9X\\xff\\x00J\\x00\\xf4\\x0f\\xda\\x17\\x9f\\x0e\\xe8\\x9cd\\xfd\\xb8\\xe3\\xfe\\xf9\\xae\\x1b\\xc21\\xa4\\xbaT\\xc7r)\\x19\\xe3w\\xbbs\\xfc\\xeb\\xb4\\xfd\\xa1d\\x7f\\xec\\xcf\\x0e\\xc1\\x1a\\xe7}\\xdb\\xb0\\xc9\\xc7!F?\\x9dy\\xef\\x86n\\x8b\\xa3B\\xd1\"\\xca\\x18\\x0e\\x83\\x1dO\\xf8\\xd0\\x067\\x8b\\xed\\xbc\\xa8\\xfc\\xd4\\x08\\x13\\xee`\\x1e\\xf8\\x15\\xc4\\x1a\\xee\\xfcg\\x17\\x12$yeI:\\x96\\xe3\\x95\\xc9\\xe3\\xf1\\x1f\\x95p\\x87\\xad\\x00%=N\\x01\\xe3\\xb54T\\xcb\\x04\\x8d\\t\\x90)\\xd9\\xd38\\xa0\\x08(\\xa5#\\x14\\x94\\x01,r\\x98\\xd1\\xc0\\xfe.**\\x9dc\\x1ff.z\\xe7\\x8a\\x82\\x80\\n^\\xd4\\x98\\xa7\\x95;\\x03v\\xa0\\x06QE(\\xeb\\xeb@\\x16\\x01h\\xad\\x0f\\xdd+\\'OZ\\xadS3\\x13\\x02\\xa9\\x1ft\\x9c\\x1a\\x86\\x80\\ns\\x0f\\x94SqOp@\\x1cP\\x03(\\xa2\\x9c\\x83s\\x81\\xeb@\\x03\\x1c\\xe2\\x9bJ\\xd9\\xc9\\xfa\\xd2P\\x02\\x8aJ(\\xa0\\x02\\xa5\\xc2\\xf9\\x03\\'\\x9c\\x9a\\x8a\\x9eG\\xc8>\\x94\\x00\\xca\\x07Z)W\\xad\\x00+\\xf2\\xc6\\x9bJ\\xd9\\xc9\\xcd%\\x00>5,N=)\\xa79\\xe6\\x95r3\\xd7\\xa5!\\xe9@\\tE\\x14P\\x01E\\x14P\\x01E\\x14P\\x01Ji\\x05)\\xa0\\x04\\xa2\\x8a(\\x00\\xa2\\x8a(\\x00\\xa2\\x8a(\\x00\\xa2\\x8a(\\x00\\xa2\\x8a(\\x01A\\xc5n\\xe8\\xee\\xa9\\'\\x98Fp1X\"\\xb54`\\xad{\\x1230\\x0c\\xdd\\x06y\\xa0\\x0f\\xa9\\xbc;\\x1bG\\xf0\\xff\\x00OV]\\x84Z\\x1c\\x8f\\xc4\\xd7\\x8f\\xf8-\\xc3|k\\xb7Ln\\xdd%\\xc0\\xc6=#s\\xfd+\\xad\\xf0\\xce\\xa3w5\\xf4\\x11\\xc9r\\xed\\x13C!1\\xee\\xca\\x83\\xb0\\x9c\\x0f\\xc6\\xb9\\x7f\\x87{[\\xe3\\xb5\\xa9a\\x9c5\\xd1\\xfa~\\xed\\xf9\\xfdh\\x03\\xb4\\xfd\\xa1!\\x9d\\xec<=, \\x1d\\xb72\\xe4\\xfb\\x95R?\\x91\\xaf4\\xf0\\xd47\\xb0\\x19\\r\\xc4m\\xb8\\xb6T\\xa3\\x01\\xd0\\x83]o\\xc5M_\\xc4\\x9a\\x9e\\x95\\xa5.\\xa9\\xa7i\\xd0\\xec\\xb8fSmr\\\\\\x96\\xdb\\xd0\\x828\\xfa\\xd7\\x16/\\xf5\\x1b[w\\x95\\xec\\xc7\\x94\\xbc\\x92\\xb3\\xaf\\xaf\\xfb\\xbfJ\\x00\\xa9\\xe2\\x89es/\\r\\xb7y<\\x91\\xdc\\x0foj\\xe3\\x0f_\\xbaEuz\\xe4\\x1a\\x8c\\xd2\\x13-\\xac\\x8a\\x1c\\xe4\\x0f87\\xf2\\x02\\xb0Z\\xd2edV\\x81\\xf2\\xdd\\x06G8\\xa0\\n\\x91\\xc7\\xbc\\x1cg\\x8e\\xf8\\xab>s\\xa5\\xa1\\x8f-\\xb7?\\x86jE\\x8eXT\\xb1\\x85\\xc0\\x1c\\x93\\xc5Y\\xf3\\x10Y\\x90m\\xa5\\xf33\\xf7\\xb0:P\\x06F2\\x1b\\xae~\\x94\\xd0\\x0b\\x10;\\xd5\\xd2\\x17$\\xec\\x7f\\xfb\\xe6\\x9b\\xfb\\xb5!\\x88n=E\\x00G\\xe6)\\x80!\\xc8e=Gz\\xaej\\xc5\\xb9\\x8b\\xcd\\xcc\\x8d\\x81\\x92z{S\\x0cq\\x80>q@\\x11\\x81\\xc6sO2\\x1f\\'\\xcb\\xcf\\x03\\x9apDl\\r\\xe2\\xac\\xad\\xa4\\ro$\\x9er\\xab(\\xfb\\xb9\\xeb@\\x19\\xf4\\xe4\\xfb\\xc2\\x9f\\x0cbF##\\xa6rj\\xdc6\\xdb$\\r\\xb9H\\xfa\\xd0\\x02]\\xc7\\x8b{iUp\\xae\\x98?Pj\\x8e\\rt:\\x85\\xb4\\ri\\n\\xc0\\x07\\xde$\\x9a\\xc8{R\\x07\\x18\\xfc\\xe8\\x02\\x18\\x02\\x89\\xd0\\xb6\\x08\\xcf \\xd4\\x97G|\\xe5\\x95@\\x04\\xf0\\x05[\\x8bO\\x92T\\x8f\\t\\xd7\\x8c\\xd5\\x8b\\x9d5\\xe1\\x94.\\xdc\\x95\\xc5\\x00b\\x10A#\\x1c\\xd4\\xf6\\xd1o\\x90\\x13\\x8e9\\xc5X62<\\xa7\\xe5\\xe7&\\xaeZi\\x124\\x80\\xb0\\xc0\\x00\\xb7\\xd7\\x02\\x801_\\xa98\\xa6\\xd4\\x89\\x19\\x91\\x82\\x8e\\xf4\\xff\\x00\\xb3?\\xe9\\x9e\\x94\\x00\\xc4 \\x03\\x91\\x9e)\\x87\\xe9W`\\xd3\\xe6\\x99\\x1d\\x90\\xf0\\xab\\x93\\x9a\\xaf%\\xbb\\xc6\\x99=(\\x02 3V\\x9e \\x90\\x03\\xb0\\xf3\\xde\\x99on\\xd2\\xee\\xc09\\x15\\xa5%\\x8b\\xfd\\x81\\x1c\\xb19$c\\x1fJ\\x00\\xc6\\xc6)\\xf1\\xfc\\xae\\xacW8#\\x8a\\x9d\\xadH\\xcf\\x07\\x8e\\xb54VM,\\xe8\\x8aq\\xb9\\x80\\xa0\\n\\x93\\xe1\\xa5fU\\xc6OJ\\x8b\\xadi_\\xd85\\xbd\\xe4\\x91\\x16\\xc9S\\x8a\\xab\\xf6f\\'\\x1f\\x85\\x00\"\\xa2\\x0bWs\\xbb9\\xda8\\xa8\\rj\\xb5\\xb0M\\x19\\xd8\\xb6\\\\\\xcb\\xc0\\xc7`\\x0ek;\\xcabG\\xd2\\x80#Q\\x96\\x03\\xd6\\x9d\"\\x955:\\xdb;\\xc8\\x8a\\x83.H\\x00\\x0fZ\\x93S\\xb7\\x92\\xd6\\xe7\\xca\\x95@u\\xea(\\x02\\x8d=\\x17p>\\xc2\\x90\\x80y\\x14\\xf8\\x94\\xb3\\x10\\x08\\xe9\\xdc\\xd0\\x04l1IRH\\x00s\\xd3\\xf04\\x88\\x9b\\xf2\\x07P3@\\x08\\xbc\\x1c\\x91\\xc5\\r\\xd6\\xaf\\xda\\xd8I(.\\x11\\x88\\x1cp*;\\x98b\\n\\nn\\xdd\\x92\\x0e}\\xa8\\x02\\x90\\xa5#\\x14\\xed\\x86\\xa5hHRO\\x14\\x01^\\x8a~\\xc2h\\x08h\\x01\\xa6\\x92\\xa4t \\x03\\x9fjh\\x074\\x00\\xda*Y\\x13\\x07\\xafaMT,\\xd8\\x14\\x00\\xca*P\\x83\\x04\\x13\\xcfJaS\\xe9\\xd3\\x8a\\x00miifA:4\\x7fx\\x1a\\xcd\\xadm\\x0f\\rx\\x14\\x8c\\x8c\\xd0\\x07\\xa9xF\\xe5\\x97X\\xd3\\xe0}\\xbf4l\\xa5\\xbd?vj\\xbf\\xc3\\x06\\r\\xf1\\xba\\xd8\\xe4\\x10\\x04\\xf9\\xfccs\\\\\\xc5\\x95\\xef\\xd9o\\xe0\\x90\\xb1\\xc2\\x869\\'\\xa7\\xcb\\x8a\\xd3\\xf8=w\\xbb\\xe2\\xf6\\x9e\\xc5K,\\xa6`9\\xe9\\x88d?\\xd2\\x80)\\xf8\\x8bJ\\xf1\\r\\xa8\\xb5\\x8a\\xebN\\x95C1\\xd8#p\\xfd0:\\x02}Eb\\\\\\xae\\xb5\\x16\\x9br\\xd2Cy\\x1c\\x08B\\xbb1 )\\xc8 \\x1a(\\xa0\\x0b\\xa9}\\xad\\x18U\\x8a\\xdf8q\\xbbv\\xfc\\xe7\\xbf\\xadQ{\\xddFMN\\xd8\\x08n\\x0c\\x9c\\xedB2[>\\x9e\\xb4Q@\\x13js\\xdfEc)\\x92\\xd2\\xe1\\x01\\x01KI\\x19\\n3\\xf8T\\x8br\\xd3F$kY\\x00a\\x9c\\xf9$\\x8f\\xe5E\\x14\\x01\\x1b\\xdcZ\\x82\\x11\\xe2P\\xe7\\xfb\\xd1\\x95?\\xca\\xa3\\x9e[sm&<\\x9f\\xb8q\\x8e\\x0fJ(\\xa0\\x0c\\x0bP\\xa6e\\x0c\\x069\\xeaq\\xda\\xaf\\x18\\xe0*r\\xa3\\xa7f\\xff\\x00\\xeb\\xd1E\\x00F\\xb6\\xf1\\x96\\x04+~t\\xe7\\x82!\\x13\\xe1[8\\xcfZ(\\xa0\\x08t\\xd8\\xd2[\\xc0\\xb2&\\xe4\\xdar?\\n\\xde\\xfe\\xce\\xb3\\x0f\\x8f!\\x98c\\xa8\\xc8\\xa2\\x8a\\x00\\xdc\\xb4\\xf0\\xe6\\x97-\\xacO,3\\xa3\\x15\\';\\x9b\\x1f\\xca\\xb3\\xb5\\x9d\\x06\\xd6\\xd2\\xd69!\\x86e,O,\\xed\\x8e\\x87\\xd4\\n(\\xa0\\t\\xad\\xfc?\\x19\\xb4\\xb3uk\\x852d\\xf0\\xc7\\xde\\xad/\\x86\\xbc\\xd4V\\xfbE\\xe6\\x08\\xcew\\x93E\\x14\\x01Z?\\x0e\\x17\\xb8\\x00\\xdc\\xdc\\x80C\\x10s\\x9c\\xf2=\\xa9\\xd7:\\x14\\x96\\xb1<\\x89yq\\x95\\x8d\\x98\\x02G<\\x1fj(\\xa0\\x0e2\\xc9$\\x96\\xe8*\\x13\\x9c\\x13\\xda\\xaf\\x1bk\\x90\\x84\\xeec\\x85\\xf4\\x06\\x8a(\\x00\\x85\\xef\\xa2,\\xa8\\xe5A\\x079\\x8ct\\xe2\\xa2\\xbbK\\x85\\xb6&F\\x04q\\xfc8\\xa2\\x8a\\x00\\xb9\\xe1\\xdb\\x0b\\x9b\\xe8\\xee|\\x96E\\t\\xb7;\\x90\\xb6s\\x9fJ\\xdc6\\x1a\\x9d\\xbaH\\x8b\\xf6V\\x07\\x1dQ\\x86>\\x9c\\xd1E\\x00Gq\\xa4j%]\\x9a\\x0bS\\xc1\\xe9\\xbcQma\\xa8C7\\x98\\xb6\\x10\\xb1F\\x04~\\xf5\\x87#\\x1e\\xd4Q@\\x15\\xaf\\xe2\\xbe{\\xb9\\xeee\\xb0P\\t\\xc9\\xc4\\xbf\\xfdjj\\xd9]I\\x1aL\\x96\\x0b\\xb1\\xba~\\xf4\\x7f\\x85\\x14P\\x02^Gp4\\xe0\\x92i\\xbbT1;\\x84\\xabT\\xa3\\xb5o20lf<t\\x0c\\xa7\\xfa\\xd1E\\x00ZKu[\\xb5\"\\xc2\\xefr\\xb08\\x01OO\\xc6\\xabx\\xa6x\\xae5\\x08\\xe4KI\\xad\\xd9\\x97,\\xb2\\xa8\\x04\\xfb\\xf0}\\xa8\\xa2\\x80(\\xaf\\x92c\\\\\\xc11\\xe3\\xb4`\\xff\\x00Z\\x92\\xd2kH&&[i\\x1d}\\x0cC\\xd7\\xebE\\x14\\x00\\x97\\x8ff\\xd3\\xbb\\xc5\\x0c\\x91\\xa3r\\x01Lc\\xf5\\xaa\\xfaz\\xc4\\xd7/\\xe6\\x12\\x17o\\x1c\\x13\\xceG\\xa5\\x14P\\x07_\\xa1\\xdf\\xe9:|\\x12\\t\\xdb\\xe7w\\xc8\\xcc/\\xc0\\xfc\\xab\"\\xe8\\xd9\\xcd3b\\xe0c\\x92>F\\x1d\\xff\\x00\\xdd\\xa2\\x8a\\x00\\xa6`\\xb4\\xdc1s\\x1e\\x08=\\xcf\\xf8U\\xc9\\xa0\\xb1k$\\x0bu\\tpNp\\xff\\x00J(\\xa0\\n\\xa2\\xca\\x03\\x9c\\\\\\xc3\\xd7\\xfez/\\xf8\\xd4\\xf6V0\\xad\\xc0.\\xf1:\\xedo\\xe3_O\\xad\\x14P\\x05y\\xb4\\xe2\\x08\\\\\\xa9\\xcf\\xa6*\\t\\xac\\x1e7Q\\x8c\\xe4\\xff\\x00J(\\xa0\\x0bO\\xa7\\xbc\\xb6\\xb0m\\x87\\x95V\\xde\\xde\\xbf;c\\xf4\\x1f\\xadE\\x16\\x998;\\x96\"\\x7f\\n(\\xa0\\n\\xf7Vr@\\x8f!\\x1bp\\xd8\\xaaYs\\x93\\xcf4Q@\\r!\\x81\\xe4U\\x9b\\x19\\xa4\\x82\\xe5Z03\\xe8h\\xa2\\x804\\xac\\xaf^\\xea\\xe1\\xd5\\xd1F!a\\xc5t\\xff\\x00\\x05\\xe1\\x96_\\x8bzAT$ \\x9d\\x9b\\x8e\\x00\\xf2\\x1cd\\xfe$QE\\x00\\x7f\\xff\\xd9',\n",
       "   'nomearquivo': '5c59d2d8e450c23468e282ed.jpg'}],\n",
       " 'identificadores': [{'identificador': 'string'}],\n",
       " 'retificador': False,\n",
       " 'capturaautomatica': True,\n",
       " 'documentotransporte': '150',\n",
       " 'numero': 'TESTE12341',\n",
       " 'placa': 'TST1234',\n",
       " 'placasemireboque': 'TST5678',\n",
       " 'tipodocumentotransporte': 'CE'}"
      ]
     },
     "execution_count": 6,
     "metadata": {},
     "output_type": "execute_result"
    }
   ],
   "source": [
    "inspecoes_bson[0]"
   ]
  },
  {
   "cell_type": "markdown",
   "metadata": {},
   "source": [
    "## Teste de tamanho de arquivos com anexos json, bson e gzip"
   ]
  },
  {
   "cell_type": "code",
   "execution_count": 7,
   "metadata": {},
   "outputs": [],
   "source": [
    "def tofile(lista, newfilename, zipped=False):\n",
    "    \"\"\"Salva instância em arquivo (padrão BSON).\"\"\"\n",
    "    with open(newfilename, 'wb') as f:\n",
    "        payload = bson.BSON.encode(lista)\n",
    "        if zipped:\n",
    "            payload = gzip.compress(payload)\n",
    "        f.write(payload)\n",
    "\n",
    "json_pesagens = {'InspecaonaoInvasiva': inspecoes}\n",
    "\n",
    "with open('testimg.json', 'w', encoding='utf-8', newline='') as json_out:\n",
    "    json.dump(json_pesagens, json_out)\n",
    "size_json = os.path.getsize('testimg.json')\n",
    "\n",
    "with open('testimg.json.gzip', 'wb') as json_out:\n",
    "    payload = json.dumps(json_pesagens)\n",
    "    payload = gzip.compress(payload.encode('utf-8'))\n",
    "    json_out.write(payload)\n",
    "size_jsongzip = os.path.getsize('testimg.json.gzip')\n",
    "\n",
    "bson_pesagens = {'InspecaonaoInvasiva': inspecoes_bson}\n",
    "tofile(bson_pesagens, 'testimg.bson')\n",
    "size_bson = os.path.getsize('testimg.bson')\n",
    "\n",
    "tofile(bson_pesagens, 'testimg.bson.gzip', zipped=True)\n",
    "size_bsongzip = os.path.getsize('testimg.bson.gzip')\n"
   ]
  },
  {
   "cell_type": "code",
   "execution_count": 8,
   "metadata": {},
   "outputs": [
    {
     "name": "stdout",
     "output_type": "stream",
     "text": [
      "size_json: 620659, 100%\n",
      "size_json_gzip: 447835, 72% \n",
      "size_bson: 468733, 75% \n",
      "size_bson_gzip: 440260, 70% \n",
      "original_size: 454993, 73% \n"
     ]
    }
   ],
   "source": [
    "print('size_json: %d, %d%s' % (size_json, (size_json/size_json)*100, '%'))\n",
    "print('size_json_gzip: %d, %d%s ' % (size_jsongzip, (size_jsongzip/size_json)*100, '%'))\n",
    "print('size_bson: %d, %d%s ' % (size_bson, (size_bson/size_json)*100, '%'))\n",
    "print('size_bson_gzip: %d, %d%s ' % (size_bsongzip, (size_bsongzip/size_json)*100, '%'))\n",
    "\n",
    "original_size = 0\n",
    "for image in os.listdir('images'):\n",
    "    original_size+=os.path.getsize(os.path.join('images', image))\n",
    "    \n",
    "print('original_size: %d, %d%s ' % (original_size, (original_size/size_json)*100, '%'))"
   ]
  },
  {
   "cell_type": "code",
   "execution_count": 23,
   "metadata": {},
   "outputs": [
    {
     "name": "stdout",
     "output_type": "stream",
     "text": [
      "201\n",
      "{\n",
      "  \"detail\": -3402784176570326393,\n",
      "  \"status\": 201,\n",
      "  \"title\": \"Evento incluido\"\n",
      "}\n",
      "\n",
      "201\n",
      "{\n",
      "  \"detail\": 4535954522132294856,\n",
      "  \"status\": 201,\n",
      "  \"title\": \"Evento incluido\"\n",
      "}\n",
      "\n",
      "201\n",
      "{\n",
      "  \"detail\": -2349335339397909659,\n",
      "  \"status\": 201,\n",
      "  \"title\": \"Evento incluido\"\n",
      "}\n",
      "\n",
      "201\n",
      "{\n",
      "  \"detail\": 7858694238138899751,\n",
      "  \"status\": 201,\n",
      "  \"title\": \"Evento incluido\"\n",
      "}\n",
      "\n",
      "201\n",
      "{\n",
      "  \"detail\": 314742820516384716,\n",
      "  \"status\": 201,\n",
      "  \"title\": \"Evento incluido\"\n",
      "}\n",
      "\n",
      "201\n",
      "{\n",
      "  \"detail\": -8057150148463316833,\n",
      "  \"status\": 201,\n",
      "  \"title\": \"Evento incluido\"\n",
      "}\n",
      "\n",
      "201\n",
      "{\n",
      "  \"detail\": 3224624907008090107,\n",
      "  \"status\": 201,\n",
      "  \"title\": \"Evento incluido\"\n",
      "}\n",
      "\n",
      "201\n",
      "{\n",
      "  \"detail\": -8819203047520219258,\n",
      "  \"status\": 201,\n",
      "  \"title\": \"Evento incluido\"\n",
      "}\n",
      "\n",
      "201\n",
      "{\n",
      "  \"detail\": -5910959307809938387,\n",
      "  \"status\": 201,\n",
      "  \"title\": \"Evento incluido\"\n",
      "}\n",
      "\n",
      "201\n",
      "{\n",
      "  \"detail\": -8138989095984243489,\n",
      "  \"status\": 201,\n",
      "  \"title\": \"Evento incluido\"\n",
      "}\n",
      "\n",
      "201\n",
      "{\n",
      "  \"detail\": -2063136635345140074,\n",
      "  \"status\": 201,\n",
      "  \"title\": \"Evento incluido\"\n",
      "}\n",
      "\n",
      "201\n",
      "{\n",
      "  \"detail\": -5466940521728517560,\n",
      "  \"status\": 201,\n",
      "  \"title\": \"Evento incluido\"\n",
      "}\n",
      "\n",
      "201\n",
      "{\n",
      "  \"detail\": 7224402267961617449,\n",
      "  \"status\": 201,\n",
      "  \"title\": \"Evento incluido\"\n",
      "}\n",
      "\n",
      "201\n",
      "{\n",
      "  \"detail\": -8676530956314921559,\n",
      "  \"status\": 201,\n",
      "  \"title\": \"Evento incluido\"\n",
      "}\n",
      "\n",
      "201\n",
      "{\n",
      "  \"detail\": 4258565604309356144,\n",
      "  \"status\": 201,\n",
      "  \"title\": \"Evento incluido\"\n",
      "}\n",
      "\n",
      "201\n",
      "{\n",
      "  \"detail\": -2231758828815169130,\n",
      "  \"status\": 201,\n",
      "  \"title\": \"Evento incluido\"\n",
      "}\n",
      "\n",
      "201\n",
      "{\n",
      "  \"detail\": 6163451841859453132,\n",
      "  \"status\": 201,\n",
      "  \"title\": \"Evento incluido\"\n",
      "}\n",
      "\n",
      "201\n",
      "{\n",
      "  \"detail\": 5930961376990914249,\n",
      "  \"status\": 201,\n",
      "  \"title\": \"Evento incluido\"\n",
      "}\n",
      "\n",
      "201\n",
      "{\n",
      "  \"detail\": -4566807514299000890,\n",
      "  \"status\": 201,\n",
      "  \"title\": \"Evento incluido\"\n",
      "}\n",
      "\n",
      "201\n",
      "{\n",
      "  \"detail\": 1523963978698010481,\n",
      "  \"status\": 201,\n",
      "  \"title\": \"Evento incluido\"\n",
      "}\n",
      "\n",
      "201\n",
      "{\n",
      "  \"detail\": 5454188631005292170,\n",
      "  \"status\": 201,\n",
      "  \"title\": \"Evento incluido\"\n",
      "}\n",
      "\n",
      "201\n",
      "{\n",
      "  \"detail\": -3418490012490502501,\n",
      "  \"status\": 201,\n",
      "  \"title\": \"Evento incluido\"\n",
      "}\n",
      "\n",
      "201\n",
      "{\n",
      "  \"detail\": -2122862392999516784,\n",
      "  \"status\": 201,\n",
      "  \"title\": \"Evento incluido\"\n",
      "}\n",
      "\n",
      "201\n",
      "{\n",
      "  \"detail\": 3366762231934332756,\n",
      "  \"status\": 201,\n",
      "  \"title\": \"Evento incluido\"\n",
      "}\n",
      "\n"
     ]
    }
   ],
   "source": [
    "for inspecao in inspecoes:\n",
    "    r = requests.post(HOME + 'inspecaonaoinvasiva', json=inspecao)\n",
    "    print(r.status_code)\n",
    "    print(r.text)"
   ]
  },
  {
   "cell_type": "code",
   "execution_count": 25,
   "metadata": {},
   "outputs": [
    {
     "name": "stdout",
     "output_type": "stream",
     "text": [
      "200\n",
      "{'ID': 1, 'IDEvento': 1, 'anexos': [{'content': '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', 'contentType': 'image/jpeg', 'datacriacao': '2019-05-31T02:55:50.300000Z', 'datamodificacao': '2019-05-31T02:55:50.300000Z', 'nomearquivo': '5c59d2d8e450c23468e282ed.jpg'}], 'capturaautomatica': True, 'dataevento': '2019-05-28T12:18:41.204000Z', 'dataregistro': '2019-05-28T12:18:41.204000Z', 'documentotransporte': '150', 'hash': -6440333854007293799, 'identificadores': [{'identificador': 'string'}], 'numero': 'TESTE12341', 'operadorevento': 'string', 'operadorregistro': 'string', 'placa': 'TST1234', 'placasemireboque': 'TST5678', 'recinto': '00001', 'request_IP': '127.0.0.1', 'retificador': False, 'time_created': '2019-06-05T18:55:11.657107Z', 'tipodocumentotransporte': 'CE'}\n"
     ]
    }
   ],
   "source": [
    "r = requests.get(HOME + 'inspecaonaoinvasiva/1')\n",
    "print(r.status_code)\n",
    "print(r.json())"
   ]
  },
  {
   "cell_type": "code",
   "execution_count": 26,
   "metadata": {},
   "outputs": [
    {
     "ename": "AssertionError",
     "evalue": "Mismatched values: 'datacriacao', expected: '2019-05-31T02:55:50.300000+00:00', actual: '2019-05-31T02:55:50.300000Z','datamodificacao', expected: '2019-05-31T02:55:50.300000+00:00', actual: '2019-05-31T02:55:50.300000Z'",
     "output_type": "error",
     "traceback": [
      "\u001b[1;31m---------------------------------------------------------------------------\u001b[0m",
      "\u001b[1;31mAssertionError\u001b[0m                            Traceback (most recent call last)",
      "\u001b[1;32m<ipython-input-26-d17dc1140bfc>\u001b[0m in \u001b[0;36m<module>\u001b[1;34m\u001b[0m\n\u001b[1;32m----> 1\u001b[1;33m \u001b[0mcase\u001b[0m\u001b[1;33m.\u001b[0m\u001b[0massertDictContainsSubset\u001b[0m\u001b[1;33m(\u001b[0m\u001b[0minspecoes\u001b[0m\u001b[1;33m[\u001b[0m\u001b[1;36m0\u001b[0m\u001b[1;33m]\u001b[0m\u001b[1;33m[\u001b[0m\u001b[1;34m'anexos'\u001b[0m\u001b[1;33m]\u001b[0m\u001b[1;33m[\u001b[0m\u001b[1;36m0\u001b[0m\u001b[1;33m]\u001b[0m\u001b[1;33m,\u001b[0m \u001b[0mdict\u001b[0m\u001b[1;33m(\u001b[0m\u001b[0mr\u001b[0m\u001b[1;33m.\u001b[0m\u001b[0mjson\u001b[0m\u001b[1;33m(\u001b[0m\u001b[1;33m)\u001b[0m\u001b[1;33m)\u001b[0m\u001b[1;33m[\u001b[0m\u001b[1;34m'anexos'\u001b[0m\u001b[1;33m]\u001b[0m\u001b[1;33m[\u001b[0m\u001b[1;36m0\u001b[0m\u001b[1;33m]\u001b[0m\u001b[1;33m)\u001b[0m\u001b[1;33m\u001b[0m\u001b[1;33m\u001b[0m\u001b[0m\n\u001b[0m",
      "\u001b[1;32m~\\AppData\\Local\\Continuum\\anaconda3\\lib\\unittest\\case.py\u001b[0m in \u001b[0;36massertDictContainsSubset\u001b[1;34m(self, subset, dictionary, msg)\u001b[0m\n\u001b[0;32m   1147\u001b[0m             \u001b[0mstandardMsg\u001b[0m \u001b[1;33m+=\u001b[0m \u001b[1;34m'Mismatched values: %s'\u001b[0m \u001b[1;33m%\u001b[0m \u001b[1;34m','\u001b[0m\u001b[1;33m.\u001b[0m\u001b[0mjoin\u001b[0m\u001b[1;33m(\u001b[0m\u001b[0mmismatched\u001b[0m\u001b[1;33m)\u001b[0m\u001b[1;33m\u001b[0m\u001b[1;33m\u001b[0m\u001b[0m\n\u001b[0;32m   1148\u001b[0m \u001b[1;33m\u001b[0m\u001b[0m\n\u001b[1;32m-> 1149\u001b[1;33m         \u001b[0mself\u001b[0m\u001b[1;33m.\u001b[0m\u001b[0mfail\u001b[0m\u001b[1;33m(\u001b[0m\u001b[0mself\u001b[0m\u001b[1;33m.\u001b[0m\u001b[0m_formatMessage\u001b[0m\u001b[1;33m(\u001b[0m\u001b[0mmsg\u001b[0m\u001b[1;33m,\u001b[0m \u001b[0mstandardMsg\u001b[0m\u001b[1;33m)\u001b[0m\u001b[1;33m)\u001b[0m\u001b[1;33m\u001b[0m\u001b[1;33m\u001b[0m\u001b[0m\n\u001b[0m\u001b[0;32m   1150\u001b[0m \u001b[1;33m\u001b[0m\u001b[0m\n\u001b[0;32m   1151\u001b[0m \u001b[1;33m\u001b[0m\u001b[0m\n",
      "\u001b[1;32m~\\AppData\\Local\\Continuum\\anaconda3\\lib\\unittest\\case.py\u001b[0m in \u001b[0;36mfail\u001b[1;34m(self, msg)\u001b[0m\n\u001b[0;32m    668\u001b[0m     \u001b[1;32mdef\u001b[0m \u001b[0mfail\u001b[0m\u001b[1;33m(\u001b[0m\u001b[0mself\u001b[0m\u001b[1;33m,\u001b[0m \u001b[0mmsg\u001b[0m\u001b[1;33m=\u001b[0m\u001b[1;32mNone\u001b[0m\u001b[1;33m)\u001b[0m\u001b[1;33m:\u001b[0m\u001b[1;33m\u001b[0m\u001b[1;33m\u001b[0m\u001b[0m\n\u001b[0;32m    669\u001b[0m         \u001b[1;34m\"\"\"Fail immediately, with the given message.\"\"\"\u001b[0m\u001b[1;33m\u001b[0m\u001b[1;33m\u001b[0m\u001b[0m\n\u001b[1;32m--> 670\u001b[1;33m         \u001b[1;32mraise\u001b[0m \u001b[0mself\u001b[0m\u001b[1;33m.\u001b[0m\u001b[0mfailureException\u001b[0m\u001b[1;33m(\u001b[0m\u001b[0mmsg\u001b[0m\u001b[1;33m)\u001b[0m\u001b[1;33m\u001b[0m\u001b[1;33m\u001b[0m\u001b[0m\n\u001b[0m\u001b[0;32m    671\u001b[0m \u001b[1;33m\u001b[0m\u001b[0m\n\u001b[0;32m    672\u001b[0m     \u001b[1;32mdef\u001b[0m \u001b[0massertFalse\u001b[0m\u001b[1;33m(\u001b[0m\u001b[0mself\u001b[0m\u001b[1;33m,\u001b[0m \u001b[0mexpr\u001b[0m\u001b[1;33m,\u001b[0m \u001b[0mmsg\u001b[0m\u001b[1;33m=\u001b[0m\u001b[1;32mNone\u001b[0m\u001b[1;33m)\u001b[0m\u001b[1;33m:\u001b[0m\u001b[1;33m\u001b[0m\u001b[1;33m\u001b[0m\u001b[0m\n",
      "\u001b[1;31mAssertionError\u001b[0m: Mismatched values: 'datacriacao', expected: '2019-05-31T02:55:50.300000+00:00', actual: '2019-05-31T02:55:50.300000Z','datamodificacao', expected: '2019-05-31T02:55:50.300000+00:00', actual: '2019-05-31T02:55:50.300000Z'"
     ]
    }
   ],
   "source": [
    "case.assertDictContainsSubset(inspecoes[0]['anexos'][0], dict(r.json())['anexos'][0])\n"
   ]
  },
  {
   "cell_type": "markdown",
   "metadata": {},
   "source": [
    "# Endpoints para anexar arquivo por form/multidata"
   ]
  },
  {
   "cell_type": "markdown",
   "metadata": {},
   "source": [
    "### Primeiro envia um Evento SEM anexos (sem campos content, contentType e nomearquivo)"
   ]
  },
  {
   "cell_type": "code",
   "execution_count": 3,
   "metadata": {},
   "outputs": [
    {
     "name": "stdout",
     "output_type": "stream",
     "text": [
      "201\n",
      "{\n",
      "  \"detail\": 8658492321094905794,\n",
      "  \"status\": 201,\n",
      "  \"title\": \"Evento incluido\"\n",
      "}\n",
      "\n"
     ]
    }
   ],
   "source": [
    "r = requests.post(HOME + 'inspecaonaoinvasiva',\n",
    "                  json=inspecao_modelo)\n",
    "print(r.status_code)\n",
    "print(r.text)"
   ]
  },
  {
   "cell_type": "code",
   "execution_count": 6,
   "metadata": {},
   "outputs": [
    {
     "name": "stdout",
     "output_type": "stream",
     "text": [
      "200\n",
      "{'ID': 1, 'IDEvento': 0, 'anexos': [{'contentType': '', 'datacriacao': '2019-05-31T02:55:50.300000Z', 'datamodificacao': '2019-05-31T02:55:50.300000Z', 'nomearquivo': ''}], 'capturaautomatica': True, 'dataevento': '2019-05-28T12:18:41.204000Z', 'dataregistro': '2019-05-28T12:18:41.204000Z', 'documentotransporte': '150', 'hash': 8658492321094905794, 'identificadores': [{'identificador': 'string'}], 'numero': 'TESTE1234', 'operadorevento': 'string', 'operadorregistro': 'string', 'placa': 'TST1234', 'placasemireboque': 'TST5678', 'recinto': '00001', 'request_IP': '127.0.0.1', 'retificador': False, 'time_created': '2019-06-07T19:50:41.934306Z', 'tipodocumentotransporte': 'CE'}\n"
     ]
    }
   ],
   "source": [
    "r = requests.get(HOME + 'inspecaonaoinvasiva/0')\n",
    "print(r.status_code)\n",
    "print(r.json())"
   ]
  },
  {
   "cell_type": "code",
   "execution_count": 7,
   "metadata": {},
   "outputs": [
    {
     "name": "stdout",
     "output_type": "stream",
     "text": [
      "Mismatched values: 'dataevento', expected: '2019-05-28T12:18:41.204Z', actual: '2019-05-28T12:18:41.204000Z','dataregistro', expected: '2019-05-28T12:18:41.204Z', actual: '2019-05-28T12:18:41.204000Z','anexos', expected: [{'datacriacao': '2019-05-31T02:55:50.300000+00:00', 'datamodificacao': '2019-05-31T02:55:50.300000+00:00'}], actual: [{'contentType': '', 'datacriacao': '2019-05-31T02:55:50.300000Z', 'datamodificacao': '2019-05-31T02:55:50.300000Z', 'nomearquivo': ''}]\n"
     ]
    }
   ],
   "source": [
    "try:\n",
    "    case.assertDictContainsSubset(inspecao_modelo, r.json())\n",
    "except AssertionError as err:\n",
    "    print(err)"
   ]
  },
  {
   "cell_type": "code",
   "execution_count": 32,
   "metadata": {},
   "outputs": [
    {
     "name": "stdout",
     "output_type": "stream",
     "text": [
      "400\n",
      "[\n",
      "  {\n",
      "    \"detail\": \"Arquivo nao informado\", \n",
      "    \"status\": 400, \n",
      "    \"title\": \"Evento ou consulta invalidos (BAD Request)\"\n",
      "  }, \n",
      "  400\n",
      "]\n",
      "\n"
     ]
    }
   ],
   "source": [
    "# Manda arquivo vazio...\n",
    "files = {} #{'file': (images[0], image, 'image/jpeg')}\n",
    "headers = {}\n",
    "data = {'IDEvento': 0, 'tipoevento': 'InspecaonaoInvasiva'}\n",
    "# headers['Content-Type'] = 'image/jpeg'\n",
    "r = requests.post(HOME + 'upload_file',\n",
    "                  data=data,\n",
    "                  files=files,\n",
    "                  headers=headers)\n",
    "print(r.status_code)\n",
    "print(r.text)"
   ]
  },
  {
   "cell_type": "code",
   "execution_count": 33,
   "metadata": {},
   "outputs": [
    {
     "name": "stdout",
     "output_type": "stream",
     "text": [
      "404\n",
      "[\n",
      "  {\n",
      "    \"detail\": \"Evento n\\u00e3o encontrado.\", \n",
      "    \"status\": 404, \n",
      "    \"title\": \"Evento ou recurso nao encontrado\"\n",
      "  }, \n",
      "  404\n",
      "]\n",
      "\n"
     ]
    }
   ],
   "source": [
    "# Manda ID errado...\n",
    "filename = os.listdir('images')[0]\n",
    "image = open(os.path.join('images', filename), 'rb').read()\n",
    "files = {'file': (filename, image, 'image/jpeg')}\n",
    "headers = {}\n",
    "data = {'IDEvento': 1000000, 'tipoevento': 'InspecaonaoInvasiva'}\n",
    "# headers['Content-Type'] = 'image/jpeg'\n",
    "r = requests.post(HOME + 'upload_file',\n",
    "                  data=data,\n",
    "                  files=files,\n",
    "                  headers=headers)\n",
    "print(r.status_code)\n",
    "print(r.text)"
   ]
  },
  {
   "cell_type": "code",
   "execution_count": 34,
   "metadata": {},
   "outputs": [
    {
     "name": "stdout",
     "output_type": "stream",
     "text": [
      "201\n",
      "[\n",
      "  {\n",
      "    \"detail\": -8347497061647097795, \n",
      "    \"status\": 201, \n",
      "    \"title\": \"Evento incluido\"\n",
      "  }, \n",
      "  201\n",
      "]\n",
      "\n"
     ]
    }
   ],
   "source": [
    "data = {'IDEvento': 0, 'tipoevento': 'InspecaonaoInvasiva'}\n",
    "# headers['Content-Type'] = 'image/jpeg'\n",
    "r = requests.post(HOME + 'upload_file',\n",
    "                  data=data,\n",
    "                  files=files,\n",
    "                  headers=headers)\n",
    "print(r.status_code)\n",
    "print(r.text)"
   ]
  },
  {
   "cell_type": "code",
   "execution_count": 35,
   "metadata": {},
   "outputs": [
    {
     "name": "stdout",
     "output_type": "stream",
     "text": [
      "200\n",
      "{'ID': 25, 'IDEvento': 0, 'anexos': [{'content': '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', 'contentType': 'image/jpeg', 'datacriacao': '2019-05-31T02:55:50.300000Z', 'datamodificacao': '2019-05-31T02:55:50.300000Z', 'nomearquivo': '5c59d2d8e450c23468e282ed.jpg'}], 'capturaautomatica': True, 'dataevento': '2019-05-28T12:18:41.204000Z', 'dataregistro': '2019-05-28T12:18:41.204000Z', 'documentotransporte': '150', 'hash': -8347497061647097795, 'identificadores': [{'identificador': 'string'}], 'numero': 'TESTE1234', 'operadorevento': 'string', 'operadorregistro': 'string', 'placa': 'TST1234', 'placasemireboque': 'TST5678', 'recinto': '00001', 'request_IP': '127.0.0.1', 'retificador': False, 'time_created': '2019-06-05T18:57:24.218107Z', 'tipodocumentotransporte': 'CE'}\n"
     ]
    }
   ],
   "source": [
    "r = requests.get(HOME + 'inspecaonaoinvasiva/0')\n",
    "print(r.status_code)\n",
    "print(r.json())"
   ]
  },
  {
   "cell_type": "code",
   "execution_count": 44,
   "metadata": {},
   "outputs": [
    {
     "name": "stdout",
     "output_type": "stream",
     "text": [
      "200\n",
      "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\n"
     ]
    }
   ],
   "source": [
    "r = requests.get(HOME + 'get_file', data=data)\n",
    "print(r.status_code)\n",
    "print(r.text)"
   ]
  },
  {
   "cell_type": "code",
   "execution_count": 45,
   "metadata": {},
   "outputs": [
    {
     "data": {
      "image/jpeg": "[encoded data removed]",
      "text/plain": [
       "<IPython.core.display.Image object>"
      ]
     },
     "execution_count": 45,
     "metadata": {},
     "output_type": "execute_result"
    }
   ],
   "source": [
    "display.Image(image)"
   ]
  },
  {
   "cell_type": "code",
   "execution_count": 46,
   "metadata": {},
   "outputs": [
    {
     "data": {
      "image/jpeg": "[encoded data removed]",
      "text/plain": [
       "<IPython.core.display.Image object>"
      ]
     },
     "execution_count": 46,
     "metadata": {},
     "output_type": "execute_result"
    }
   ],
   "source": [
    "from base64 import b64decode\n",
    "display.Image(b64decode(r.text.encode()))"
   ]
  },
  {
   "cell_type": "code",
   "execution_count": 52,
   "metadata": {},
   "outputs": [],
   "source": [
    "assert b64decode(r.text.encode()) == image"
   ]
  }
 ],
 "metadata": {
  "kernelspec": {
   "display_name": "Python 3",
   "language": "python",
   "name": "python3"
  },
  "language_info": {
   "codemirror_mode": {
    "name": "ipython",
    "version": 3
   },
   "file_extension": ".py",
   "mimetype": "text/x-python",
   "name": "python",
   "nbconvert_exporter": "python",
   "pygments_lexer": "ipython3",
   "version": "3.6.8"
  }
 },
 "nbformat": 4,
 "nbformat_minor": 2
}
