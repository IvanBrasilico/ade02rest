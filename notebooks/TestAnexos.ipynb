{
 "cells": [
  {
   "cell_type": "code",
   "execution_count": 1,
   "metadata": {},
   "outputs": [],
   "source": [
    "import datetime\n",
    "import time\n",
    "import random\n",
    "import requests\n",
    "import json\n",
    "import bson\n",
    "import gzip\n",
    "import os\n",
    "from base64 import b64encode\n",
    "from copy import deepcopy\n",
    "\n",
    "\n",
    "LOCAL = 'http://localhost:8000/'\n",
    "REMOTE = 'https://api-recintos.herokuapp.com/'\n",
    "HOME = LOCAL\n",
    "CARGA = 100"
   ]
  },
  {
   "cell_type": "code",
   "execution_count": 2,
   "metadata": {},
   "outputs": [],
   "source": [
    "inspecao_modelo = {\n",
    "  \"IDEvento\": 0,\n",
    "  \"dataevento\": \"2019-05-28T12:18:41.204Z\",\n",
    "  \"dataregistro\": \"2019-05-28T12:18:41.204Z\",\n",
    "  \"operadorevento\": \"string\",\n",
    "  \"operadorregistro\": \"string\",\n",
    "  \"anexos\": [\n",
    "    {\n",
    "      \"nomearquivo\": \"\",\n",
    "      \"content\": \"\",\n",
    "      \"contentType\": \"\",\n",
    "      \"datacriacao\": \"2019-05-31T02:55:50.300000+00:00\",\n",
    "      \"datamodificacao\": \"2019-05-31T02:55:50.300000+00:00\"\n",
    "    }\n",
    "  ],\n",
    "  \"identificadores\": [\n",
    "    {\n",
    "      \"identificador\": \"string\"\n",
    "    }\n",
    "  ],\n",
    "  \"retificador\": False,\n",
    "  \"capturaautomatica\": True,\n",
    "  \"documentotransporte\": \"150\",\n",
    "  \"numero\": \"TESTE1234\",\n",
    "  \"placa\": \"TST1234\",\n",
    "  \"placasemireboque\": \"TST5678\",\n",
    "  \"tipodocumentotransporte\": \"CE\"\n",
    "}"
   ]
  },
  {
   "cell_type": "code",
   "execution_count": 3,
   "metadata": {},
   "outputs": [],
   "source": [
    "inspecoes = []\n",
    "for ind, image in enumerate(os.listdir('images'), 1):\n",
    "    content = open(os.path.join('images', image), 'rb')\n",
    "    base64_bytes = b64encode(content.read())\n",
    "    base64_string = base64_bytes.decode('utf-8')\n",
    "    _inspecao = deepcopy(inspecao_modelo)\n",
    "    _inspecao['IDEvento'] = ind\n",
    "    _inspecao['numero'] = _inspecao['numero'] + str(ind)\n",
    "    _inspecao['anexos'][0]['content'] = base64_string\n",
    "    _inspecao['anexos'][0]['nomearquivo'] = image\n",
    "    inspecoes.append(_inspecao)\n",
    "\n",
    "inspecoes_bson = []\n",
    "for ind, image in enumerate(os.listdir('images'), 1):\n",
    "    content = open(os.path.join('images', image), 'rb').read()\n",
    "    _inspecao = deepcopy(inspecao_modelo)\n",
    "    _inspecao['IDEvento'] = ind\n",
    "    _inspecao['numero'] = _inspecao['numero'] + str(ind)\n",
    "    _inspecao['anexos'][0]['content'] = content\n",
    "    _inspecao['anexos'][0]['nomearquivo'] = image\n",
    "    inspecoes_bson.append(_inspecao)"
   ]
  },
  {
   "cell_type": "code",
   "execution_count": 4,
   "metadata": {},
   "outputs": [
    {
     "name": "stdout",
     "output_type": "stream",
     "text": [
      "24\n"
     ]
    }
   ],
   "source": [
    "print(len(inspecoes))"
   ]
  },
  {
   "cell_type": "code",
   "execution_count": 5,
   "metadata": {},
   "outputs": [
    {
     "data": {
      "text/plain": [
       "{'IDEvento': 1,\n",
       " 'anexos': [{'content': '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',\n",
       "   'contentType': '',\n",
       "   'datacriacao': '2019-05-31T02:55:50.300000+00:00',\n",
       "   'datamodificacao': '2019-05-31T02:55:50.300000+00:00',\n",
       "   'nomearquivo': '5c644671e450c223d1750e50.jpg'}],\n",
       " 'capturaautomatica': True,\n",
       " 'dataevento': '2019-05-28T12:18:41.204Z',\n",
       " 'dataregistro': '2019-05-28T12:18:41.204Z',\n",
       " 'documentotransporte': '150',\n",
       " 'identificadores': [{'identificador': 'string'}],\n",
       " 'numero': 'TESTE12341',\n",
       " 'operadorevento': 'string',\n",
       " 'operadorregistro': 'string',\n",
       " 'placa': 'TST1234',\n",
       " 'placasemireboque': 'TST5678',\n",
       " 'retificador': False,\n",
       " 'tipodocumentotransporte': 'CE'}"
      ]
     },
     "execution_count": 5,
     "metadata": {},
     "output_type": "execute_result"
    }
   ],
   "source": [
    "inspecoes[0]"
   ]
  },
  {
   "cell_type": "code",
   "execution_count": 6,
   "metadata": {},
   "outputs": [
    {
     "data": {
      "text/plain": [
       "{'IDEvento': 1,\n",
       " 'anexos': [{'content': b'\\xff\\xd8\\xff\\xe0\\x00\\x10JFIF\\x00\\x01\\x01\\x00\\x00\\x01\\x00\\x01\\x00\\x00\\xff\\xdb\\x00C\\x00\\x08\\x06\\x06\\x07\\x06\\x05\\x08\\x07\\x07\\x07\\t\\t\\x08\\n\\x0c\\x14\\r\\x0c\\x0b\\x0b\\x0c\\x19\\x12\\x13\\x0f\\x14\\x1d\\x1a\\x1f\\x1e\\x1d\\x1a\\x1c\\x1c $.\\' \",#\\x1c\\x1c(7),01444\\x1f\\'9=82<.342\\xff\\xdb\\x00C\\x01\\t\\t\\t\\x0c\\x0b\\x0c\\x18\\r\\r\\x182!\\x1c!22222222222222222222222222222222222222222222222222\\xff\\xc0\\x00\\x11\\x08\\x00\\x84\\x00\\xf6\\x03\\x01\"\\x00\\x02\\x11\\x01\\x03\\x11\\x01\\xff\\xc4\\x00\\x1f\\x00\\x00\\x01\\x05\\x01\\x01\\x01\\x01\\x01\\x01\\x00\\x00\\x00\\x00\\x00\\x00\\x00\\x00\\x01\\x02\\x03\\x04\\x05\\x06\\x07\\x08\\t\\n\\x0b\\xff\\xc4\\x00\\xb5\\x10\\x00\\x02\\x01\\x03\\x03\\x02\\x04\\x03\\x05\\x05\\x04\\x04\\x00\\x00\\x01}\\x01\\x02\\x03\\x00\\x04\\x11\\x05\\x12!1A\\x06\\x13Qa\\x07\"q\\x142\\x81\\x91\\xa1\\x08#B\\xb1\\xc1\\x15R\\xd1\\xf0$3br\\x82\\t\\n\\x16\\x17\\x18\\x19\\x1a%&\\'()*456789:CDEFGHIJSTUVWXYZcdefghijstuvwxyz\\x83\\x84\\x85\\x86\\x87\\x88\\x89\\x8a\\x92\\x93\\x94\\x95\\x96\\x97\\x98\\x99\\x9a\\xa2\\xa3\\xa4\\xa5\\xa6\\xa7\\xa8\\xa9\\xaa\\xb2\\xb3\\xb4\\xb5\\xb6\\xb7\\xb8\\xb9\\xba\\xc2\\xc3\\xc4\\xc5\\xc6\\xc7\\xc8\\xc9\\xca\\xd2\\xd3\\xd4\\xd5\\xd6\\xd7\\xd8\\xd9\\xda\\xe1\\xe2\\xe3\\xe4\\xe5\\xe6\\xe7\\xe8\\xe9\\xea\\xf1\\xf2\\xf3\\xf4\\xf5\\xf6\\xf7\\xf8\\xf9\\xfa\\xff\\xc4\\x00\\x1f\\x01\\x00\\x03\\x01\\x01\\x01\\x01\\x01\\x01\\x01\\x01\\x01\\x00\\x00\\x00\\x00\\x00\\x00\\x01\\x02\\x03\\x04\\x05\\x06\\x07\\x08\\t\\n\\x0b\\xff\\xc4\\x00\\xb5\\x11\\x00\\x02\\x01\\x02\\x04\\x04\\x03\\x04\\x07\\x05\\x04\\x04\\x00\\x01\\x02w\\x00\\x01\\x02\\x03\\x11\\x04\\x05!1\\x06\\x12AQ\\x07aq\\x13\"2\\x81\\x08\\x14B\\x91\\xa1\\xb1\\xc1\\t#3R\\xf0\\x15br\\xd1\\n\\x16$4\\xe1%\\xf1\\x17\\x18\\x19\\x1a&\\'()*56789:CDEFGHIJSTUVWXYZcdefghijstuvwxyz\\x82\\x83\\x84\\x85\\x86\\x87\\x88\\x89\\x8a\\x92\\x93\\x94\\x95\\x96\\x97\\x98\\x99\\x9a\\xa2\\xa3\\xa4\\xa5\\xa6\\xa7\\xa8\\xa9\\xaa\\xb2\\xb3\\xb4\\xb5\\xb6\\xb7\\xb8\\xb9\\xba\\xc2\\xc3\\xc4\\xc5\\xc6\\xc7\\xc8\\xc9\\xca\\xd2\\xd3\\xd4\\xd5\\xd6\\xd7\\xd8\\xd9\\xda\\xe2\\xe3\\xe4\\xe5\\xe6\\xe7\\xe8\\xe9\\xea\\xf2\\xf3\\xf4\\xf5\\xf6\\xf7\\xf8\\xf9\\xfa\\xff\\xda\\x00\\x0c\\x03\\x01\\x00\\x02\\x11\\x03\\x11\\x00?\\x00\\xf7\\xea\\xf9\\xc2\\xf6\\xdfV\\x8a\\xe3R\\xb2\\x82\\x18\\x9a\\xdeK\\xb9\\xa4f0DXe\\xdf\\xf8\\x8a\\xee\\xe8}k\\xe8\\xfa\\xf1m<\\xfe\\xff\\x00Wb\\x14\\xb1\\xb8q\\xbb\\xa9\\xef\\x8f\\xe7@\\x17mm\\xe6\\x92H\\x9c\\\\N\\xa4\\xb7$\\x01\\xfe\\x15\\xbfo`\\x8f\\x0eZi\\xc9\\xe7\\xab\\x0c\\xf1\\x9foj\\x8a\\xdd\\xbf\\xd1\\xe3\\xe0t\\xad\\x0b3\\x9bl\\xf7\\xdc\\xdf\\xce\\x80+\\xff\\x00f\"/\\xcd4\\xac\\xde\\xbcT\\x87M\\x84\\xf3\\xe6M\\x9f\\xf7\\x87\\xf8U\\xd3\\xces\\xe9FN\\x0f\\x1d\\xa8\\x02\\x8c\\x9adn0\\xb2\\xca\\xa4t9\\x06\\x9c\\xbad[@2\\xccH\\x1dw\\x0f\\xf0\\xab\\xa1\\xb9\\xfc)U\\xbd\\xbbP\\x051\\xa6A\\x91\\xf3\\xcd\\xcf\\xfbC\\xfc)\\x8d\\xa5F\\xc5H\\x9a`1\\xc8\\xc8\\xe7\\xf4\\xad\\x00\\xdc\\xafN\\x94\\x06\\xe0t\\xe9@\\x14\\x7f\\xb3 `\\xa0\\xb4\\xbf\\x98\\xff\\x00\\n_\\xec\\xd81\\x8d\\xf3\\x7f\\xdfUw?v\\x93w\\xf3\\xa0\\n\\x03J\\x84>\\xe3$\\xa5{)n\\x9f\\xe7\\xfci\\xe7L\\xb6=\\x9f\\xaf\\xf7\\xaa\\xe8n\\x07\\xd6\\x90\\xbe;P\\x05O\\xec\\xcblc\\x0f\\x8f\\xf7\\xcd6=&\\xda0\\xc0\\xf9\\x8f\\xcfw=*\\xd3N\\x17\\x83\\x8e\\xbf\\xd3\\xff\\x00\\xafA\\x98.\\xeeG\\x07\\x90?\\x0f\\xf1\\xa0\\n\\xff\\x00\\xd9\\xb6\\xb8o\\x91\\xbf\\xef\\xe3\\x7f\\x8d)\\xd3\\xadrG\\x96\\xdd?\\xbe\\xdf\\xe3S\\t\\x81Rx\\xc1\\xa97g\\'\\x8eG\\x14\\x01]t\\xebEb\\x048\\x18\\xfe\\xf1\\xff\\x00\\x1ab\\xe9\\xb6\\x8b&\\xf1\\x11\\xc9\\x1d7\\x1cv\\xf7\\xf6\\xab\\x9b\\x86I\\xf6\\xa00\\xe3\\xa7J\\x00\\xac,-2?p:z\\x9a>\\xc1j\\x00\\xc4#\\xf5\\xab%\\xc2\\xed\\'\\xbf\\x14\\xdf0b\\x80+G\\xa6\\xdaG\\xf7a\\x1c\\x9e\\xe4\\x9a\\x7f\\xd8\\xadz\\xfd\\x9d3\\x9fz\\x9c\\xb0\\x18\\xc8\\xefH$\\x04\\x91\\xdfu\\x00V\\x92\\xc2\\xd1\\x81Sn\\x98>\\xd4%\\x8d\\xaa\\x02\\x04\\t\\xc7\\xb5Yc\\xcf\\xe5I\\xbb\\x1b\\xb8\\xa0\\n\\xff\\x00c\\xb6\\xc1\\xfd\\xc4y\\xff\\x00v\\x91\\xacmdVW\\x81\\x08\\xc7q\\xcdY\\xce\\x01\\xfaR\\x93\\xf3\\x1f\\xa5\\x00U6\\x96\\xe1\\xb8\\x8201\\xd3`\\xc5cj:tE&\\x10\\xc3\\x1a\\x9c\\x93\\xd3\\xda\\xba,\\xff\\x00*\\xca\\xbcb\\r\\xc7\\x1f\\xc2\\x7f\\xf4\\x1f\\xfe\\xbd\\x00y7\\x8a4\\x86\\x96\\xf2\\xdd\\x81H\\xcf\\x96\\xc0\\xfc\\x9d~s\\xfe4V\\xc7\\x8a\\'\\xf2\\xee-X\\x0c\\xe5\\x1b\\xaf\\xfb\\xc6\\x8a\\x00\\xf7\\xfa\\xf0\\xbd.\\xe85\\xce\\xae\\x83\\x8f\\xf4\\x96\\x1fB\\x7f\\xfdu\\xee\\x95\\xf3\\xb6\\x9b6ou\\x10\\x87\\x86\\xb9?\\xd2\\x80;\\xc8.G\\xd9\\xd0\\xfbz\\xd6\\x85\\xbd\\xcaGf\\xe7q\\xce\\xe3\\xc7z\\xe5`\\x95\\xfe\\xc6\\x06y\\xf9q\\xf9U\\xe8\\xa5\\x91\\x90\\xaf8\\xdcI#\\xae1\\x9a\\x00\\xe9\\x92\\xe41Q\\xcf\\xce?\\xa5\\x06\\xedF\\xe1\\x8c\\x91\\xb4~g\\x15\\x8b\\x14\\xed\\xba\\xd9\\xb0\\xdf\\xf2\\xd3\\xf1\\xe3\\x8aO?tE\\xb8\\xdc\\xd2\\xc5\\xb7\\x1dH\\r\\xcf\\xf3\\xa0\\r\\xd18\\xfbBG\\xdd\\x81\\xc7\\xf9\\xfci\\xd2\\xcc\"(\\x0f\\xf1\\x03\\x8a\\xc6[\\x9f\\xf8\\x98G/>Z\\xa3d\\xfa\\x10E;Y\\xbb(\\xb0\\x15=\\xc8?\\xe7\\xf1\\xa0\\r/\\xb5\\x81\\x8ct\\x03\\x9f\\xca\\x81t7\\xaac\\x82\\xbf\\xe3\\xfe\\x15\\xcf\\xad\\xc1/:\\x16>\\xdc\\xfb\\x8ap\\xbao:\\xd6<\\xf3\\x8c\\x1e}\\xcd\\x00m\\xad\\xde\\xe8C\\xf20I4\\xdf\\xb6\\x93\\xb3\\x1dKc\\x19\\xf75\\x89\\r\\xd35\\x8c\\xc0\\x9e3\\x80A\\xe4g?\\xe3T\\xa3\\xbadH\\xdby\\xcbH\\x08\\xe7\\xdc\\xd0\\x07S\\xf6\\xde\\x1f\\x91\\x85>\\xb4\\xc1}\\xb4\\x1d\\xfc\\x1d\\xbb\\x88\\xcf\\xb5sf\\xf1\\x82L\\xc5\\x8e\\x06\\x07_q\\xfe\"\\x929\\xcc\\x92\\x80X\\x92I\\x19\\'\\xe8?\\x99\\xa0\\rs~\\x1e\\xe2c\\x9f\\x93*?\\xa9\\xfe\\x9f\\x95+_\\xfc\\xb2)\\'\\x18\\xeb\\xdf#\\x15\\x94gQjX\\x9e#\\x93\\x92;\\x82r\\x7f\\x95<L\\n\\xc82\\xa7\\xe69>\\x9c\\x8f\\xf0\\xa0\\r\\x1b\\x9b\\xff\\x00/L\\x98\\xf3\\xbc\\x0f\\x97\\xeb\\x9e?SZKx67#\\xe5\\xaery\\xd3\\xechO|1\\x1f\\x9f\\xff\\x00[\\xf2\\xa6-\\xd3\\xff\\x00\\xa4!lc\\x8c\\xfe4\\x01\\xd4\\xad\\xda\\x99@\\xc8\\xe5\\x7f\\xcf\\xe9B]\\x06\\x87p<\\x8e?\\x1a\\xe6\\xd6\\xf1\\x82G)?q2\\x7f\\xcf\\xd2\\x98/\\xd9m\\xdfo\\x18\\xdc\\xdc\\xfb\\x1a\\x00\\xe9\\'\\xbbCa\\x14\\xe0\\xfc\\xacF\\xda\\xaf\\x15\\xf13\\xa2\\x92rz}=j\\x96\\xe6\\x1a=\\xb4\\r\\xf32\\x10\\xa4\\x8e\\xe2\\xa1\\x84\\x91u\\x1f\\x07\\n\\xbc\\x9c\\xff\\x00\\xb2N(\\x03G\\xed\\xf9\\x99\\xa2\\xdc\\x08\\x8d\\x81\\x1fB8\\xfe\\xb55\\xa5\\xd7\\x9bx\\xc9\\xbb8c\\xc7\\xe2?\\xc6\\xb1H\\x01\\x9d\\xc7G\\xdb\\x8f\\xa0\\x1f\\xfdsVtf2^F\\xf8\\xc6\\xe1\\x92~\\xa4P\\x07F\\xdf\\xe1Hz\\xb7\\xd2\\x95\\xbb\\xfe\\x14\\x87\\xab}(\\x00=\\x0f\\xd2\\x94\\xfd\\xef\\xc2\\x93\\xd7\\xe9N\\xc7\\xcd\\xf8P\\x03{VU\\xf7\\x06\\xe3\\xfd\\xdf\\xfd\\x97\\xff\\x00\\xadZ\\xbd\\x85e\\xdf\\x8f\\x9a\\x7f\\xf7\\x7f\\xf6Z\\x00\\xf3\\xaf\\x15\\x11\\xe6\\xda\\xf4\\xff\\x00VO\\xfe<h\\xa3\\xc5d\\tmrO\\xfa\\xae\\xdfSE\\x00}\\x07_1\\xe9\\xb7M\\x1d\\xe5\\xfc\\xae@\\x02\\xe4|\\xbf\\x8a\\xff\\x00\\x8d}9_)\\xa4\\x9bn51\\xc72\\x828=w-\\x00vq]\\x85\\xb7\\xe5\\xb9\\xc0\\'\\xf0\\xff\\x00\\xf5\\xd5\\xab=L~\\xf4\\xae3\\xb8\\x8f\\xc3\\x18\\xaed\\xdc\\xc7\\xfb\\xb5WB<\\xa1\\x8f\\x9b\\xe9\\xfe\\x15b\\xd1\\xc9r\\x8b\\x802I\\xc9\\xe9\\xf2\\x8f\\xf0\\xa0\\x0e\\xbe\\xc6\\xeb\\xcc\\x8d\\xd9[\\xee\\xb0\\xc0\\xfc*!#I$\\xd0,\\x84\\x10N\\xd2;c\\rY:u\\xe2\\x812\\xee\\x01\\x8b\\x80\\xdc\\xfdO\\xf8T\\x9fiXo\\xa4e`T\\x93\\xdf\\xd5\\x07\\xf8P\\x05\\xd8\\xaf\\xcc\\x8f#\\x1c\\xedi\\x08\\xcez\\x03\\x8av\\xa5v\\xd3Z\\xc0\\xe5\\x86\\x15\\xdbq\\xed\\xd0\\n\\xcd\\x8aX\\xe3\\x0f\\x82y\\xc3\\x8fn?\\xfa\\xd5\\x1d\\xe4\\xfe^\\x9f\\n\\xff\\x00\\xb4\\x7f\\x90?\\xce\\x80/\\xfd\\xa9\\x8d\\xdc\\xcc\\x0f-\\x19\\x1f\\x8e\\xd1M\\x17\\x12,\\xf6\\xf9?.\\xef\\xd2\\xb3V]\\xb7/\\x803$9\\x1fR\\x01\\xa6\\x1b\\xbc5\\xabpJ69\\xff\\x00x\\xd0\\x06\\xbd\\xbc\\xe7m\\xd2\\x16\\xf9O\\xa7\\xa8\\xa8\\xdaB,`\\x1cdI\\x93\\xff\\x00}\\x00j\\x9c\\x13\\xed\\xba\\xb8_Br=j\\xb3^\\x1f.E\\xe7\\xfdh\\xc7\\xfb9\\nO\\xeb@\\x1a\\xa6B\\xc9)\\x04\\x1d\\xce8\\xf4\\xe4P$\\xf2\\xa4\\x85\\x0e2\\xc3?\\x9f5\\x9b%\\xd7\\x96\\xe5A\\x19\\xf3\\x00\\xeb\\xd7\\x83\\xd7\\xf1\\xa9\\x1e\\xf0MsjY~\\\\\\x85\\xcf\\xe8(\\x02\\xe3K \\xd3\\xe6\\x8c\\x10Ib?Lc\\xf5\\xa9<\\xe9\\x11\\x97\\xe6\\x01J\\x87\\xc7\\xe1\\xfe9\\xaaBtX\\x1f\\x00\\xeeW\\x0c\\t\\x07\\xdf\\xff\\x00\\xad\\xf9T\\x973\\xa2\\x94\\x04p\\xd1\\x90\\x7f_\\xea(\\x01\\xe94\\x8c\\x90\\x16n\\x1d\\xc99\\xef\\xf3\\x1c\\x7f:\\x95\\xa5\\xf9\\xe79\\xcf\\xcb\\x83TV\\xe0<\\x96\\xa5\\xbe\\xe2\\xe7<{\\xff\\x00\\xf5\\xc5\\rp\\x0c\\xd7 \\xf06v\\xa0\\x0b\\xe5\\x8f\\x97\\x12\\xee8h\\xd8\\x0c\\x9e\\xfcRG6\"g\\xdc\\x00\\xdc\\xcaq\\xeeMSK\\xad\\xa9\\x018\\x18R\\xa7\\x15\\x19\\xb8\\x0b\\x14\\x80\\x91\\xf2\\xbex\\xfa\\x9f\\xf3\\xf8P\\x06\\xfb\\xde\\xca\\xb6q\\x90xA\\x9a\\x8e;\\xf2\\xaa\\xec@\\xc37\\xe43\\x8f\\xe5T\\x8c\\x8b&\\x9a\\x9dH\\xdaw\\x8c\\xff\\x00\\x9fJ\\x89\\x08\\x10\\xbe\\xe6\\\\\\xf3\\x83\\x9f\\xc7\\xfc\\x7f*\\x00\\xbdm|\\xd2N\\x10\\x01\\x92Xs\\xfe\\xf1\\xff\\x00\\n\\xd9\\xf0\\xcc\\xbel\\xb2\\x00x\\x8c\\x0c\\x0f\\xca\\xb9[\\'_>\\x03\\xb8aH$\\xfa|\\xc7\\xf4\\xe6\\xb6\\xfc?0\\x81\\xeed\\xdd\\x8c\\x81\\x83\\x9a\\x00\\xedY\\x8f\\xcd\\xcd&\\xe2s\\xcfj\\xc3mH)p\\xceX\\x8e\\xbdG\\xf3\\xab\\xb6\\xf7k.\\xeeO<t\\xef\\x8a\\x00\\xbf\\xb8\\xe7\\xf0\\xa7\\x06\\xf9\\x87\\xd2\\xabE0\\x91\\x86\\x0fn\\xf5`\\x7f\\r\\x00\\x1b\\x8e\\x05e\\xeaLCM\\xfe\\xe0\\xad<\\xf0+#W\\x95bY\\x9d\\xb2@A\\x9c\\x0ez\\xd0\\x07\\x9d\\xf8\\xacl{b\\xbd\\xe2\\\\\\xe4\\xfdh\\xaa\\xbe.\\xbf\\x83e\\xb3\\x1c\\xe0*\\x8ep?\\xbd\\xefE\\x00}!_\\x1d\\xdcA,\\xfe!\\xbe \\x12\\x8c\\xc3\\x8e\\x1b\\x9c\\x0f\\\\\\xd7\\xd8\\x95\\xf2*eu\\x9b\\xa7\\xce\\x06\\xf4<z\\xe4\\x1f\\xeb@\\x1aV\\x16_\\xf1/\\xfd\\xe6|\\xc5P\\x18qZ\\xb6\\xdb\\xd2\\xf2\\x15S\\xf7\\xe3\\xe3q\\xef\\xfeEg\\xc0\\xc4\\x879\\xf4=;T\\x89#++d\\xe5\\x17\\x1d?\\xcf\\xad\\x00O\\x1c\\xf7\\x03\\xceh\\xc2\\xff\\x00\\xac\\x00\\x9f\\xf8\\x08\\xff\\x00?\\x85Hn\\xa5\\x96@\\xea\\x17\\xe6\\x03\\x0b\\xf8\\xf3U\\xe0}\\x90:\\x1e76\\xe1\\x8f\\\\b\\x99\\x05\\xc0\\\\\\xca\\x07!\\xf1\\x83\\xe8[\\xfc9\\xa0\\r\\x00g,\\x9d6\\x94\\xf4\\xf4\\xe0\\xff\\x00*I\\xa4\\x9eE`@\\xda\\x87p\\x04v<Uo\\xb6\\xb2\\xcb\\xb7\\x92\\x15\\x7f^I\\x15\\x1c\\xd7.\\xf21O\\xf5x\\xda\\x0fS\\xc0\\xa0\\r\\x00\\xf3\\x89\\xa2eU\\xcf\\x96I\\xe3\\xb6\\xda\\x85\\xdaq\\x00;\\x17pl\\xe7\\xd3\\x81P}\\xa1\\xd1\\x95\\xb0@\\x00\\x7f\\x85\\'\\x9c\\x7frs\\xdd\\xb9\\xf5\\xe4u\\xa0\\x0b\\xd1<\\xcby9*\\xa0\\xb0?\\x879\\xa8\\x90\\xb8`C.ZO\\x9b\\xeb\\xf2\\xf1Q\\xab\\xb7\\xdb.\\x0f\\xa3\\xfaz\\xb7\\xff\\x00^\\xa9\\xfd\\xa1\\xf6\\xb6\\t\\xcf\\x99\\x9f\\xfctP\\x06\\x93\\xb4\\x9b\\x9fp\\x19\\x04~x5,k1\\xbb\\x857 \\xc2\\xef\\xeb\\xedY\\x93L\\xc5\\x88R\\xd8?\\xa8\\x1f\\xfe\\xba \\xb9\\x90\\xddG\\xc9$\\x8d\\xb9\\xf4\\x19\\xff\\x00\\xeb\\xd0\\x04\\xd34\\xfbd\\x00\\xa7\\x0c3\\x8c{\\xe3\\xb5\\x06[\\x99%*X`\\x83\\xc9<t\\xff\\x00\\xeb\\xe6\\xa9\\xb4\\xac\\x16`\\x01\\x05\\x7f\\xa7J\\x94\\xceb@\\xfc\\xe5\\xd3\\xa63\\xd4b\\x80-\\x07\\x94[@C&A#<q\\xd3\\xda\\x9e\\xed3M)\\xf3\\x17\\x1b\\t\\xeb\\xd7\\x8f\\xa5gy\\xce,\\x94\\x11\\xd2C\\xfe\\x7fJ\\x9b\\xcc\\xcd\\xdc\\xaaF>R\\x07\\xf3\\xfeT\\x01u\\x0c\\xaf\\x0cQ\\xf9\\xab\\xf7\\xbdz~\\x94\\xcd\\xd3\\x14\\x9f\\xe6\\xca\\x0cg\\xe6\\xeaw\\x0f\\xf1\\xaa1\\xcc\\xe8\\x90\\x9e\\xe1\\xf8\\xfc\\xe9bvE\\xb9^\\xdcc\\xdf\\xfc\\xe2\\x806l\\xee&P\\x8a\\'\\x1b8\\x07\\x1e\\xf9\\xf6\\xaaMyp\\xcb2\\x89\\xbe\\xeb\\xf03\\xdb\\x06\\xaa\\xc3#%\\x9cm\\xd1\\xb2\\t\\xe7\\xd1EB\\xbf29l\\x83\\x90\\t\\xcd\\x00[\\x82\\xf6d\\xb8\\'\\x7f\\xc8U\\xb8\\xcf\\xa2\\xd6\\xc6\\x8fy1\\xb3\\x98\\xbc\\xfd\\xcez{{W;\\xb7%\\x0e\\x180^qV\\xf4\\xb7+ F$!c\\xfc\\x8d\\x00t\\xa6\\xe9\\xd2IUe\\x8dA\\xfc3\\xcf\\xb2\\xfb\\xd6\\x9e\\x975\\xd3\\x15>r\\x05b\\x17<\\x1fQ\\xe9XA\\xd3\\xcer\\x8ap:\\xe4\\xe3\\x1c\\xd6\\x95\\x94\\xa5-\\xd0\\x94\\x00\\x89\\x01\\xc0=\\xba\\xff\\x00Z\\x00\\xe8\\xb4Sw<\\xcc\\x05\\xca\\x83\\xcf\\xcb\\xdf\\xa7\\xd2\\xb6~\\xcdz2E\\xc8\\'\\x19\\x03=\\x7fJ\\xe7\\xfc>\\xe7\\xfbZ4\\xc0\\xe8\\xc3\\xdf;Mv\\x01@by\\xe7\\xde\\x803\\x85\\xad\\xe6\\xdc\\xb5\\xc6\\xde\\xbdqUo\\xb4\\xb9\\xae\"\\x9b\\xce`\\xcaW\\xefg\\xdc\\x7f\\x8dm0\\x07\\xdb\\xe9L\\xba\\xff\\x00\\x8fW\\xfa\\x7f\\x85\\x00x\\x7f\\x8e\\xb4\\xa3-\\xbc1\\xc2\\xdbJ\\x98\\xcew\\x1eF\\x1e\\x8a\\xd2\\xf1\\x92\\xee*y\\xff\\x00\\x96x\\xc1\\xed\\x87\\xa2\\x80>\\x82\\xaf\\x91\\x10\\x9f\\xedk\\x9c\\x8d\\xa7\\xcd\\x1c\\x1f\\xf8\\r}w_#\\xa7\\xfc\\x86n\\xc7O\\xde\\x81\\xfc\\xa8\\x03F\\xd9\\x87\\x910=G#\\xeb\\xc7\\xf8\\xd4\\xf9\\x00\\xe5\\xba:\\xfc\\xdf\\x96?\\x9dC\\n\\x96\\x8es\\xdb\\xb5L\\xe0\\xb6\\xc5=v\\xfe}\\xff\\x00\\x9d\\x00 ]\\xd6\\xfcvn9\\xa6\\xaa\\xa9U\\x04\\x10\\x08\\x1f\\xce\\x9e\\xab\\x9bA\\xcf,\\xf9\\x1f\\x9d/\\x95\\x99\\x02\\x8c\\x80\\x17?\\x97\\xff\\x00_\\x8a\\x00a\\x19\\x87\\x1bNH\\xces\\xdf\\x91S\\xd8\\xc5\\xe6\\\\yc\\x81\\xb79>\\xb5\\x12\\xa70\\x9c\\x1eOL\\xf1V,?s$\\xb2\\x1eJ\\x81\\xd7\\xe8\\x7f\\xc6\\x80\\x0b\\xc8\\xd52\\xbb\\xb0\\x17#\\x1f\\x88\\xff\\x00\\x1a\\xaaK\\x03\\n\\xf7\\xdd\\xcf\\x1f\\xe7\\xd6\\xa6\\xb8\\xf9\\xa5^\\xe0\\x9f\\xf3\\xfc\\xaa)\\x14\\xf9\\x85\\xc18\\x1d?\\xef\\xa1\\xfe\\x14\\x01u8\\xfbC\\x13\\xca\\xa0l\\xfa\\x9e*\\x92\\x95\\xdf\\x1bs\\x82y\\xf6\\xe7\\xfc*BIr\\xa3\\xa7\\x96G\\xf25\\x1f\\x92\\xe2\\xd1\\x0e\\xd3\\xb9\\x9c\\x91\\xef\\xdb\\xfa\\xd0\\x04\\x8eT\\xac\\xc7\\xf8\\x93h\\x1f\\x8esN\\x84*\\xddY\\xe0u\\\\\\xb7\\xeb\\xff\\x00\\xd6\\xa0\\xc5\\x97\\x90\\xb08c\\xd7\\xde\\x9a\\x91\\xb2\\xcdo\\x90w\\x0cg\\xf0j\\x00\\x8dULW\\x0c@\\xe5\\x94}y4\\xed\\x80\\xc9\\n\\x1f\\xbb\\xb5z\\xd2\\xc7\\x1e\\xfby\\x02\\x8f\\xe2\\x04\\xfeU4P\\xb4\\x978\\xdb\\xc8\\x8f\\xfa\\x7f\\xf5\\xa8\\x02\\xa7\\x96>\\xca\\x18\\x81\\x81! zqR2\\x81vx\\x18d^\\xbf\\x8d C\\xe5\\xa22\\xe7\\xa9\\xeb\\xc7AO\\x99H\\xb8\\xe4\\xfc\\xc2?\\xe9\\x9f\\xe5@\\r;6\\xaa\\xf7\\xce~\\x9cS\\xcck\\xe7\\xca\\x8b\\xf7v\\x8e\\xff\\x00C\\xfc\\xaa8\\x93\\x11D\\xc7\\x93\\xbcn\\xfc\\xe9\\xe0ys\\xba\\xe7\\'\\x04\\xe7\\xf4\\xfeB\\x80!\\x99\\xb6\\xc5\\xb4t\\x07\\xb7N\\xbd?QLc\\xb5\\xa6PO\\x07==?\\xfa\\xf53B\\x18)9\\x00\\x90@\\xed\\xc0\\xeb\\xfe})\\xc9\\x0eZV\\'\\xe6*A>\\xe7\\xff\\x00\\xaf@\\x0c\\r\\xfe\\x90\\x9d~d\\xc7\\xf4\\xfeukI_5\\xf6\\x11\\xce\\xe3\\x8c\\xfeu\\x12\\xc3\\x87Q\\x9e\\x00\\'\\xe8?\\xfdu-\\x86c!\\xc0\\xc8`{\\xfbP\\x06\\xf3[\\xa0\\xb8\\xbaE\\x00\\x81\\x9c{\\xf4\\xa9\\xa2}\\xb0\\xdb\\xa8\\xce\\x19\\x98\\xfb\\x83\\x90?\\x905\\x99\\x15\\xf8\\xdf1\\x1f\\xc4\\xad\\x86\\xcf\\xb0?\\xca\\x90\\xdd\\x85\\x9e\\x05#\\x95\\xe4\\xfb\\x0c\\x83\\xfdM\\x00u\\xfa\\x04\\xaau\\xf8\\xcb\\x0eFT}0\\xdf\\xd2\\xbb}\\xeb\\x9foZ\\xf2\\x8d/Q\\x10k\\x81\\xc7\\xdd\\xde@\\xfc\\xf1\\xfc\\xab\\xb1\\xfe\\xd9fh\\xf7\\x13\\x92\\xc4c\\x1cv\\xff\\x00\\x1a\\x00\\xe9K\\x80\\x0f>\\xe6\\xa2\\xb9\\x91M\\xb3\\x8e\\xf8\\xfe\\xb5\\xce\\xbe\\xac\\xcc\\t\\xf9\\xb8\\x93\\x1f\\x87?\\xe1G\\xf6\\x89\\x9aa\\x1f<\\x84\\x03\\xdf\\x9c\\xff\\x00,P\\x07\\x15\\xe2\\xc1\\x96OL\\'\\xf2j*/\\x1a\\xb8TNy\\xcc\\x7f\\xc9\\xe8\\xa0\\x0f\\xa0\\xeb\\xe4r\\t\\xd4\\xae\\xf1\\xf7\\xbc\\xf1\\xfd+\\xeb|\\xf0k\\xe4\\xc4\\xc7\\xf6\\xbd\\xe1\\x03\\x8f<\\x7f!@\\x17\\xd1\\x88\\x17\\x18\\x1f\\xc3\\x91\\xefS\\x85\\xdbs\\x02\\xe0\\xe3o4\\x96\\xf0\\x86\\x82o\\xef)\\xfd?\\xc9\\xa9\\xf6\\xef\\x98d\\x1c\\xf9?/\\xd7m\\x00VO\\xf5/\\x9e>\\x7f\\xc8b\\x9d+\\x17\\xbb\\x8c\\x05\\xc6S\\x91\\xff\\x00\\x02\\xcdL\"Sk\\xf5l\\x13\\xedL\\x88o\\x9f{uE\\xda~\\xbb\\xbf\\xfdT\\x01\\x12\\x9d\\xed\\x1eG\\xb9\\xfa\\xee5$L@\\x93?x\\x90\\x0f\\xe7\\xff\\x00\\xd6\\xa24\\xc0P\\xa4\\x16\\'#\\xf2\\xc0\\xfdE\\x0c\\x00\\x91\\xca\\x9c\\x87\\x1c{d\\x10?\\x9d\\x007p\\xef\\xfc?\\xaf\\xf9\\xe3\\xf3\\xa7\\x8c\\x18\\xc1=9\\xfc\\xe9\\x0cx\\xd9\\xc7U\\xcf\\xfe:?\\xc2\\x9c\\xeb\\xb6\\x06\\xc6O\\\\{\\x90\\xdf\\xfdq@\\rL\\xc8$#\\xb2\\x9f\\xe9NW\\x1b\\xad\\x14\\x0eA$\\x8c\\xf4\\xe7\\x8a#\\x8ff\\xf4\\x19\\xc8P\\xa7\\xeb\\x9cSvm\\x8e9\\x07f\\xe7\\x9fC\\xc5\\x006g\\xc42&\\xd3\\x80w\\x1e}\\xaam\\xe4OlX\\x13\\x95\\xeb\\x9e\\x9cQ:|\\xd36>\\xf0\\x18\\xfc\\xff\\x00\\xc8\\xa6\\xa2\\xff\\x00\\xa4[\\x96\\xce\\x00\\xc7\\xe3\\x9a\\x00H\\x98\\xc5nNy\\x18\\xdc1\\xcdN%0L\\xcc\\x00\\xe5X\\x0cs\\xebL\\x0b\\xfb\\xb9\\xf3\\x8c\\x1cg\\xdb\\xaf\\xf8P\\xa8K\\xc2\\xad\\x8f\\xb8\\x0f\\x1d\\xce\\xc3\\xfe\\x14\\x00\\xd3&\\xc0\\xb2`\\xe0;g\\xf3\\x1f\\xe1I1\\x06\\xe5\\xdb\\xb2\\xaa\\x8e\\xbfA\\xfdi\\x18\\x00\\x8c\\xbf{k\\x13\\x9f^)\\xf7\\x0b\\x9b\\xb9\\x95\\x00 \\x83\\x8f\\xa6E\\x00D\\xa3l*\\xa7\\xa9#\\xbf\\xb59\\xbewy3\\xcb\\x02\\x00\\x1fJpR!V\\xe0\\xe1\\xbf\\x9d*\\xae\\xd9f\\\\\\x0e\\x0f\\xf44\\x01\\x11b\\x16\\x1e\\xa7\\xe5\\xfd3\\xff\\x00\\xeb\\xa5Wb\\' {\\xd5\\x94\\x88\\x18\\x93#\\x95\\\\f\\xa0\\x8b\\x1eC\\xf1\\xc3\\x1c\\x1eh\\x01\\x91\\x96\\x0f\\x1b\\x05\\xcf\\xcaG\\xd7\\xfc\\x9ar\\xb9P\\xcb\\xd8\\x16\\xfd*@U%^\\x07\\xcb\\xcf\\x15\\x14\\x89\\xb6&`\\x00$\\xe3\\x1e\\xfc\\xff\\x00\\x85\\x007$\\\\\\xca\\xaaq\\x8e\\x9f\\x90\\x1f\\xc8\\xd0\\xd2`\\xc1\\xcf\\xa8\\'\\xf1\\x03\\xfaT\\x8e\\xb9\\x95FTnA\\x9f\\xd3\\xfc)\\x8c0@\\x1bxc\\x8c\\xff\\x00\\x9fj\\x00\\x96\\xd1\\x88\\xb9$\\xb1\\xdc\\xa4\\x93\\xf9\\x1c\\xff\\x00*\\xe9\\xfe\\xd3\\xc9\\xe4\\xe4\\xb1\\xfc:W9\\x00\\x06\\xe6P\\x07$\\x7fS\\x9f\\xe7Z\\x80\\x90\\xa9(\\x03k7\\x07\\xdf\\x81\\xfc\\xe8\\x03@\\xdd7\\x94\\xee\\x0fI\\x06y\\xf65f\\xce}\\xfa\\x9cjO\\xdd*? \\x07\\xf4\\xac\\x949\\xb4m\\xaax\\x93\\x07\\'\\xd1\\xbf\\xfa\\xd5{H\\x1b\\xefRC\\xc6\\xe8\\xd5\\x87\\xe2G\\xf8P\\x05\\x0f\\x18\\xae\\xe0\\x80\\xfa\\xc7\\xdb\\xfd\\x96\\xa2\\x9d\\xe2\\xf1\\x90\\xbc\\x9e\\xb1\\xff\\x00\\xe8&\\x8a\\x00\\xf7\\xc3\\xf7O\\xd2\\xbeH\\x86E\\x93Q\\xbb\\x08z\\xcb\\xc1\\xf5\\xe0W\\xd6\\xce@F\\'\\xa0\\x15\\xf1\\xe5\\xa6\\xa5\\x03]\\xcb\":\\xe5\\xa4]\\xaa\\x0f\\xae=\\xa8\\x03\\xa8\\x84\\xe1\\'\\xed\\xc6?\\x1e)\\xe0\\xb24g$lA\\xfdO\\xf5\\x15B+\\xc1\\xbe\\xe0\\x0c`\\xe0\\x8eO\\xa8>\\x94\\xf1\\xa8\\x03$d\\x80I\\x8f\\x18\\xc9\\xf4\\xfa}(\\x01n.\\x85\\x9d\\x9cj\\xea\\xe43\\x90\\x02\\x0c\\x9e\\xdf\\xe3U\\xd3X\\xb7>i\\x11\\\\\\r\\xc7\\xfb\\x99\\xe7w\\xd7\\xe9U\\xb5\\x0b\\xaf\\xf4hT\\xf2C\\x93\\x9c\\x9c\\xff\\x00/j\\xa1\\x0c\\xf8f\\x00s\\x9f_z\\x00\\xd9mj\\xddV\\x12#\\xb8\\xe0`\\xfc\\x9d:\\x91@\\xd6-\\xf61+8`F>OJ\\xc4i\\xf2\\xbd8c\\x81\\xcf\\xd6\\x9e\\xd7 \\x86\\xfa\\xfa\\xd0\\x06\\xcakV\\xden\\xdf.|c\\x19\\xd9\\xfe\\xcf\\xd6\\xb4YO\\xd9\\xc3\\x9c\\xf0\\xc7\\x9c\\xfa\\x8f\\xfe\\xb0\\xaeP\\xdc\\x8f1\\xbe_^\\xff\\x00\\xec\\xd7A%\\xf8\\x10\\x81\\xb7\\xe5-\\x8e\\xa3\\xaeO\\xb7\\xbd\\x00\\\\#k\\xca\\t8$\\x1f\\xd74\\x8d\\x1f\\xc8\\xa7\\xb3\\xb0\\xc7\\xe7U\\x1fQF-\\x94\\xe9\\x8f\\xe2\\x1e\\xf4\\xc3\\xaa)\\x86\\x15\\xdar\\xa7\\x1d\\x7f\\x1a\\x00\\xbf\"\\x12\\xf2\\xe0\\xe0 \\xdb\\xd7\\xbfo\\xd6\\x964o:\\x15\\x07\\xe6\\'x\\x06\\xaa5\\xf2\\x1f\\xb5\\xf00\\xd8#\\x9e\\x989\\xa7C\\xa9F.,\\xa4\\xea\\xa1pp\\x7f\\x0f\\xe7@\\x16\\x9c|\\xd7J:\\x01\\xcf\\xe7D\\x07\\xf7\\x96\\xc7\\x1c\\x05\\xe0\\x13\\xe9\\x9f\\xfe\\xbf\\xe5T>\\xde\\xa9\\xe7\\x8ewI\\xd0~5(\\xbcH%\\x83\\xae#\\x07$\\x8f\\\\\\xff\\x00\\x8d\\x00I\\x8c\\xc3p\\xcb\\x8c\\x19\\x14/\\xe6\\x7f\\xc6\\xa6\\xb7P\\xf2e\\xb9\\xdc\\xa0\\x1f~EP\\x17\\x8b\\xf6\\x02\\x17\\xac\\x8f\\x9e\\xbd:T\\x91\\xea\\t\\x1d\\xc4\\xaa9\\xf9zg\\xdcP\\x05\\xa4>b\\xaas\\xce?<S\\xe2\\n\\xdb\\x89\\x19#\\x1b\\xb9\\xeb\\x81\\xff\\x00\\xd7\\xac\\xe4\\xbdTx\\xbag#\\'\\x9e\\xc7\\xe9O\\x8a\\xfdUe;s\\xd3\\x80}\\xe8\\x02\\xea0H\\xee\\x99\\xc8\\xd8\\x99s\\xec6\\x9f\\xf0\\xac\\x84\\xd5\\xec\\xf6\\xb4{\\xdc\\x01\\xdfo\\x1d1J\\xfa\\xaa\\xc7g(\\xd8\\x0f\\x98\\xa7\\xbf\\xa8\\xc5a\\xad\\xef\\xcb \\xdb\\xc1\\xf7\\xa0\\r\\xc3\\xaa\\xda3\\x8c\\xb3\\xfa\\x9f\\x90\\xfaT\\x8d\\xacY\\xb4D\\x9f4\\r\\xd9\\xc1Ns\\x9f\\xfe\\xbda%\\xdeYN\\x01\\xc2\\xe3\\x83\\xedB\\xdd\\x83jP\\x8cs\\xc7>\\xff\\x00J\\x00\\xd9mj\\xd1$\\xdcRb1\\xfd\\xca\\xb5\\x05\\xc4wp4\\xf1)\\xdb\\xb8.\\x18`\\x82?\\xfdu\\xcd=\\xc1i\\x0f\\x07\\x81\\xeb\\xff\\x00\\xd6\\xadM>\\xf8\\x7ff\\x800H\\x94\\xf7=0=\\xa8\\x03~\\xdcys\\xcaO\\xdeE\\'\\xf2\\xebV\\x85\\xc6t\\xb8\\x06\\x06C\\x9e=\\xf2+\\x1a\\xde\\xff\\x00\\xf7\\xf3\\xa6\\x06\\xe6\\x89\\xbb\\x9fB\\x0foSD\\x9a\\xa3-\\xb4@av\\xb9s\\x93\\xdb\\x83\\xe9@\\x1bb\\xec}\\x82R\\xa0\\x052\\x16\\x19\\xf4\\xdc\\xc7\\xf9V\\xc6\\x96\\xe7\\xfbF$\\xf9@\\xf2\\x94\\xfe \\xf3\\xfdk\\x8d\\x1a\\x91\\xfb;F\\x00\\x18+\\x8eO\\xa6=+[O\\xd7\\xad\\xed\\xae`2\\xcb\\x1f;A\\xcex\\xe7\\x07\\xb5\\x00^\\xf1\\x83\\xaa\\xaa\\x12{\\xc7\\xff\\x00\\xa0\\x1a+\\x17\\xc5^#\\xb1\\x9d\\x8cI\"\\xb6\\xc6NW\\x8c\\xfc\\x9e\\x87\\xebE\\x00})\"\\xef\\x85\\xd4u*@\\xfc\\xab\\xe2\\xad\\x1e\\xde\\xe1\\xaec\\x8cZ\\x1f\\x95\\xa3%\\x88\\xfb\\xa0\\x11\\x93^\\xc5\\x7f\\xf1O\\xc6\\x9ab\\xdb5\\xcc\\xba&\\'\\x90\\xa0T\\x85\\xcb\\x0c6\\xdc\\xe0?\\xe3\\xce+\\xc9\\xf4\\xcb\\xcb\\xf3\\xac\\xcb\\x04&\\xddd\\x91\\xdd\\x0e\\xe0q\\x91\\x93\\xeb@\\x1d<\\x16\\x92+L\\xdbx\\x03\\x1dO\\xb7\\xf8\\xd4RB\\xf1jv\\x11\\x94\\xcbI\\x1b\\xe3\\x19\\xc7\\x07\\x14\\xef\\xf8\\x9fG\\x05\\xc4\\x86K\\x1c\\x05,G\\x96\\xf9\\xf5\\xfe\\x95R\\xf5\\xb5\\xa1\\x7f\\xa4\\xbb\\x9b-\\xd9e\\x88\\xaa\\xbe9\\xc1\\xe7\\xd7\\xd7\\x8a\\x00\\xaf\\xe2\\t\\x1e\\xca\\xd2\\t\\x04%\\xfc\\xc9\\x19F\\t\\x1e\\x9f\\xe3Y\\xda\\'\\xda5\\x17\\x95\"\\x85\\x17\\xca\\x19%\\xdb\\x83\\x9c\\xfbU\\x9f\\x12\\xc9\\xa9\\xc3\\x05\\xb2\\xdd\\x1b@\\xa1\\xd8\\x0f,?\\x07\\x03\\xda\\xa8xr\\xfa\\xea\\x19\\xae\\x96\\x16\\xb6\\xf9\\xf1\\x9f5\\\\\\xf7=6\\x8a\\x00\\xd2\\xbb\\xd3/-\\xe2\\xb7,!\\x00\\xca\\x14a\\xcfr}\\xaa\\xc3h\\xb7\\xca\\xec\\x85`\\xce\\x7f\\xbe\\x7f\\xc2\\xa1\\xd5u+\\xe9,G\\x99-\\x89Tua\\xe5\\x897\\x03\\x9f\\xa5^m[Qy7\\xf9\\xbai-\\xcf\\xde\\x7f\\xaf\\xa5\\x00rQ\\xea\\xb2y\\xce\\xcdj\\xc78\\xc8\\xcfN1]~\\xad\\x1f\\xd9\\xec<\\xd6F\\n\\xb2g#\\xd75\\xc2%\\xd4\\x8b+0h\\xf2W\\xde\\xbbmg\\xfb`\\xe8\\xd7\\x06hl\\x84Jw\\x1f-\\x98\\x9f\\xc3\\x8a\\x00\\xa9\\xf6\\x98\\x04\\xb2\\xe01\\x07?\\xc1\\xf5\\xff\\x00\\x1a\\x88\\\\!\\x9e\\xddDo\\xfe\\xb3\\x1c\\xa9\\xf4\\xa7\\tu=\\xdb\\xc4v\\xc3#?x\\xfa}*\\xbd\\xd3\\xea\\x0bl\\x19\\xe3\\xb7\\n$\\x04a\\x9b \\xf0\\x07j\\x00\\xe9d\\xb6qk{\\x88\\xcev\\x1c~uKG\\x8c\\xdcA\\tT$q\\x8c}sW\\xd5\\xf5\\xb6\\xdf\\xfe\\x8d`C\\xaeO\\xef\\x0fC\\xff\\x00\\x01\\xac\\x7f\\x0f\\xcb\\xaa\\x0b@\\xb6\\xf0Z\\xb8B\\x07\\xce\\xe4\\x1f\\xe5\\xech\\x02\\xd3\\xc3\\x8b\\xe8\\x90\\xa9\\xdc\\xe9\\xeb\\xc5[\\xbb\\x84\\xb0\\xb8!\\x0f\\xfa\\x86o\\xfcw?\\xca\\xa9\\xdd\\x9dY5K&k{@\\xcd\\xbdTy\\x87\\x1d\\x07\\x07\\x8a\\xb9\\x8dm\\xc9\\x1ff\\xb2\\xf9\\xd4\\xaf\\xfa\\xc6\\xe8F?\\xbb\\xe9@\\x11\\xc1\\x11\\x93O\\xb5p\\xa7\\x9e\\x7f\\x95#\\xc2c\\xd7%\\x8bi\\xcf\\x93\\x91\\xe9\\xd6\\xa0\\xd2\\xa4\\xd6$\\xd1\\xe0\\xf2\\xad\\xed\\x0ck\\x90\\x0b9\\x07#\\xf0\\xaa\\x9a\\xce\\xa3\\xa9i\\x9a\\x9d\\xb5\\xcd\\xc5\\xb5\\xb6\\xe9#dP\\x8cH c9\\xe3\\xdcP\\x06\\x95\\xdc\\x0c\\x96\\xd2\\xbe\\xc3\\x84F=}9?\\xce\\x9fk\\t\\x92\\xd5\\xe4\\x0b\\xc6\\xd0sY\\xf6\\x9a\\xae\\xa5\\xad\\xc3u\\x14V\\xb6\\xc0\\x04*\\xdb\\x9c\\x8f\\xbd\\x9e\\x9c}*}&m^].\\x16\\x86\\xde\\xd1\\xa3e\\xc0-!\\x07\\x83\\xdf\\x8e(\\x03&\\xf2\\xe1\"\\xb7\\xb8\\x1b\\x1ftlW\\x18\\xee1X\\x8b\\xa9\\x8d\\xc4\\x18\\x1b\\x9f\\x7f\\xfe\\xb5jj2\\xdf\\xc7\\x1e\\xa5\\x1b\\xc7\\x02\\x8d\\xfb\\x9c\\xa3\\x1e\\xf8\\xe9\\xc75\\x81\\x0c\\xf3\\x0b\\x88\\xf9NXu\\xa0\\rkK\\xe3\\xb4~\\xe5\\xdb\\x9e\\xd9\\xff\\x00\\n\\x1e\\xf4\\x83\\x1e-\\xdf\\xef\\xe3\\x19<\\x9fN\\x956\\x9bwr\\xbej\\xc7\\xf6n\\x1b\\xf8\\xa4#\\xaf<qU[S\\xbbf\\x8a\\xdd\\xfc\\x82a\\x91H,y\\'\\x9f\\xf1\\xa0\\t\\x1fTxfQ\\xf6F\\xc9\\x1c\\xe5\\x8f\\xb8\\xf4\\xad\\x7f\\x0c\\x13w\\xa4\\xcc\\xc19Y\\xf6\\xf5=\\xd4\\x7f\\x80\\xac=R\\xea\\xec_\\r\\xcf\\x00`\\x80|\\x8d\\x91\\xde\\xb4\\xbc-s\\xa8\\xa5\\xbd\\xccv\\xb0C*\\x97\\xdc\\xdb\\xd8\\x8c\\x11\\x8e\\x7fZ\\x00\\xe9b\\x89\\xd3\\xc4\\x8b\\t\\x00\\xee\\xb7\\xcf\\x04\\xf3\\xdc\\xfe\\xb5\\x1e\\xa7\\x01\\x86\\xc2F\\xda\\xa7i\\x07\\x83\\x9e7-R\\x96\\xf3X\\x8b_\\xb2\\x98\\xd9\\xdb\\x89\\x9e\\'D\\x01\\x8e\\x18`{{\\x8af\\xb7s\\xad\\xc9\\xa7<\\xafk\\x14h\\xa9\\xf3ll\\x9cc\\xae1\\xdb\\x14\\x01\\xad\\r\\xa3\\xcb\\x1eF>d\\r\\xf7\\x8dc\\xfc\\xf2HJda\\xdb\\xbfO\\x98\\xff\\x00\\x85;J\\xd7\\xb59\\xe0\\x8c\\xad\\xbd\\xab\\x85\\x84\\x90~n\\x00\\xe3\\x9c\\x03X\\x8b\\xadN\\xce\\xdb\"\\x87.\\xe4\\x0e[\\x8f\\xd3\\xde\\x805\\xaf\\x1e\\xe2\\td\\x90X,\\xf1\\xb9\\\\1?\\xec\\x8foj*\\x9c\\xf7\\xf7\\xefn\\xb1\\x98`\\xc6A\\xceX\\x9e\\x06=(\\xa0\\n\\xfa\\x94\\x97\\x105\\xac\\xe2\\xeaV\\x95\\xae\\x1b\\xe6`\\xa4\\x83\\xbb\\xafN\\xb5gJ\\xb6v\\xf3.\\x16\\xeaX\\xe5I\\x0b\\x06@\\x9dH\\\\\\xff\\x00\\x0f\\xb9\\xa2\\x8a\\x00\\xe8X]\\x7ff\\xe3\\xed\\xd2m0\\x9c\\xaf\\x93\\x0e:\\x7f\\xb9P]\\xf9\\xf2G\\xa6\\x99.KbD+\\x98!\\x1b~R;\\'\\xbfz(\\xa0\\x0co\\x19K<\\x96\\xf6k,\\xdb\\xc6\\xf6#\\xf7Q\\xae8\\x1f\\xddQX\\x9a\\x1c\\xd2E%\\xc9\\x8d\\x80;Fr\\xa1\\xb3\\xcf\\xb84Q@\\x1aW\\x97S\\xcbj\\xf1\\xbb\\x86R\\x0f\\x1b\\x17\\xfc(\\x1a\\x9d\\xca(P\\xc9\\x808\\xf9\\x07\\xa5\\x14P\\x07,\\x1b\\xda\\xbbmC\\xc4\\x97\\xd7\\x1a|\\xb1H\\xb0\\x15\\x92?\\x9b\\xf7tQ@\\x11\\xdb\\xea\\xee-`\\x1fe\\xb79\\x8crCg\\xa7\\xd6\\xa3\\xbb\\xd5\\x9eK9P\\xda\\xdb\\xa8)\\xbb*\\x1b9\\x18>\\xbe\\xb4Q@\\x17\\x93\\xc5\\xda\\x8c\\x7f\"\\xa5\\xbe\\x14\\x00>C\\xd3\\xf3\\xaa\\xb6>!\\xbb\\xb2G\\xf2c\\xb7\\xf9\\xe5l\\x92\\x99\\xfe/\\xaf\\xb9\\xa2\\x8a\\x00}\\xcf\\x89on&\\xb6w\\x8e\\xdf1H\\x19p\\x9d\\xf0z\\xf3V\\x07\\x8bu\\x10T\\x88\\xedy\\xeb\\xfb\\xaa(\\xa0\\x08t\\xff\\x00\\x11^\\xdaZ\\xf9Q%\\xb8R\\xcc\\x7f\\xd5\\x0fZ\\xcc\\xd7\\xb5k\\x9dVk_\\xb4\\x08\\x87\\x94\\x1fn\\xc4\\x03\\xae:\\xfeTQ@\\x0e\\xd0u{\\x9d.i\\x84\\x0b\\t\\xf3\\x00\\xdd\\xe6F\\x0fL\\xf4\\xab\\xf6\\x1e%\\xbd\\xb1\\xb2X!\\x8a\\xd7b\\x93\\x8d\\xd1\\x02h\\xa2\\x80(\\xea\\x1a\\xc4\\xd7_\\xda\\x0f,6\\xc5\\xe7\\x8c\\x06a\\x10\\x18\\xc7\\xa7\\xa5s\\xb6\\xf2\\x14\\xb9\\x89\\xf6\\xa9!\\x87\\x04ph\\xa2\\x804c\\xd5$\\x86Y\\x9d \\x80\\x16\\xc7\\x1b8\\x1cv\\xe6\\xaaKy$\\xf2\\x06uL\\x82\\x06B\\xd1E\\x00\\x17\\xf7Ouq\\xe6:\\xa2\\x9d\\xa3\\xee\\x0c\\x0e\\xf5\\xa3\\xa3\\xeb\\x13i\\x90\\xca\\xb0\\xdb\\xdb9\\xdcN\\xe9c\\xdc~\\x9fN(\\xa2\\x80-M\\xe2k\\x99\\xee\\xed\\xe5{K-\\xd0;\\x15\\xc4G\\x9c\\x8es\\xcf\\xb5:\\xe7\\xc5\\xb7\\x93[<f\\xce\\xc0+\\xab+m\\x84\\xf4 \\xfb\\xd1E\\x00gi\\xda\\xbc\\xd62\\xef\\x8a\\x18\\x1b\\x10\\x95\\xc3\\xa1`r{\\xf3\\xd6\\xa0\\x92\\xfd\\xa6\\x95K\\xc3\\x06\\xe3);\\x82`\\xf6\\xe2\\x8a(\\x02h\\xb5y\\xa0P\\xb1\\xc1n2Nr\\x99\\xec=\\xe8\\xa2\\x8a\\x00\\xff\\xd9',\n",
       "   'contentType': '',\n",
       "   'datacriacao': '2019-05-31T02:55:50.300000+00:00',\n",
       "   'datamodificacao': '2019-05-31T02:55:50.300000+00:00',\n",
       "   'nomearquivo': '5c644671e450c223d1750e50.jpg'}],\n",
       " 'capturaautomatica': True,\n",
       " 'dataevento': '2019-05-28T12:18:41.204Z',\n",
       " 'dataregistro': '2019-05-28T12:18:41.204Z',\n",
       " 'documentotransporte': '150',\n",
       " 'identificadores': [{'identificador': 'string'}],\n",
       " 'numero': 'TESTE12341',\n",
       " 'operadorevento': 'string',\n",
       " 'operadorregistro': 'string',\n",
       " 'placa': 'TST1234',\n",
       " 'placasemireboque': 'TST5678',\n",
       " 'retificador': False,\n",
       " 'tipodocumentotransporte': 'CE'}"
      ]
     },
     "execution_count": 6,
     "metadata": {},
     "output_type": "execute_result"
    }
   ],
   "source": [
    "inspecoes_bson[0]"
   ]
  },
  {
   "cell_type": "markdown",
   "metadata": {},
   "source": [
    "## Teste de tamanho de arquivos com anexos json, bson e gzip"
   ]
  },
  {
   "cell_type": "code",
   "execution_count": 7,
   "metadata": {},
   "outputs": [],
   "source": [
    "def tofile(lista, newfilename, zipped=False):\n",
    "    \"\"\"Salva instância em arquivo (padrão BSON).\"\"\"\n",
    "    with open(newfilename, 'wb') as f:\n",
    "        payload = bson.BSON.encode(lista)\n",
    "        if zipped:\n",
    "            payload = gzip.compress(payload)\n",
    "        f.write(payload)\n",
    "\n",
    "json_pesagens = {'InspecaonaoInvasiva': inspecoes}\n",
    "\n",
    "with open('testimg.json', 'w', encoding='utf-8', newline='') as json_out:\n",
    "    json.dump(json_pesagens, json_out)\n",
    "size_json = os.path.getsize('testimg.json')\n",
    "\n",
    "with open('testimg.json.gzip', 'wb') as json_out:\n",
    "    payload = json.dumps(json_pesagens)\n",
    "    payload = gzip.compress(payload.encode('utf-8'))\n",
    "    json_out.write(payload)\n",
    "size_jsongzip = os.path.getsize('testimg.json.gzip')\n",
    "\n",
    "bson_pesagens = {'InspecaonaoInvasiva': inspecoes_bson}\n",
    "tofile(bson_pesagens, 'testimg.bson')\n",
    "size_bson = os.path.getsize('testimg.bson')\n",
    "\n",
    "tofile(bson_pesagens, 'testimg.bson.gzip', zipped=True)\n",
    "size_bsongzip = os.path.getsize('testimg.bson.gzip')\n"
   ]
  },
  {
   "cell_type": "code",
   "execution_count": 8,
   "metadata": {},
   "outputs": [
    {
     "name": "stdout",
     "output_type": "stream",
     "text": [
      "size_json: 621115, 100%\n",
      "size_json_gzip: 447984, 72% \n",
      "size_bson: 469165, 75% \n",
      "size_bson_gzip: 440369, 70% \n",
      "original_size: 454993, 73% \n"
     ]
    }
   ],
   "source": [
    "print('size_json: %d, %d%s' % (size_json, (size_json/size_json)*100, '%'))\n",
    "print('size_json_gzip: %d, %d%s ' % (size_jsongzip, (size_jsongzip/size_json)*100, '%'))\n",
    "print('size_bson: %d, %d%s ' % (size_bson, (size_bson/size_json)*100, '%'))\n",
    "print('size_bson_gzip: %d, %d%s ' % (size_bsongzip, (size_bsongzip/size_json)*100, '%'))\n",
    "\n",
    "original_size = 0\n",
    "for image in os.listdir('images'):\n",
    "    original_size+=os.path.getsize(os.path.join('images', image))\n",
    "    \n",
    "print('original_size: %d, %d%s ' % (original_size, (original_size/size_json)*100, '%'))"
   ]
  },
  {
   "cell_type": "code",
   "execution_count": 113,
   "metadata": {},
   "outputs": [
    {
     "name": "stdout",
     "output_type": "stream",
     "text": [
      "201\n",
      "{\n",
      "  \"detail\": 3097152987105035089,\n",
      "  \"status\": 201,\n",
      "  \"title\": \"Evento incluido\"\n",
      "}\n",
      "\n",
      "201\n",
      "{\n",
      "  \"detail\": 568090703681302907,\n",
      "  \"status\": 201,\n",
      "  \"title\": \"Evento incluido\"\n",
      "}\n",
      "\n",
      "201\n",
      "{\n",
      "  \"detail\": -2728464226923517659,\n",
      "  \"status\": 201,\n",
      "  \"title\": \"Evento incluido\"\n",
      "}\n",
      "\n",
      "201\n",
      "{\n",
      "  \"detail\": -7644640479687657543,\n",
      "  \"status\": 201,\n",
      "  \"title\": \"Evento incluido\"\n",
      "}\n",
      "\n",
      "201\n",
      "{\n",
      "  \"detail\": -6384263318825341060,\n",
      "  \"status\": 201,\n",
      "  \"title\": \"Evento incluido\"\n",
      "}\n",
      "\n",
      "201\n",
      "{\n",
      "  \"detail\": -2111474101726616389,\n",
      "  \"status\": 201,\n",
      "  \"title\": \"Evento incluido\"\n",
      "}\n",
      "\n",
      "201\n",
      "{\n",
      "  \"detail\": -3065263404423849004,\n",
      "  \"status\": 201,\n",
      "  \"title\": \"Evento incluido\"\n",
      "}\n",
      "\n",
      "201\n",
      "{\n",
      "  \"detail\": 5432810548269075091,\n",
      "  \"status\": 201,\n",
      "  \"title\": \"Evento incluido\"\n",
      "}\n",
      "\n",
      "201\n",
      "{\n",
      "  \"detail\": 1886763633931484098,\n",
      "  \"status\": 201,\n",
      "  \"title\": \"Evento incluido\"\n",
      "}\n",
      "\n",
      "201\n",
      "{\n",
      "  \"detail\": -6759729684517352706,\n",
      "  \"status\": 201,\n",
      "  \"title\": \"Evento incluido\"\n",
      "}\n",
      "\n",
      "201\n",
      "{\n",
      "  \"detail\": -2799894787254950503,\n",
      "  \"status\": 201,\n",
      "  \"title\": \"Evento incluido\"\n",
      "}\n",
      "\n",
      "201\n",
      "{\n",
      "  \"detail\": 8898006775084581293,\n",
      "  \"status\": 201,\n",
      "  \"title\": \"Evento incluido\"\n",
      "}\n",
      "\n",
      "201\n",
      "{\n",
      "  \"detail\": -131649058546870044,\n",
      "  \"status\": 201,\n",
      "  \"title\": \"Evento incluido\"\n",
      "}\n",
      "\n",
      "201\n",
      "{\n",
      "  \"detail\": -5252498810028018185,\n",
      "  \"status\": 201,\n",
      "  \"title\": \"Evento incluido\"\n",
      "}\n",
      "\n",
      "201\n",
      "{\n",
      "  \"detail\": 475093815823679036,\n",
      "  \"status\": 201,\n",
      "  \"title\": \"Evento incluido\"\n",
      "}\n",
      "\n",
      "201\n",
      "{\n",
      "  \"detail\": -1615797770734909086,\n",
      "  \"status\": 201,\n",
      "  \"title\": \"Evento incluido\"\n",
      "}\n",
      "\n",
      "201\n",
      "{\n",
      "  \"detail\": -1328464281499893450,\n",
      "  \"status\": 201,\n",
      "  \"title\": \"Evento incluido\"\n",
      "}\n",
      "\n",
      "201\n",
      "{\n",
      "  \"detail\": -6604760889999397314,\n",
      "  \"status\": 201,\n",
      "  \"title\": \"Evento incluido\"\n",
      "}\n",
      "\n",
      "201\n",
      "{\n",
      "  \"detail\": -8243142388595457202,\n",
      "  \"status\": 201,\n",
      "  \"title\": \"Evento incluido\"\n",
      "}\n",
      "\n",
      "201\n",
      "{\n",
      "  \"detail\": 6119576520570525707,\n",
      "  \"status\": 201,\n",
      "  \"title\": \"Evento incluido\"\n",
      "}\n",
      "\n",
      "201\n",
      "{\n",
      "  \"detail\": -7983457218728689079,\n",
      "  \"status\": 201,\n",
      "  \"title\": \"Evento incluido\"\n",
      "}\n",
      "\n",
      "201\n",
      "{\n",
      "  \"detail\": -2108143555461697299,\n",
      "  \"status\": 201,\n",
      "  \"title\": \"Evento incluido\"\n",
      "}\n",
      "\n",
      "201\n",
      "{\n",
      "  \"detail\": 339696421897011284,\n",
      "  \"status\": 201,\n",
      "  \"title\": \"Evento incluido\"\n",
      "}\n",
      "\n",
      "201\n",
      "{\n",
      "  \"detail\": 4877387251703993120,\n",
      "  \"status\": 201,\n",
      "  \"title\": \"Evento incluido\"\n",
      "}\n",
      "\n"
     ]
    }
   ],
   "source": [
    "for inspecao in inspecoes:\n",
    "    r = requests.post(HOME + 'inspecaonaoinvasiva')\n",
    "    print(r.status_code)\n",
    "    print(r.text)"
   ]
  },
  {
   "cell_type": "code",
   "execution_count": 115,
   "metadata": {},
   "outputs": [
    {
     "name": "stdout",
     "output_type": "stream",
     "text": [
      "200\n",
      "{'dataevento': '2019-05-28T12:18:41.204000+00:00', 'tipodocumentotransporte': 'CE', 'time_created': '2019-06-02T00:40:37+00:00', 'ID': 1, 'anexos': [{'datamodificacao': '2019-05-31T02:55:50.300000+00:00', 'content': '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', 'nomearquivo': '5c644671e450c223d1750e50.jpg', 'contentType': 'image/jpeg', 'datacriacao': '2019-05-31T02:55:50.300000+00:00'}], 'operadorevento': 'string', 'recinto': '00001', 'placasemireboque': 'TST5678', 'dataregistro': '2019-05-28T12:18:41.204000+00:00', 'hash': 3097152987105035089, 'capturaautomatica': True, 'IDEvento': 1, 'retificador': False, 'documentotransporte': '150', 'numero': 'TESTE12341', 'operadorregistro': 'string', 'identificadores': [{'identificador': 'string'}], 'request_IP': '127.0.0.1', 'nomearquivo': None, 'placa': 'TST1234'}\n"
     ]
    }
   ],
   "source": [
    "r = requests.get(HOME + 'inspecaonaoinvasiva/1',\n",
    "              json=inspecao)\n",
    "print(r.status_code)\n",
    "print(r.json())"
   ]
  },
  {
   "cell_type": "code",
   "execution_count": 132,
   "metadata": {},
   "outputs": [
    {
     "ename": "AssertionError",
     "evalue": "Mismatched values: 'content', expected: '/9j/4AAQSkZJRgABAQAAAQABAAD/2wBDAAgGBgcGBQgHBwcJCQgKDBQNDAsLDBkSEw8UHRofHh0aHBwgJC4nICIsIxwcKDcpLDAxNDQ0Hyc5PTgyPC4zNDL/2wBDAQkJCQwLDBgNDRgyIRwhMjIyMjIyMjIyMjIyMjIyMjIyMjIyMjIyMjIyMjIyMjIyMjIyMjIyMjIyMjIyMjIyMjL/wAARCACEAPYDASIAAhEBAxEB/8QAHwAAAQUBAQEBAQEAAAAAAAAAAAECAwQFBgcICQoL/8QAtRAAAgEDAwIEAwUFBAQAAAF9AQIDAAQRBRIhMUEGE1FhByJxFDKBkaEII0KxwRVS0fAkM2JyggkKFhcYGRolJicoKSo0NTY3ODk6Q0RFRkdISUpTVFVWV1hZWmNkZWZnaGlqc3R1dnd4eXqDhIWGh4iJipKTlJWWl5iZmqKjpKWmp6ipqrKztLW2t7i5usLDxMXGx8jJytLT1NXW19jZ2uHi4+Tl5ufo6erx8vP09fb3+Pn6/8QAHwEAAwEBAQEBAQEBAQAAAAAAAAECAwQFBgcICQoL/8QAtREAAgECBAQDBAcFBAQAAQJ3AAECAxEEBSExBhJBUQdhcRMiMoEIFEKRobHBCSMzUvAVYnLRChYkNOEl8RcYGRomJygpKjU2Nzg5OkNERUZHSElKU1RVVldYWVpjZGVmZ2hpanN0dXZ3eHl6goOEhYaHiImKkpOUlZaXmJmaoqOkpaanqKmqsrO0tba3uLm6wsPExcbHyMnK0tPU1dbX2Nna4uPk5ebn6Onq8vP09fb3+Pn6/9oADAMBAAIRAxEAPwD36vnC9t9WiuNSsoIYmt5LuaRmMERYZd/4iu7ofWvo+vFtPP7/AFdiFLG4cbup74/nQBdtbeaSSJxcTqS3JAH+Fb9vYI8OWmnJ56sM8Z9vaordv9Hj4HStCzObbPfc386AK/8AZiIvzTSs3rxUh02E8+ZNn/eH+FXTznPpRk4PHagCjJpkbjCyyqR0OQacumRbQDLMSB13D/Crobn8KVW9u1AFMaZBkfPNz/tD/CmNpUbFSJpgMcjI5/StANyvTpQG4HTpQBR/syBgoLS/mP8ACl/s2DGN83/fVXc/dpN386AKA0qEPuMkpXspbp/n/GnnTLY9n6/3quhuB9aQvjtQBU/sy2xjD4/3zTY9JtowwPmPz3c9KtNOF4OOv9P/AK9BmC7uRweQPw/xoAr/ANm2uG+Rv+/jf40p061yR5bdP77f41MJgVJ4wak3ZyeORxQBXXTrRWIEOBj+8f8AGmLptosm8RHJHTccdvf2q5uGSfagMOOnSgCsLC0yP3A6epo+wWoAxCP1qyXC7Se/FN8wYoArR6baR/dhHJ7kmn/YrXr9nTOfepywGMjvSCQEkd91AFaSwtGBU26YPtQljaoCBAnHtVljz+VJuxu4oAr/AGO2wf3Eef8AdpGsbWRWV4EIx3HNWc4B+lKT8x+lAFU2luG4gjAx02DFY2o6dEUmEMManJPT2ros/wAqyrxiDccfwn/0H/69AHk3ijSGlvLdgUjPlsD8nX5z/jRWx4on8u4tWAzlG6/7xooA9/rwvS7oNc6ug4/0lh9Cf/117pXztps2b3UQh4a5P9KAO8guR9nQ+3rWhb3KR2bncc7jx3rlYJX+xgZ5+XH5VeilkZCvONxJI64xmgDpkuQxUc/OP6UG7UbhjJG0fmcVixTtutmw3/LT8eOKTz90Rbjc0sW3HUgNz/OgDdE4+0JH3YHH+fxp0swiKA/xA4rGW5/4mEcvPlqjZPoQRTtZuyiwFT3IP+fxoA0vtYGMdAOfyoF0N6pjgr/j/hXPrcEvOhY+3PuKcLpvOtY884wefc0Aba3e6EPyMEk037aTsx1LYxn3NYkN0zWMwJ4zgEHkZz/jVKO6ZEjbectICOfc0AdT9t4fkYU+tMF9tB38HbuIz7VzZvGCTMWOBgdfcf4ikjnMkoBYkkkZJ+g/maANc34e4mOfkyo/qf6flStf/LIpJxjr3yMVlGdRalieI5OSO4Jyf5U8TArIMqfmOT6cj/CgDRub/wAvTJjzvA+X654/U1pLeDY3I+WucnnT7GhPfDEfn/8AW/KmLdP/AKQhbGOM/jQB1K3amUDI5X/P6UJdBodwPI4/GubW8YJHKT9xMn/P0pgv2W3fbxjc3PsaAOknu0NhFOD8rEbarxXxM6KScnp9PWqW5ho9tA3zMhCkjuKhhJF1HwcKvJz/ALJOKANH7fmZotwIjYEfQjj+tTWl15t4ybs4Y8fiP8axSAGdx0fbj6Af/XNWdGYyXkb4xuGSfqRQB0bf4Uh6t9KVu/4Uh6t9KAA9D9KU/e/Ck9fpTsfN+FADe1ZV9wbj/d/9l/8ArVq9hWXfj5p/93/2WgDzrxUR5tr0/wBWT/48aKPFZAltck/6rt9TRQB9B18x6bdNHeX8rkAC5Hy/iv8AjX05Xymkm241Mccygjg9dy0AdnFdhbflucAn8P8A9dWrPUx+9K4zuI/DGK5k3Mf7tVdCPKGPm+n+FWLRyXKLgDJJyenyj/CgDr7G68yN2VvusMD8KiEjSSTQLIQQTtI7Yw1ZOnXigTLuAYuA3P1P+FSfaVhvpGVgVJPf1Qf4UAXYr8yPIxztaQjOegOKdqV201rA5YYV23Ht0ArNiljjD4J5w49uP/rVHeT+Xp8K/wC0f5A/zoAv/amN3MwPLRkfjtFNFxIs9vk/Lu/Ss1Zdty+AMyQ5H1IBphu8NatwSjY5/wB40Aa9vOdt0hb5T6eoqNpCLGAcZEmT/wB9AGqcE+26uF9Ccj1qs14fLkXn/WjH+zkKT+tAGqZCySkEHc449ORQJPKkhQ4ywz+fNZsl15blQRnzAOvXg9fxqR7wTXNqWX5chc/oKALjSyDT5owQSWI/TGP1qTzpEZfmAUqHx+H+OapCdFgfAO5XDAkH3/8ArflUlzOilARw0ZB/X+ooAek0jJAWbh3JOe/zHH86laX55znPy4NUVuA8lqW+4uc8e/8A9cUNcAzXIPA2dqAL5Y+XEu44aNgMnvxSRzYiZ9wA3Mpx7k1TS62pATgYUqcVGbgLFICR8r54+p/z+FAG+97KtnGQeEGajjvyquxAwzfkM4/lVIyLJpqdSNp3jP8An0qJCBC+5lzzg5/H/H8qAL1tfNJOEAGSWHP+8f8ACtnwzL5ssgB4jAwPyrlbJ18+A7hhSCT6fMf05rb8PzCB7mTdjIGDmgDtWY/NzSbic89qw21IKXDOWI69R/OrtvdrLu5PPHTvigC/uOfwpwb5h9KrRTCRhg9u9WB/DQAbjgVl6kxDTf7grTzwKyNXlWJZnbJAQZwOetAHnfisbHtiveJc5P1oqr4uv4NlsxzgKo5wP73vRQB9IV8d3EEs/iG+IBKMw44bnA9c19iV8ipldZunzgb0PHrkH+tAGlYWX/Ev/eZ8xVAYcVq229LyFVP34+Nx7/5FZ8DEhzn0PTtUiSMrK2TlFx0/z60ATxz3A85owv8ArACf+Aj/AD+FSG6llkDqF+YDC/jzVeB9kDoeNzbhj1ximQXAXMoHIfGD6Fv8OaANAGcsnTaU9PTg/wAqSaSeRWBA2odwBHY8VW+2ssu3khV/XkkVHNcu8jFP9XjaD1PAoA0A84miZVXPlknjttqF2nEAOxdwbOfTgVB9odGVsEAAf4UnnH9yc9259eR1oAvRPMt5OSqgsD+HOaiQuGBDLlpPm+vy8VGrt9suD6P6erf/AF6p/aH2tgnPmZ/8dFAGk7Sbn3AZBH54NSxrMbuFNyDC7+vtWZNMxYhS2D+oH/66ILmQ3UfJJI259Bn/AOvQBNM0+2QApwwzjHvjtQZbmSUqWGCDyTx0/wDr5qm0rBZgAQV/p0qUzmJA/OXTpjPUYoAtB5RbQEMmQSM8cdPanu0zTSnzFxsJ69ePpWd5ziyUEdJD/n9Km8zN3KpGPlIH8/5UAXUMrwxR+av3vXp+lM3TFJ/mygxn5up3D/GqMczokJ7h+PzpYnZFuV7cY9/84oA2bO4mUIonGzgHHvn2qk15cMsyib7r8DPbBqrDIyWcbdGyCefRRUK/Mjlsg5AJzQBbgvZkuCd/yFW4z6LWxo95MbOYvP3Oent7Vzu3JQ4YMF5xVvS3KyBGJCFj/I0AdKbp0klVZY1B/DPPsvvWnpc10xU+cgViFzwfUelYQdPOcopwOuTjHNaVlKUt0JQAiQHAPbr/AFoA6LRTdzzMBcqDz8vfp9K2fs16MkXIJxkDPX9K5/w+5/taNMDow987TXYBQGJ5596AM4Wt5ty1xt69cVVvtLmuIpvOYMpX72fcf41tMAfb6Uy6/wCPV/p/hQB4f460oy28McLbSpjOdx5GHorS8ZLuKnn/AJZ4we2HooA+gq+REJ/ta5yNp80cH/gNfXdfI6f8hm7HT96B/KgDRtmHkTA9RyPrx/jU+QDlujr835Y/nUMKlo5z27VM4LbFPXb+ff8AnQAgXdb8dm45pqqpVQQQCB/OnqubQc8s+R+dL5WZAoyAFz+X/wBfigBhGYcbTkjOc9+RU9jF5lx5Y4G3OT61EqcwnB5PTPFWLD9zJLIeSoHX6H/GgAvI1TK7sBcjH4j/ABqqSwMK993PH+fWprj5pV7gn/P8qikU+YXBOB0/76H+FAF1OPtDE8qgbPqeKpKV3xtzgnn25/wqQklyo6eWR/I1H5Li0Q7TuZyR79v60ASOVKzH+JNoH45zToQq3VngdVy36/8A1qDFl5CwOGPX3pqRss1vkHcMZ/BqAI1VTFcMQOWUfXk07YDJCh+7tXrSxx77eQKP4gT+VTRQtJc428iP+n/1qAKnlj7KGIGBISB6cVIygXZ4GGRev40gQ+WiMuep68dBT5lIuOT8wj/pn+VADTs2qvfOfpxTzGvnyov3do7/AEP8qjiTEUTHk7xu/OngeXO65ycE5/T+QoAhmbbFtHQHt069P1FMY7WmUE8HPT0/+vUzQhgpOQCQQO3A6/59KckOWlYn5ipBPuf/AK9ADA3+kJ1+ZMf0/nVrSV819hHO44z+dRLDh1GeACfoP/11LYZjIcDIYHv7UAbzW6C4ukUAgZx79KmifbDbqM4ZmPuDkD+QNZkV+N8xH8Sths+wP8qQ3YWeBSOV5PsMg/1NAHX6BKp1+MsORlR9MN/Su33rn29a8o0vURBrgcfd3kD88fyrsf7ZZmj3E5LEYxx2/wAaAOlLgA8+5qK5kU2zjvj+tc6+rMwJ+biTH4c/4Uf2iZphHzyEA9+c/wAsUAcV4sGWT0wn8moqLxq4VE55zH/J6KAPoOvkcgnUrvH3vPH9K+t88GvkxMf2veEDjzx/IUAX0YgXGB/Dke9ThdtzAuDjbzSW8IaCb+8p/T/JqfbvmGQc+T8v120AVk/1L54+f8hinSsXu4wFxlOR/wACzUwiU2v1bBPtTIhvn3t1Rdp+u7/9VAESne0eR7n67jUkTECTP3iQD+f/ANaiNMBQpBYnI/LA/UUMAJHKnIcce2QQP50AN3Dv/D+v+ePzp4wYwT05/OkMeNnHVc/+Oj/CnOu2BsZPXHuQ3/1xQA1MyCQjsp/pTlcbrRQOQSSM9OeKI49m9BnIUKfrnFN2bY45B2bnn0PFADZnxDIm04B3Hn2qbeRPbFgTleuenFE6fNM2PvAY/P8AyKai/wCkW5bOAMfjmgBImMVuTnkY3DHNTiUwTMwA5VgMc+tMC/u584wcZ9uv+FCoS8Ktj7gPHc7D/hQA0ybAsmDgO2fzH+FJMQbl27Kqjr9B/WkYAIy/e2sTn14p9wubuZUAIIOPpkUARKNsKqepI7+1Ob53eTPLAgAfSnBSIVbg4b+dKq7ZZlwOD/Q0ARFiFh6n5f0z/wDrpVdiJyB71ZSIGJMjlVxmoIseQ/HDHB5oAZGWDxsFz8pH1/yacrlQy9gW/SpAVSVeB8vPFRSJtiZgACTjHvz/AIUANyRcyqpxjp+QH8jQ0mDBz6gn8QP6VI65lUZUbkGf0/wpjDBAG3hjjP8An2oAltGIuSSx3KST+Rz/ACrp/tPJ5OSx/DpXOQAG5lAHJH9Tn+dagJCpKANrNwffgfzoA0DdN5TuD0kGefY1Zs59+pxqT90qPyAH9KyUObRtqniTByfRv/rVe0gb71JDxujVh+JH+FAFDxiu4ID6x9v9lqKd4vGQvJ6x/wDoJooA98P3T9K+SIZFk1G7CHrLwfXgV9bOQEYnoBXx5aalA13LIjrlpF2qD649qAOohOEn7cY/HingsjRnJGxB/U/1FUIrwb7gDGDgjk+oPpTxqAMkZIBJjxjJ9Pp9KAFuLoWdnGrq5DOQAgye3+NV01i3PmkRXA3H+5nnd9fpVbULr/RoVPJDk5yc/wAvaqEM+GYAc59fegDZbWrdVhIjuOBg/J06kUDWLfYxKzhgRj5PSsRp8r04Y4HP1p7XIIb6+tAGymtW3m7fLnxjGdn+z9a0WU/Zw5zwx5z6j/6wrlDcjzG+X17/AOzXQSX4EIG35S2Oo65Pt70AXCNrygk4JB/XNI0fyKezsMfnVR9RRi2U6Y/iHvTDqimGFdpypx1/GgC/IhLy4OAg29e/b9aWNG86FQfmJ3gGqjXyH7XwMNgjnpg5p0OpRi4spOqhcHB/D+dAFpx810o6Ac/nRAf3lsccBeAT6Z/+v+VUPt6p5453SdB+NSi8SCWDriMHJI9c/wCNAEmMw3DLjBkUL+Z/xqa3UPJludygH35FUBeL9gIXrI+evTpUkeoJHcSqOfl6Z9xQBaQ+Yqpzzj88U+IK24kZIxu564H/ANes5L1UeLpnIyeex+lPiv1VZTtz04B96ALqMEjumcjYmXPsNp/wrITV7Pa0e9wB328dMUr6qsdnKNgPmKe/qMVhre/LINvB96ANw6raM4yz+p+Q+lSNrFm0RJ80DdnBTnOf/r1hJd5ZTgHC44PtQt2DalCMc8c+/wBKANltatEk3FJiMf3KtQXEd3A08SnbuC4YYII//XXNPcFpDweB6/8A1q1NPvh/ZoAwSJT3PTA9qAN+3Hlzyk/eRSfy61aFxnS4BgZDnj3yKxre/wD386YG5om7n0IPb1NEmqMttEBhdrlzk9uD6UAbYux9glKgBTIWGfTcx/lWxpbn+0Yk+UDylP4g8/1rjRqR+ztGABgrjk+mPStbT9et7a5gMssfO0HOeOcHtQBe8YOqqhJ7x/8AoBorF8VeI7GdjEkitsZOV4z8nofrRQB9KSLvhdR1KkD8q+KtHt7hrmOMWh+VoyWI+6ARk17Ff/FPxppi2zXMuiYnkKBUhcsMNtzgP+POK8n0y8vzrMsEJt1kkd0O4HGRk+tAHTwWkitM23gDHU+3+NRSQvFqdhGUy0kb4xnHBxTv+J9HBcSGSxwFLEeW+fX+lVL1taF/pLubLdlliKq+OcHn19eKAK/iCR7K0gkEJfzJGUYJHp/jWdon2jUXlSKFF8oZJduDnPtVnxLJqcMFst0bQKHYDyw/BwPaqHhy+uoZrpYWtvnxnzVc9z02igDSu9MvLeK3LCEAyhRhz3J9qsNot8rshWDOf75/wqHVdSvpLEeZLYlUdWHliTcDn6VebVtReTf5umktz95/r6UAclHqsnnOzWrHOMjPTjFdfq0f2ew81kYKsmcj1zXCJdSLKzBo8lfeu21n+2Do1wZobIRKdx8tmJ/DigCp9pgEsuAxBz/B9f8AGohcIZ7dRG/+sxyp9KcJdT3bxHbDIz94+n0qvdPqC2wZ47cKJARhmyDwB2oA6WS2cWt7iM52HH51S0eM3EEJVCRxjH1zV9X1tt/+jWBDrk/vD0P/AAGsfw/LqgtAtvBauEIHzuQf5exoAtPDi+iQqdzp68Vbu4SwuCEP+oZv/Hc/yqndnVk1SyZre0DNvVR5hx0HB4q5jW3JH2ay+dSv+sboRj+76UARwRGTT7Vwp55/lSPCY9cli2nPk5Hp1qDSpNYk0eDyre0Ma5ALOQcj8KqazqOpaZqdtc3FtbbpI2RQjEggYznj3FAGldwMltK+w4RGPX05P86fawmS1eQLxtBzWfaarqWtw3UUVrbABCrbnI+9npx9Kn0mbV5dLhaG3tGjZcAtIQeD344oAyby4SK3uBsfdGxXGO4xWIupjcQYG59//rVqajLfxx6lG8cCjfucox746cc1gQzzC4j5Tlh1oA1rS+O0fuXbntn/AAoe9IMeLd/v4xk8n06VNpt3cr5qx/ZuG/ikI688cVVbU7tmit38gmGRSCx5J5/xoAkfVHhmUfZGyRzlj7j0rX8ME3ekzME5Wfb1PdR/gKw9UursXw3PAGCAfI2R3rS8LXOopb3MdrBDKpfc29iMEY5/WgDpYonTxIsJAO63zwTz3P61HqcBhsJG2qdpB4OeNy1SlvNYi1+ymNnbiZ4nRAGOGGB7e4pmt3Otyac8r2sUaKnzbGycY64x2xQBrQ2jyx5GPmQN941j/PJISmRh279PmP8AhTtK17U54IytvauFhJB+bgDjnANYi61Oztsihy7kDluP096ANa8e4glkkFgs8blcMT/sj29qKpz39+9usZhgxkHOWJ4GPSigCvqUlxA1rOLqVpWuG+ZgpIO7r061Z0q2dvMuFupY5UkLBkCdSFz/AA+5oooA6Fhdf2bj7dJtMJyvkw46f7lQXfnyR6aZLktiRCuYIRt+Ujsnv3oooAxvGUs8lvZrLNvG9iP3Ua44H91RWJoc0kUlyY2AO0ZyobPPuDRRQBpXl1PLavG7hlIPGxf8KBqdyihQyYA4+QelFFAHLBvau21DxJfXGnyxSLAVkj+b93RRQBHb6u4tYB9ltzmMckNnp9aju9WeSzlQ2tuoKbsqGzkYPr60UUAXk8XajH8ipb4UAD5D0/Oqtj4hu7JH8mO3+eVskpn+L6+5oooAfc+Jb24mtneO3zFIGXCd8HrzVgeLdRBUiO156/uqKKAIdP8AEV7aWvlRJbhSzH/VD1rM17VrnVZrX7QIh5QfbsQDrjr+VFFADtB1e50uaYQLCfMA3eZGD0z0q/YeJb2xslghitdik43RAmiigCjqGsTXX9oPLDbF54wGYRAYx6elc7byFLmJ9qkhhwRwaKKANGPVJIZZnSCAFscbOBx25qpLeSTyBnVMggZC0UUAF/dPdXHmOqKdo+4MDvWjo+sTaZDKsNvbOdxO6WPcfp9OKKKALU3ia5nu7eV7Sy3QOxXER5yOc8+1OufFt5NbPGbOwCurK22E9CD70UUAZ2navNYy74oYGxCVw6Fgcnvz1qCS/aaVS8MG4yk7gmD24oooAmi1eaBQscFuMk5ymew96KKKAP/Z', actual: None,'nomearquivo', expected: '5c644671e450c223d1750e50.jpg', actual: None",
     "output_type": "error",
     "traceback": [
      "\u001b[0;31m---------------------------------------------------------------------------\u001b[0m",
      "\u001b[0;31mAssertionError\u001b[0m                            Traceback (most recent call last)",
      "\u001b[0;32m<ipython-input-132-24497372adc5>\u001b[0m in \u001b[0;36m<module>\u001b[0;34m\u001b[0m\n\u001b[1;32m      2\u001b[0m \u001b[0;34m\u001b[0m\u001b[0m\n\u001b[1;32m      3\u001b[0m \u001b[0mcase\u001b[0m \u001b[0;34m=\u001b[0m \u001b[0mTestCase\u001b[0m\u001b[0;34m(\u001b[0m\u001b[0;34m)\u001b[0m\u001b[0;34m\u001b[0m\u001b[0m\n\u001b[0;32m----> 4\u001b[0;31m \u001b[0mcase\u001b[0m\u001b[0;34m.\u001b[0m\u001b[0massertDictContainsSubset\u001b[0m\u001b[0;34m(\u001b[0m\u001b[0minspecoes\u001b[0m\u001b[0;34m[\u001b[0m\u001b[0;36m0\u001b[0m\u001b[0;34m]\u001b[0m\u001b[0;34m[\u001b[0m\u001b[0;34m'anexos'\u001b[0m\u001b[0;34m]\u001b[0m\u001b[0;34m[\u001b[0m\u001b[0;36m0\u001b[0m\u001b[0;34m]\u001b[0m\u001b[0;34m,\u001b[0m \u001b[0mdict\u001b[0m\u001b[0;34m(\u001b[0m\u001b[0mr\u001b[0m\u001b[0;34m.\u001b[0m\u001b[0mjson\u001b[0m\u001b[0;34m(\u001b[0m\u001b[0;34m)\u001b[0m\u001b[0;34m)\u001b[0m\u001b[0;34m[\u001b[0m\u001b[0;34m'anexos'\u001b[0m\u001b[0;34m]\u001b[0m\u001b[0;34m[\u001b[0m\u001b[0;36m0\u001b[0m\u001b[0;34m]\u001b[0m\u001b[0;34m)\u001b[0m\u001b[0;34m\u001b[0m\u001b[0m\n\u001b[0m",
      "\u001b[0;32m/usr/lib/python3.5/unittest/case.py\u001b[0m in \u001b[0;36massertDictContainsSubset\u001b[0;34m(self, subset, dictionary, msg)\u001b[0m\n\u001b[1;32m   1137\u001b[0m             \u001b[0mstandardMsg\u001b[0m \u001b[0;34m+=\u001b[0m \u001b[0;34m'Mismatched values: %s'\u001b[0m \u001b[0;34m%\u001b[0m \u001b[0;34m','\u001b[0m\u001b[0;34m.\u001b[0m\u001b[0mjoin\u001b[0m\u001b[0;34m(\u001b[0m\u001b[0mmismatched\u001b[0m\u001b[0;34m)\u001b[0m\u001b[0;34m\u001b[0m\u001b[0m\n\u001b[1;32m   1138\u001b[0m \u001b[0;34m\u001b[0m\u001b[0m\n\u001b[0;32m-> 1139\u001b[0;31m         \u001b[0mself\u001b[0m\u001b[0;34m.\u001b[0m\u001b[0mfail\u001b[0m\u001b[0;34m(\u001b[0m\u001b[0mself\u001b[0m\u001b[0;34m.\u001b[0m\u001b[0m_formatMessage\u001b[0m\u001b[0;34m(\u001b[0m\u001b[0mmsg\u001b[0m\u001b[0;34m,\u001b[0m \u001b[0mstandardMsg\u001b[0m\u001b[0;34m)\u001b[0m\u001b[0;34m)\u001b[0m\u001b[0;34m\u001b[0m\u001b[0m\n\u001b[0m\u001b[1;32m   1140\u001b[0m \u001b[0;34m\u001b[0m\u001b[0m\n\u001b[1;32m   1141\u001b[0m \u001b[0;34m\u001b[0m\u001b[0m\n",
      "\u001b[0;32m/usr/lib/python3.5/unittest/case.py\u001b[0m in \u001b[0;36mfail\u001b[0;34m(self, msg)\u001b[0m\n\u001b[1;32m    663\u001b[0m     \u001b[0;32mdef\u001b[0m \u001b[0mfail\u001b[0m\u001b[0;34m(\u001b[0m\u001b[0mself\u001b[0m\u001b[0;34m,\u001b[0m \u001b[0mmsg\u001b[0m\u001b[0;34m=\u001b[0m\u001b[0;32mNone\u001b[0m\u001b[0;34m)\u001b[0m\u001b[0;34m:\u001b[0m\u001b[0;34m\u001b[0m\u001b[0m\n\u001b[1;32m    664\u001b[0m         \u001b[0;34m\"\"\"Fail immediately, with the given message.\"\"\"\u001b[0m\u001b[0;34m\u001b[0m\u001b[0m\n\u001b[0;32m--> 665\u001b[0;31m         \u001b[0;32mraise\u001b[0m \u001b[0mself\u001b[0m\u001b[0;34m.\u001b[0m\u001b[0mfailureException\u001b[0m\u001b[0;34m(\u001b[0m\u001b[0mmsg\u001b[0m\u001b[0;34m)\u001b[0m\u001b[0;34m\u001b[0m\u001b[0m\n\u001b[0m\u001b[1;32m    666\u001b[0m \u001b[0;34m\u001b[0m\u001b[0m\n\u001b[1;32m    667\u001b[0m     \u001b[0;32mdef\u001b[0m \u001b[0massertFalse\u001b[0m\u001b[0;34m(\u001b[0m\u001b[0mself\u001b[0m\u001b[0;34m,\u001b[0m \u001b[0mexpr\u001b[0m\u001b[0;34m,\u001b[0m \u001b[0mmsg\u001b[0m\u001b[0;34m=\u001b[0m\u001b[0;32mNone\u001b[0m\u001b[0;34m)\u001b[0m\u001b[0;34m:\u001b[0m\u001b[0;34m\u001b[0m\u001b[0m\n",
      "\u001b[0;31mAssertionError\u001b[0m: Mismatched values: 'content', expected: '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', actual: None,'nomearquivo', expected: '5c644671e450c223d1750e50.jpg', actual: None"
     ]
    }
   ],
   "source": [
    "from unittest import TestCase\n",
    "\n",
    "case = TestCase()\n",
    "case.assertDictContainsSubset(inspecoes[0]['anexos'][0], dict(r.json())['anexos'][0])\n"
   ]
  },
  {
   "cell_type": "markdown",
   "metadata": {},
   "source": [
    "# Endpoints para anexar arquivo por form/multidata"
   ]
  },
  {
   "cell_type": "markdown",
   "metadata": {},
   "source": [
    "### Primeiro envia um Evento SEM anexos (sem campos content, contentType e nomearquivo)"
   ]
  },
  {
   "cell_type": "code",
   "execution_count": 130,
   "metadata": {},
   "outputs": [
    {
     "name": "stdout",
     "output_type": "stream",
     "text": [
      "201\n",
      "{\n",
      "  \"detail\": 5505847247187500122,\n",
      "  \"status\": 201,\n",
      "  \"title\": \"Evento incluido\"\n",
      "}\n",
      "\n"
     ]
    }
   ],
   "source": [
    "r = requests.post(HOME + 'inspecaonaoinvasiva',\n",
    "                  json=inspecao_modelo)\n",
    "print(r.status_code)\n",
    "print(r.text)"
   ]
  },
  {
   "cell_type": "code",
   "execution_count": 131,
   "metadata": {},
   "outputs": [
    {
     "name": "stdout",
     "output_type": "stream",
     "text": [
      "200\n",
      "{'dataevento': '2019-05-28T12:18:41.204000+00:00', 'tipodocumentotransporte': 'CE', 'time_created': '2019-06-02T11:30:19+00:00', 'ID': 1, 'anexos': [{'datamodificacao': '2019-05-31T02:55:50.300000+00:00', 'content': None, 'nomearquivo': None, 'contentType': None, 'datacriacao': '2019-05-31T02:55:50.300000+00:00'}], 'operadorevento': 'string', 'recinto': '00001', 'placasemireboque': 'TST5678', 'dataregistro': '2019-05-28T12:18:41.204000+00:00', 'hash': 5505847247187500122, 'capturaautomatica': True, 'IDEvento': 0, 'retificador': False, 'documentotransporte': '150', 'numero': 'TESTE1234', 'operadorregistro': 'string', 'identificadores': [{'identificador': 'string'}], 'request_IP': '127.0.0.1', 'placa': 'TST1234'}\n"
     ]
    }
   ],
   "source": [
    "r = requests.get(HOME + 'inspecaonaoinvasiva/0')\n",
    "print(r.status_code)\n",
    "print(r.json())"
   ]
  },
  {
   "cell_type": "code",
   "execution_count": 133,
   "metadata": {},
   "outputs": [
    {
     "ename": "AssertionError",
     "evalue": "Mismatched values: 'dataevento', expected: '2019-05-28T12:18:41.204Z', actual: '2019-05-28T12:18:41.204000+00:00','anexos', expected: [{'datamodificacao': '2019-05-31T02:55:50.300000+00:00', 'content': '', 'nomearquivo': '', 'contentType': '', 'datacriacao': '2019-05-31T02:55:50.300000+00:00'}], actual: [{'datamodificacao': '2019-05-31T02:55:50.300000+00:00', 'content': None, 'nomearquivo': None, 'contentType': None, 'datacriacao': '2019-05-31T02:55:50.300000+00:00'}],'dataregistro', expected: '2019-05-28T12:18:41.204Z', actual: '2019-05-28T12:18:41.204000+00:00'",
     "output_type": "error",
     "traceback": [
      "\u001b[0;31m---------------------------------------------------------------------------\u001b[0m",
      "\u001b[0;31mAssertionError\u001b[0m                            Traceback (most recent call last)",
      "\u001b[0;32m<ipython-input-133-37e116626d1f>\u001b[0m in \u001b[0;36m<module>\u001b[0;34m\u001b[0m\n\u001b[0;32m----> 1\u001b[0;31m \u001b[0mcase\u001b[0m\u001b[0;34m.\u001b[0m\u001b[0massertDictContainsSubset\u001b[0m\u001b[0;34m(\u001b[0m\u001b[0minspecao_modelo\u001b[0m\u001b[0;34m,\u001b[0m \u001b[0mr\u001b[0m\u001b[0;34m.\u001b[0m\u001b[0mjson\u001b[0m\u001b[0;34m(\u001b[0m\u001b[0;34m)\u001b[0m\u001b[0;34m)\u001b[0m\u001b[0;34m\u001b[0m\u001b[0m\n\u001b[0m",
      "\u001b[0;32m/usr/lib/python3.5/unittest/case.py\u001b[0m in \u001b[0;36massertDictContainsSubset\u001b[0;34m(self, subset, dictionary, msg)\u001b[0m\n\u001b[1;32m   1137\u001b[0m             \u001b[0mstandardMsg\u001b[0m \u001b[0;34m+=\u001b[0m \u001b[0;34m'Mismatched values: %s'\u001b[0m \u001b[0;34m%\u001b[0m \u001b[0;34m','\u001b[0m\u001b[0;34m.\u001b[0m\u001b[0mjoin\u001b[0m\u001b[0;34m(\u001b[0m\u001b[0mmismatched\u001b[0m\u001b[0;34m)\u001b[0m\u001b[0;34m\u001b[0m\u001b[0m\n\u001b[1;32m   1138\u001b[0m \u001b[0;34m\u001b[0m\u001b[0m\n\u001b[0;32m-> 1139\u001b[0;31m         \u001b[0mself\u001b[0m\u001b[0;34m.\u001b[0m\u001b[0mfail\u001b[0m\u001b[0;34m(\u001b[0m\u001b[0mself\u001b[0m\u001b[0;34m.\u001b[0m\u001b[0m_formatMessage\u001b[0m\u001b[0;34m(\u001b[0m\u001b[0mmsg\u001b[0m\u001b[0;34m,\u001b[0m \u001b[0mstandardMsg\u001b[0m\u001b[0;34m)\u001b[0m\u001b[0;34m)\u001b[0m\u001b[0;34m\u001b[0m\u001b[0m\n\u001b[0m\u001b[1;32m   1140\u001b[0m \u001b[0;34m\u001b[0m\u001b[0m\n\u001b[1;32m   1141\u001b[0m \u001b[0;34m\u001b[0m\u001b[0m\n",
      "\u001b[0;32m/usr/lib/python3.5/unittest/case.py\u001b[0m in \u001b[0;36mfail\u001b[0;34m(self, msg)\u001b[0m\n\u001b[1;32m    663\u001b[0m     \u001b[0;32mdef\u001b[0m \u001b[0mfail\u001b[0m\u001b[0;34m(\u001b[0m\u001b[0mself\u001b[0m\u001b[0;34m,\u001b[0m \u001b[0mmsg\u001b[0m\u001b[0;34m=\u001b[0m\u001b[0;32mNone\u001b[0m\u001b[0;34m)\u001b[0m\u001b[0;34m:\u001b[0m\u001b[0;34m\u001b[0m\u001b[0m\n\u001b[1;32m    664\u001b[0m         \u001b[0;34m\"\"\"Fail immediately, with the given message.\"\"\"\u001b[0m\u001b[0;34m\u001b[0m\u001b[0m\n\u001b[0;32m--> 665\u001b[0;31m         \u001b[0;32mraise\u001b[0m \u001b[0mself\u001b[0m\u001b[0;34m.\u001b[0m\u001b[0mfailureException\u001b[0m\u001b[0;34m(\u001b[0m\u001b[0mmsg\u001b[0m\u001b[0;34m)\u001b[0m\u001b[0;34m\u001b[0m\u001b[0m\n\u001b[0m\u001b[1;32m    666\u001b[0m \u001b[0;34m\u001b[0m\u001b[0m\n\u001b[1;32m    667\u001b[0m     \u001b[0;32mdef\u001b[0m \u001b[0massertFalse\u001b[0m\u001b[0;34m(\u001b[0m\u001b[0mself\u001b[0m\u001b[0;34m,\u001b[0m \u001b[0mexpr\u001b[0m\u001b[0;34m,\u001b[0m \u001b[0mmsg\u001b[0m\u001b[0;34m=\u001b[0m\u001b[0;32mNone\u001b[0m\u001b[0;34m)\u001b[0m\u001b[0;34m:\u001b[0m\u001b[0;34m\u001b[0m\u001b[0m\n",
      "\u001b[0;31mAssertionError\u001b[0m: Mismatched values: 'dataevento', expected: '2019-05-28T12:18:41.204Z', actual: '2019-05-28T12:18:41.204000+00:00','anexos', expected: [{'datamodificacao': '2019-05-31T02:55:50.300000+00:00', 'content': '', 'nomearquivo': '', 'contentType': '', 'datacriacao': '2019-05-31T02:55:50.300000+00:00'}], actual: [{'datamodificacao': '2019-05-31T02:55:50.300000+00:00', 'content': None, 'nomearquivo': None, 'contentType': None, 'datacriacao': '2019-05-31T02:55:50.300000+00:00'}],'dataregistro', expected: '2019-05-28T12:18:41.204Z', actual: '2019-05-28T12:18:41.204000+00:00'"
     ]
    }
   ],
   "source": [
    "case.assertDictContainsSubset(inspecao_modelo, r.json())"
   ]
  },
  {
   "cell_type": "code",
   "execution_count": null,
   "metadata": {},
   "outputs": [],
   "source": [
    "files = {'file': (images[0], image, 'image/jpeg')}\n",
    "headers = {}\n",
    "data = {'IDEvento': 0, 'tipoevento': 'InspecaonaoInvasiva'}\n",
    "# headers['Content-Type'] = 'image/jpeg'\n",
    "r = requests.post(HOME + 'upload_file',\n",
    "                  data=data,\n",
    "                  files=files,\n",
    "                  headers=headers)\n",
    "print(r.status_code)\n",
    "print(r.text)"
   ]
  }
 ],
 "metadata": {
  "kernelspec": {
   "display_name": "Python 3",
   "language": "python",
   "name": "python3"
  },
  "language_info": {
   "codemirror_mode": {
    "name": "ipython",
    "version": 3
   },
   "file_extension": ".py",
   "mimetype": "text/x-python",
   "name": "python",
   "nbconvert_exporter": "python",
   "pygments_lexer": "ipython3",
   "version": "3.5.2"
  }
 },
 "nbformat": 4,
 "nbformat_minor": 2
}
