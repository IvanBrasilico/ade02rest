{
 "cells": [
  {
   "cell_type": "code",
   "execution_count": 1,
   "metadata": {},
   "outputs": [],
   "source": [
    "import requests\n",
    "from unittest import TestCase\n",
    "\n",
    "case = TestCase()\n",
    "HOME = 'http://localhost:8000/'"
   ]
  },
  {
   "cell_type": "code",
   "execution_count": 2,
   "metadata": {},
   "outputs": [],
   "source": [
    "pesagem = {'IDEvento': 1,\n",
    " 'capturaautomatica': False,\n",
    " 'conteiner': None,\n",
    " 'dataevento': '2019-05-24T14:49:24.258000Z',\n",
    " 'dataregistro': '2019-05-24T14:49:24.258000Z',\n",
    " 'documentotransporte': 'string',\n",
    " 'operadorevento': 'string',\n",
    " 'operadorregistro': 'string',\n",
    " 'pesobalanca': 0,\n",
    " 'pesobrutodeclarado': 0,\n",
    " 'placa': 'string',\n",
    " 'placasemireboque': 'string',\n",
    " 'taraconjunto': 0,\n",
    " 'tipodocumentotransporte': 'CE'}\n",
    "\n",
    "posicao = {\n",
    "  \"IDEvento\": 0,\n",
    "  \"dataevento\": \"2019-05-24T16:48:21.245Z\",\n",
    "  \"dataregistro\": \"2019-05-24T16:48:21.245Z\",\n",
    "  \"operadorevento\": \"string\",\n",
    "  \"operadorregistro\": \"string\",\n",
    "  \"altura\": 0,\n",
    "  \"emconferencia\": True,\n",
    "  \"numero\": \"string\",\n",
    "  \"placa\": \"string\",\n",
    "  \"posicao\": \"string\",\n",
    "  \"solicitante\": \"RFB\"\n",
    "}\n",
    "\n",
    "acesso = {\n",
    "  \"IDEvento\": 0,\n",
    "  \"dataevento\": \"2019-05-24T16:49:17.917Z\",\n",
    "  \"dataregistro\": \"2019-05-24T16:49:17.917Z\",\n",
    "  \"operadorevento\": \"string\",\n",
    "  \"operadorregistro\": \"string\",\n",
    "  \"CTE\": \"string\",\n",
    "  \"Chassi\": \"string\",\n",
    "  \"DTC\": \"string\",\n",
    "  \"IDAgendamento\": 0,\n",
    "  \"IDGate\": \"string\",\n",
    "  \"conteineres\": [\n",
    "    {\n",
    "      \"avarias\": \"string\",\n",
    "      \"lacres\": \"string\",\n",
    "      \"numero\": \"string\",\n",
    "      \"vazio\": False\n",
    "    }\n",
    "  ],\n",
    "  \"cpfcnpjcliente\": \"string\",\n",
    "  \"cpfcnpjtransportador\": \"string\",\n",
    "  \"cpfmotorista\": \"string\",\n",
    "  \"dataliberacao\": \"2019-05-24T16:49:17.917Z\",\n",
    "  \"manifesto\": \"string\",\n",
    "  \"navioembarque\": \"string\",\n",
    "  \"nomecliente\": \"string\",\n",
    "  \"nomemotorista\": \"string\",\n",
    "  \"nometransportador\": \"string\",\n",
    "  \"ocr\": True,\n",
    "  \"paisdestino\": \"string\",\n",
    "  \"placa\": \"string\",\n",
    "  \"reboques\": [\n",
    "    {\n",
    "      \"avarias\": \"string\",\n",
    "      \"lacres\": \"string\",\n",
    "      \"placa\": \"string\",\n",
    "      \"vazio\": True\n",
    "    }\n",
    "  ],\n",
    "  \"tipooperacao\": \"Entrada\"\n",
    "}\n"
   ]
  },
  {
   "cell_type": "code",
   "execution_count": 3,
   "metadata": {},
   "outputs": [],
   "source": [
    "def _post(endpoint, payload):\n",
    "    print(endpoint)\n",
    "    rv = requests.post(HOME + endpoint,\n",
    "                   json=payload)\n",
    "    print(rv.status_code)\n",
    "    print(rv.text)\n",
    "    \n",
    "def _get(IDEvento, endpoint, payload):\n",
    "    print(endpoint + '/' + str(IDEvento))\n",
    "    rv = requests.get(HOME + endpoint + '/' + str(IDEvento))\n",
    "    print(rv.status_code)\n",
    "    print(rv.json())\n",
    "    if rv.status_code == 200:\n",
    "        try:\n",
    "            case.assertDictContainsSubset(rv.json(), payload)        \n",
    "            case.assertDictEqual(rv.json(), payload)        \n",
    "        except AssertionError as err:\n",
    "            print(err)\n"
   ]
  },
  {
   "cell_type": "code",
   "execution_count": 4,
   "metadata": {},
   "outputs": [
    {
     "name": "stdout",
     "output_type": "stream",
     "text": [
      "acessoveiculo\n",
      "200\n",
      "\"Evento incluido\"\n",
      "\n",
      "pesagemmaritimo\n",
      "200\n",
      "\n",
      "posicaoconteiner\n",
      "200\n",
      "\n"
     ]
    }
   ],
   "source": [
    "endpoints = ['acessoveiculo', 'pesagemmaritimo', 'posicaoconteiner']\n",
    "payloads = [acesso, pesagem, posicao]\n",
    "for endpoint, payload in zip(endpoints, payloads):\n",
    "    _post(endpoint, payload)\n",
    "    "
   ]
  },
  {
   "cell_type": "code",
   "execution_count": 5,
   "metadata": {},
   "outputs": [
    {
     "name": "stdout",
     "output_type": "stream",
     "text": [
      "acessoveiculo/0\n",
      "200\n",
      "{'conteineres': [{'numero': 'string', 'vazio': False, 'avarias': 'string', 'lacres': 'string'}], 'IDGate': 'string', 'placa': 'string', 'dataregistro': '2019-05-24T16:49:17.917000+00:00', 'ID': 0, 'reboques': [{'vazio': True, 'placa': 'string', 'avarias': 'string', 'lacres': 'string'}], 'operadorregistro': 'string', 'operadorevento': 'string', 'dataevento': '2019-05-24T16:49:17.917000+00:00', 'IDEvento': 0}\n",
      "Missing: 'ID'; Mismatched values: 'dataregistro', expected: '2019-05-24T16:49:17.917000+00:00', actual: '2019-05-24T16:49:17.917Z','dataevento', expected: '2019-05-24T16:49:17.917000+00:00', actual: '2019-05-24T16:49:17.917Z'\n",
      "pesagemmaritimo/1\n",
      "200\n",
      "{'pesobrutodeclarado': 0, 'placasemireboque': 'string', 'pesobalanca': 0, 'dataregistro': '2019-05-24T14:49:24.258000Z', 'taraconjunto': 0, 'tipodocumentotransporte': 'CE', 'operadorregistro': 'string', 'IDEvento': 1, 'documentotransporte': 'string', 'conteiner': None, 'placa': 'string', 'capturaautomatica': False, 'operadorevento': 'string', 'dataevento': '2019-05-24T14:49:24.258000Z'}\n",
      "posicaoconteiner/0\n",
      "200\n",
      "{'solicitante': 'RFB', 'altura': 0, 'conteiner': None, 'dataregistro': '2019-05-24T16:48:21.245000Z', 'placa': 'string', 'emconferencia': False, 'posicao': 'string', 'operadorregistro': 'string', 'operadorevento': 'string', 'dataevento': '2019-05-24T16:48:21.245000Z', 'IDEvento': 0}\n",
      "Missing: 'conteiner'; Mismatched values: 'dataregistro', expected: '2019-05-24T16:48:21.245000Z', actual: '2019-05-24T16:48:21.245Z','emconferencia', expected: False, actual: True,'dataevento', expected: '2019-05-24T16:48:21.245000Z', actual: '2019-05-24T16:48:21.245Z'\n"
     ]
    }
   ],
   "source": [
    "for endpoint, payload in zip(endpoints, payloads):\n",
    "    _get(payload['IDEvento'], endpoint, payload)\n"
   ]
  },
  {
   "cell_type": "code",
   "execution_count": null,
   "metadata": {},
   "outputs": [],
   "source": []
  },
  {
   "cell_type": "code",
   "execution_count": null,
   "metadata": {},
   "outputs": [],
   "source": []
  }
 ],
 "metadata": {
  "kernelspec": {
   "display_name": "Python 3",
   "language": "python",
   "name": "python3"
  },
  "language_info": {
   "codemirror_mode": {
    "name": "ipython",
    "version": 3
   },
   "file_extension": ".py",
   "mimetype": "text/x-python",
   "name": "python",
   "nbconvert_exporter": "python",
   "pygments_lexer": "ipython3",
   "version": "3.5.2"
  }
 },
 "nbformat": 4,
 "nbformat_minor": 2
}
