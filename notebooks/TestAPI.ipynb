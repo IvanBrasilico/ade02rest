{
 "cells": [
  {
   "cell_type": "code",
   "execution_count": 41,
   "metadata": {},
   "outputs": [],
   "source": [
    "import requests\n",
    "from unittest import TestCase\n",
    "from json import JSONDecodeError\n",
    "\n",
    "case = TestCase()\n",
    "HOME = 'http://localhost:8000/'\n",
    "# HOME = 'https://api-recintos.herokuapp.com/'"
   ]
  },
  {
   "cell_type": "code",
   "execution_count": 42,
   "metadata": {},
   "outputs": [],
   "source": [
    "pesagem = {'IDEvento': 1,\n",
    " 'capturaautomatica': False,\n",
    " 'conteiner': None,\n",
    " 'dataevento': '2019-05-24T14:49:24.258000Z',\n",
    " 'dataregistro': '2019-05-24T14:49:24.258000Z',\n",
    " 'documentotransporte': 'string',\n",
    " 'operadorevento': 'string',\n",
    " 'operadorregistro': 'string',\n",
    " 'pesobalanca': 0,\n",
    " 'pesobrutodeclarado': 0,\n",
    " 'placa': 'string',\n",
    " 'placasemireboque': 'string',\n",
    " 'taraconjunto': 0,\n",
    " 'tipodocumentotransporte': 'CE'}\n",
    "\n",
    "posicao = {\n",
    "  \"IDEvento\": 0,\n",
    "  \"dataevento\": \"2019-05-24T16:48:21.245Z\",\n",
    "  \"dataregistro\": \"2019-05-24T16:48:21.245Z\",\n",
    "  \"operadorevento\": \"string\",\n",
    "  \"operadorregistro\": \"string\",\n",
    "  \"altura\": 0,\n",
    "  \"emconferencia\": True,\n",
    "  \"numero\": \"string\",\n",
    "  \"placa\": \"string\",\n",
    "  \"posicao\": \"string\",\n",
    "  \"solicitante\": \"RFB\"\n",
    "}\n",
    "\n",
    "acesso = {\n",
    "  \"IDEvento\": 0,\n",
    "  \"dataevento\": \"2019-05-24T16:49:17.917Z\",\n",
    "  \"dataregistro\": \"2019-05-24T16:49:17.917Z\",\n",
    "  \"operadorevento\": \"string\",\n",
    "  \"operadorregistro\": \"string\",\n",
    "  \"CTE\": \"string\",\n",
    "  \"Chassi\": \"string\",\n",
    "  \"DTC\": \"string\",\n",
    "  \"IDAgendamento\": 0,\n",
    "  \"IDGate\": \"string\",\n",
    "  \"conteineres\": [\n",
    "    {\n",
    "      \"avarias\": \"string\",\n",
    "      \"lacres\": \"string\",\n",
    "      \"numero\": \"string\",\n",
    "      \"vazio\": False\n",
    "    }\n",
    "  ],\n",
    "  \"cpfcnpjcliente\": \"string\",\n",
    "  \"cpfcnpjtransportador\": \"string\",\n",
    "  \"cpfmotorista\": \"string\",\n",
    "  \"dataliberacao\": \"2019-05-24T16:49:17.917Z\",\n",
    "  \"manifesto\": \"string\",\n",
    "  \"navioembarque\": \"string\",\n",
    "  \"nomecliente\": \"string\",\n",
    "  \"nomemotorista\": \"string\",\n",
    "  \"nometransportador\": \"string\",\n",
    "  \"ocr\": True,\n",
    "  \"paisdestino\": \"string\",\n",
    "  \"placa\": \"string\",\n",
    "  \"reboques\": [\n",
    "    {\n",
    "      \"avarias\": \"string\",\n",
    "      \"lacres\": \"string\",\n",
    "      \"placa\": \"string\",\n",
    "      \"vazio\": True\n",
    "    }\n",
    "  ],\n",
    "  \"tipooperacao\": \"Entrada\"\n",
    "}\n"
   ]
  },
  {
   "cell_type": "code",
   "execution_count": 43,
   "metadata": {},
   "outputs": [],
   "source": [
    "def _post(endpoint, payload):\n",
    "    print(endpoint)\n",
    "    rv = requests.post(HOME + endpoint,\n",
    "                   json=payload)\n",
    "    print(rv.status_code)\n",
    "    print(rv.text)\n",
    "    \n",
    "def _get(IDEvento, endpoint, payload):\n",
    "    print(endpoint + '/' + str(IDEvento))\n",
    "    rv = requests.get(HOME + endpoint + '/' + str(IDEvento))\n",
    "    print(rv.status_code)\n",
    "    try:\n",
    "        print(rv.json())\n",
    "    except JSONDecodeError:\n",
    "        print(rv.text)\n",
    "    if rv.status_code == 200:\n",
    "        try:\n",
    "            case.assertDictContainsSubset(rv.json(), payload)        \n",
    "            case.assertDictEqual(rv.json(), payload)        \n",
    "        except AssertionError as err:\n",
    "            print(err)\n"
   ]
  },
  {
   "cell_type": "code",
   "execution_count": 44,
   "metadata": {},
   "outputs": [
    {
     "name": "stdout",
     "output_type": "stream",
     "text": [
      "acessoveiculo\n",
      "405\n",
      "\"(sqlite3.IntegrityError) UNIQUE constraint failed: acessosveiculo.IDEvento, acessosveiculo.ID\\n[SQL: INSERT INTO acessosveiculo (\\\"IDEvento\\\", dataevento, operadorevento, dataregistro, operadorregistro, \\\"ID\\\", placa, \\\"IDGate\\\", cpfmotorista) VALUES (?, ?, ?, ?, ?, ?, ?, ?, ?)]\\n[parameters: (0, '2019-05-24 16:49:17.917000', 'string', '2019-05-24 16:49:17.917000', 'string', 0, 'string', 'string', None)]\\n(Background on this error at: http://sqlalche.me/e/gkpj)\"\n",
      "\n",
      "pesagemmaritimo\n",
      "405\n",
      "\"(sqlite3.IntegrityError) UNIQUE constraint failed: pesagensmaritimo.IDEvento, pesagensmaritimo.ID\\n[SQL: INSERT INTO pesagensmaritimo (\\\"IDEvento\\\", dataevento, operadorevento, dataregistro, operadorregistro, \\\"ID\\\", documentotransporte, tipodocumentotransporte, conteiner, placa, placasemireboque, pesobrutodeclarado, taraconjunto, pesobalanca, capturaautomatica) VALUES (?, ?, ?, ?, ?, ?, ?, ?, ?, ?, ?, ?, ?, ?, ?)]\\n[parameters: (1, '2019-05-24 14:49:24.258000', 'string', '2019-05-24 14:49:24.258000', 'string', 1, 'string', 'CE', None, 'string', 'string', 0, 0, 0, 0)]\\n(Background on this error at: http://sqlalche.me/e/gkpj)\"\n",
      "\n",
      "posicaoconteiner\n",
      "405\n",
      "\"(sqlite3.IntegrityError) UNIQUE constraint failed: posicoesconteiner.IDEvento, posicoesconteiner.ID\\n[SQL: INSERT INTO posicoesconteiner (\\\"IDEvento\\\", dataevento, operadorevento, dataregistro, operadorregistro, \\\"ID\\\", conteiner, placa, posicao, altura, emconferencia, solicitante) VALUES (?, ?, ?, ?, ?, ?, ?, ?, ?, ?, ?, ?)]\\n[parameters: (0, '2019-05-24 16:48:21.245000', 'string', '2019-05-24 16:48:21.245000', 'string', 0, None, 'string', 'string', 0, 0, 'RFB')]\\n(Background on this error at: http://sqlalche.me/e/gkpj)\"\n",
      "\n"
     ]
    }
   ],
   "source": [
    "endpoints = ['acessoveiculo', 'pesagemmaritimo', 'posicaoconteiner']\n",
    "payloads = [acesso, pesagem, posicao]\n",
    "for endpoint, payload in zip(endpoints, payloads):\n",
    "    _post(endpoint, payload)\n",
    "    "
   ]
  },
  {
   "cell_type": "code",
   "execution_count": 45,
   "metadata": {},
   "outputs": [
    {
     "name": "stdout",
     "output_type": "stream",
     "text": [
      "acessoveiculo/0\n",
      "200\n",
      "{'dataregistro': '2019-05-24T16:49:17.917000+00:00', 'ID': 0, 'operadorevento': 'string', 'IDGate': 'string', 'reboques': [{'placa': 'string', 'avarias': 'string', 'lacres': 'string', 'vazio': True}], 'dataevento': '2019-05-24T16:49:17.917000+00:00', 'IDEvento': 0, 'placa': 'string', 'conteineres': [{'avarias': 'string', 'numero': 'string', 'lacres': 'string', 'vazio': False}], 'operadorregistro': 'string'}\n",
      "Missing: 'ID'; Mismatched values: 'dataregistro', expected: '2019-05-24T16:49:17.917000+00:00', actual: '2019-05-24T16:49:17.917Z','dataevento', expected: '2019-05-24T16:49:17.917000+00:00', actual: '2019-05-24T16:49:17.917Z'\n",
      "pesagemmaritimo/1\n",
      "200\n",
      "{'dataregistro': '2019-05-24T14:49:24.258000Z', 'operadorevento': 'string', 'taraconjunto': 0, 'placasemireboque': 'string', 'dataevento': '2019-05-24T14:49:24.258000Z', 'pesobrutodeclarado': 0, 'conteiner': None, 'operadorregistro': 'string', 'tipodocumentotransporte': 'CE', 'documentotransporte': 'string', 'capturaautomatica': False, 'placa': 'string', 'IDEvento': 1, 'pesobalanca': 0}\n",
      "posicaoconteiner/0\n",
      "200\n",
      "{'posicao': 'string', 'dataregistro': '2019-05-24T16:48:21.245000Z', 'emconferencia': False, 'solicitante': 'RFB', 'operadorevento': 'string', 'placa': 'string', 'dataevento': '2019-05-24T16:48:21.245000Z', 'IDEvento': 0, 'conteiner': None, 'altura': 0, 'operadorregistro': 'string'}\n",
      "Missing: 'conteiner'; Mismatched values: 'dataregistro', expected: '2019-05-24T16:48:21.245000Z', actual: '2019-05-24T16:48:21.245Z','emconferencia', expected: False, actual: True,'dataevento', expected: '2019-05-24T16:48:21.245000Z', actual: '2019-05-24T16:48:21.245Z'\n"
     ]
    }
   ],
   "source": [
    "for endpoint, payload in zip(endpoints, payloads):\n",
    "    _get(payload['IDEvento'], endpoint, payload)\n"
   ]
  },
  {
   "cell_type": "code",
   "execution_count": null,
   "metadata": {},
   "outputs": [],
   "source": []
  },
  {
   "cell_type": "code",
   "execution_count": null,
   "metadata": {},
   "outputs": [],
   "source": []
  }
 ],
 "metadata": {
  "kernelspec": {
   "display_name": "Python 3",
   "language": "python",
   "name": "python3"
  },
  "language_info": {
   "codemirror_mode": {
    "name": "ipython",
    "version": 3
   },
   "file_extension": ".py",
   "mimetype": "text/x-python",
   "name": "python",
   "nbconvert_exporter": "python",
   "pygments_lexer": "ipython3",
   "version": "3.5.2"
  }
 },
 "nbformat": 4,
 "nbformat_minor": 2
}
