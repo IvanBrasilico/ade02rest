{
 "cells": [
  {
   "cell_type": "code",
   "execution_count": 1,
   "metadata": {},
   "outputs": [],
   "source": [
    "import requests\n",
    "\n",
    "\n",
    "LOCAL = 'http://localhost:8000/'\n",
    "REMOTE = 'https://api-recintos.herokuapp.com/'\n",
    "HOME = LOCAL"
   ]
  },
  {
   "cell_type": "code",
   "execution_count": 12,
   "metadata": {},
   "outputs": [
    {
     "name": "stdout",
     "output_type": "stream",
     "text": [
      "404\n",
      "[\n",
      "  {\n",
      "    \"detail\": \"Evento n\\u00e3o encontrado.\", \n",
      "    \"status\": 404, \n",
      "    \"title\": \"Evento ou recurso nao encontrado\"\n",
      "  }, \n",
      "  404\n",
      "]\n",
      "\n"
     ]
    }
   ],
   "source": [
    "data = {'tipoevento': 'InspecaonaoInvasiva'}\n",
    "# data = {}\n",
    "\n",
    "r = requests.get(HOME + 'get_file', data=data)\n",
    "print(r.status_code)\n",
    "print(r.text)"
   ]
  },
  {
   "cell_type": "code",
   "execution_count": null,
   "metadata": {},
   "outputs": [],
   "source": []
  }
 ],
 "metadata": {
  "kernelspec": {
   "display_name": "Python 3",
   "language": "python",
   "name": "python3"
  },
  "language_info": {
   "codemirror_mode": {
    "name": "ipython",
    "version": 3
   },
   "file_extension": ".py",
   "mimetype": "text/x-python",
   "name": "python",
   "nbconvert_exporter": "python",
   "pygments_lexer": "ipython3",
   "version": "3.6.8"
  }
 },
 "nbformat": 4,
 "nbformat_minor": 2
}
