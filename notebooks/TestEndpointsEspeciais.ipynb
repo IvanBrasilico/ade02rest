{
 "cells": [
  {
   "cell_type": "code",
   "execution_count": 1,
   "metadata": {},
   "outputs": [],
   "source": [
    "import os\n",
    "import requests\n",
    "import datetime\n",
    "import time\n",
    "from IPython import display\n",
    "from PIL import Image\n",
    "HOME = 'http://localhost:8000/'"
   ]
  },
  {
   "cell_type": "markdown",
   "metadata": {},
   "source": [
    "## Endpoint para pegar posicoes do conteiner entre datas (opcionalmente com altura especificada)"
   ]
  },
  {
   "cell_type": "code",
   "execution_count": 3,
   "metadata": {},
   "outputs": [
    {
     "name": "stdout",
     "output_type": "stream",
     "text": [
      "201\n",
      "201\n"
     ]
    }
   ],
   "source": [
    "posicaoconteiner = {\n",
    "  \"dataevento\": \"2019-05-24T16:48:21.245Z\",\n",
    "  \"dataregistro\": \"2019-05-24T16:48:21.245Z\",\n",
    "  \"operadorevento\": \"string\",\n",
    "  \"operadorregistro\": \"string\",\n",
    "  \"retificador\": False,\n",
    "  \"altura\": 0,\n",
    "  \"emconferencia\": True,\n",
    "  \"numero\": \"string\",\n",
    "  \"placa\": \"string\",\n",
    "  \"posicao\": \"string\",\n",
    "  \"solicitante\": \"RFB\"\n",
    "}\n",
    "for r in range(2):\n",
    "    posicaoconteiner['IDEvento'] = 10000 + r\n",
    "    posicaoconteiner['altura'] = r\n",
    "    r = requests.post(HOME + 'posicaoconteiner',\n",
    "                      json=posicaoconteiner)\n",
    "    print(r.status_code)"
   ]
  },
  {
   "cell_type": "code",
   "execution_count": 4,
   "metadata": {},
   "outputs": [
    {
     "name": "stdout",
     "output_type": "stream",
     "text": [
      "200\n",
      "[\n",
      "  {\n",
      "    \"ID\": 1, \n",
      "    \"IDEvento\": 10000, \n",
      "    \"altura\": 0, \n",
      "    \"dataevento\": \"2019-05-24T16:48:21.245000Z\", \n",
      "    \"dataregistro\": \"2019-05-24T16:48:21.245000Z\", \n",
      "    \"emconferencia\": true, \n",
      "    \"hash\": 1847396208045307072, \n",
      "    \"numero\": \"string\", \n",
      "    \"operadorevento\": \"string\", \n",
      "    \"operadorregistro\": \"string\", \n",
      "    \"placa\": \"string\", \n",
      "    \"posicao\": \"string\", \n",
      "    \"recinto\": \"00001\", \n",
      "    \"request_IP\": \"127.0.0.1\", \n",
      "    \"retificador\": false, \n",
      "    \"solicitante\": \"RFB\", \n",
      "    \"time_created\": \"2019-06-05T12:10:14.091623Z\"\n",
      "  }, \n",
      "  {\n",
      "    \"ID\": 2, \n",
      "    \"IDEvento\": 10001, \n",
      "    \"altura\": 1, \n",
      "    \"dataevento\": \"2019-05-24T16:48:21.245000Z\", \n",
      "    \"dataregistro\": \"2019-05-24T16:48:21.245000Z\", \n",
      "    \"emconferencia\": true, \n",
      "    \"hash\": 8369283374595106196, \n",
      "    \"numero\": \"string\", \n",
      "    \"operadorevento\": \"string\", \n",
      "    \"operadorregistro\": \"string\", \n",
      "    \"placa\": \"string\", \n",
      "    \"posicao\": \"string\", \n",
      "    \"recinto\": \"00001\", \n",
      "    \"request_IP\": \"127.0.0.1\", \n",
      "    \"retificador\": false, \n",
      "    \"solicita\n"
     ]
    }
   ],
   "source": [
    "query = {'recinto': '00001',\n",
    "         'datainicial': '2019-01-01',\n",
    "         'datafinal': datetime.datetime.now().isoformat()}\n",
    "r = requests.post(HOME + 'posicaoconteiner/list',\n",
    "                  json=query)\n",
    "print(r.status_code)\n",
    "print(r.text[:1000])"
   ]
  },
  {
   "cell_type": "code",
   "execution_count": 5,
   "metadata": {},
   "outputs": [
    {
     "name": "stdout",
     "output_type": "stream",
     "text": [
      "200\n",
      "[\n",
      "  {\n",
      "    \"ID\": 1, \n",
      "    \"IDEvento\": 10000, \n",
      "    \"altura\": 0, \n",
      "    \"dataevento\": \"2019-05-24T16:48:21.245000Z\", \n",
      "    \"dataregistro\": \"2019-05-24T16:48:21.245000Z\", \n",
      "    \"emconferencia\": true, \n",
      "    \"hash\": 1847396208045307072, \n",
      "    \"numero\": \"string\", \n",
      "    \"operadorevento\": \"string\", \n",
      "    \"operadorregistro\": \"string\", \n",
      "    \"placa\": \"string\", \n",
      "    \"posicao\": \"string\", \n",
      "    \"recinto\": \"00001\", \n",
      "    \"request_IP\": \"127.0.0.1\", \n",
      "    \"retificador\": false, \n",
      "    \"solicitante\": \"RFB\", \n",
      "    \"time_created\": \"2019-06-05T12:10:14.091623Z\"\n",
      "  }\n",
      "]\n",
      "\n"
     ]
    }
   ],
   "source": [
    "query['altura'] = 0\n",
    "r = requests.post(HOME + 'posicaoconteiner/list',\n",
    "                  json=query)\n",
    "print(r.status_code)\n",
    "print(r.text[:1000])"
   ]
  },
  {
   "cell_type": "code",
   "execution_count": null,
   "metadata": {},
   "outputs": [],
   "source": []
  },
  {
   "cell_type": "code",
   "execution_count": null,
   "metadata": {},
   "outputs": [],
   "source": []
  }
 ],
 "metadata": {
  "kernelspec": {
   "display_name": "Python 3",
   "language": "python",
   "name": "python3"
  },
  "language_info": {
   "codemirror_mode": {
    "name": "ipython",
    "version": 3
   },
   "file_extension": ".py",
   "mimetype": "text/x-python",
   "name": "python",
   "nbconvert_exporter": "python",
   "pygments_lexer": "ipython3",
   "version": "3.6.8"
  }
 },
 "nbformat": 4,
 "nbformat_minor": 2
}
